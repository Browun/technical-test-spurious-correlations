{
 "cells": [
  {
   "cell_type": "code",
   "execution_count": 1,
   "metadata": {},
   "outputs": [
    {
     "data": {
      "text/html": [
       "<script>requirejs.config({paths: { 'plotly': ['https://cdn.plot.ly/plotly-latest.min']},});if(!window.Plotly) {{require(['plotly'],function(plotly) {window.Plotly=plotly;});}}</script>"
      ],
      "text/vnd.plotly.v1+html": [
       "<script>requirejs.config({paths: { 'plotly': ['https://cdn.plot.ly/plotly-latest.min']},});if(!window.Plotly) {{require(['plotly'],function(plotly) {window.Plotly=plotly;});}}</script>"
      ]
     },
     "metadata": {},
     "output_type": "display_data"
    }
   ],
   "source": [
    "import matplotlib.pyplot as plt\n",
    "import pandas as pd\n",
    "import plotly.plotly as py\n",
    "import plotly.graph_objs as go\n",
    "import cufflinks as cf\n",
    "\n",
    "from plotly import __version__\n",
    "from plotly.offline import download_plotlyjs, init_notebook_mode, plot, iplot\n",
    "\n",
    "init_notebook_mode(connected=True)"
   ]
  },
  {
   "cell_type": "markdown",
   "metadata": {},
   "source": [
    "## Imports\n",
    "Import modules utilised, specifically **Pandas** for data handling and **Plotly** for interactive data visualisation. \n",
    "\n",
    "I also have defined options within Plotly that allow for the graphs to be saved and manipulated locally for portability."
   ]
  },
  {
   "cell_type": "code",
   "execution_count": 2,
   "metadata": {},
   "outputs": [],
   "source": [
    "df = pd.read_csv(\"Tesla-BusinessProductivity.csv\")"
   ]
  },
  {
   "cell_type": "code",
   "execution_count": 3,
   "metadata": {},
   "outputs": [
    {
     "data": {
      "text/plain": [
       "(23, 3)"
      ]
     },
     "execution_count": 3,
     "metadata": {},
     "output_type": "execute_result"
    }
   ],
   "source": [
    "df.shape"
   ]
  },
  {
   "cell_type": "markdown",
   "metadata": {},
   "source": [
    "## Data Shape\n",
    "Showing 23 instances of of data in each dataset, of which there are 3 in total."
   ]
  },
  {
   "cell_type": "code",
   "execution_count": 4,
   "metadata": {},
   "outputs": [
    {
     "data": {
      "text/html": [
       "<div>\n",
       "<style scoped>\n",
       "    .dataframe tbody tr th:only-of-type {\n",
       "        vertical-align: middle;\n",
       "    }\n",
       "\n",
       "    .dataframe tbody tr th {\n",
       "        vertical-align: top;\n",
       "    }\n",
       "\n",
       "    .dataframe thead th {\n",
       "        text-align: right;\n",
       "    }\n",
       "</style>\n",
       "<table border=\"1\" class=\"dataframe\">\n",
       "  <thead>\n",
       "    <tr style=\"text-align: right;\">\n",
       "      <th></th>\n",
       "      <th>Tesla Sales</th>\n",
       "      <th>Real Output per Hour</th>\n",
       "    </tr>\n",
       "  </thead>\n",
       "  <tbody>\n",
       "    <tr>\n",
       "      <th>count</th>\n",
       "      <td>23.000000</td>\n",
       "      <td>23.000000</td>\n",
       "    </tr>\n",
       "    <tr>\n",
       "      <th>mean</th>\n",
       "      <td>13925.130435</td>\n",
       "      <td>106.461478</td>\n",
       "    </tr>\n",
       "    <tr>\n",
       "      <th>std</th>\n",
       "      <td>9136.266914</td>\n",
       "      <td>1.573489</td>\n",
       "    </tr>\n",
       "    <tr>\n",
       "      <th>min</th>\n",
       "      <td>321.000000</td>\n",
       "      <td>104.059000</td>\n",
       "    </tr>\n",
       "    <tr>\n",
       "      <th>25%</th>\n",
       "      <td>6674.500000</td>\n",
       "      <td>105.108500</td>\n",
       "    </tr>\n",
       "    <tr>\n",
       "      <th>50%</th>\n",
       "      <td>11507.000000</td>\n",
       "      <td>106.668000</td>\n",
       "    </tr>\n",
       "    <tr>\n",
       "      <th>75%</th>\n",
       "      <td>22100.000000</td>\n",
       "      <td>107.523500</td>\n",
       "    </tr>\n",
       "    <tr>\n",
       "      <th>max</th>\n",
       "      <td>29980.000000</td>\n",
       "      <td>109.050000</td>\n",
       "    </tr>\n",
       "  </tbody>\n",
       "</table>\n",
       "</div>"
      ],
      "text/plain": [
       "        Tesla Sales  Real Output per Hour\n",
       "count     23.000000             23.000000\n",
       "mean   13925.130435            106.461478\n",
       "std     9136.266914              1.573489\n",
       "min      321.000000            104.059000\n",
       "25%     6674.500000            105.108500\n",
       "50%    11507.000000            106.668000\n",
       "75%    22100.000000            107.523500\n",
       "max    29980.000000            109.050000"
      ]
     },
     "execution_count": 4,
     "metadata": {},
     "output_type": "execute_result"
    }
   ],
   "source": [
    "df.describe()"
   ]
  },
  {
   "cell_type": "markdown",
   "metadata": {},
   "source": [
    "## Quick Descriptive Statistics\n",
    "No need to define these variables further, as they're simplistic enough:\n",
    "* Few in number, no need to sample\n",
    "* Scalar in values, not categorical or ordinal\n",
    "\n",
    "Even though we don't need to sample, best to remember that this is still assumed to be a representative sample of the true distributions of each individual dataset."
   ]
  },
  {
   "cell_type": "code",
   "execution_count": 5,
   "metadata": {
    "scrolled": true
   },
   "outputs": [
    {
     "data": {
      "text/html": [
       "<div>\n",
       "<style scoped>\n",
       "    .dataframe tbody tr th:only-of-type {\n",
       "        vertical-align: middle;\n",
       "    }\n",
       "\n",
       "    .dataframe tbody tr th {\n",
       "        vertical-align: top;\n",
       "    }\n",
       "\n",
       "    .dataframe thead th {\n",
       "        text-align: right;\n",
       "    }\n",
       "</style>\n",
       "<table border=\"1\" class=\"dataframe\">\n",
       "  <thead>\n",
       "    <tr style=\"text-align: right;\">\n",
       "      <th></th>\n",
       "      <th>Date</th>\n",
       "      <th>Tesla Sales</th>\n",
       "      <th>Real Output per Hour</th>\n",
       "    </tr>\n",
       "  </thead>\n",
       "  <tbody>\n",
       "    <tr>\n",
       "      <th>0</th>\n",
       "      <td>2012Q3</td>\n",
       "      <td>321</td>\n",
       "      <td>104.503</td>\n",
       "    </tr>\n",
       "    <tr>\n",
       "      <th>1</th>\n",
       "      <td>2012Q4</td>\n",
       "      <td>2400</td>\n",
       "      <td>104.059</td>\n",
       "    </tr>\n",
       "    <tr>\n",
       "      <th>2</th>\n",
       "      <td>2013Q1</td>\n",
       "      <td>4900</td>\n",
       "      <td>104.304</td>\n",
       "    </tr>\n",
       "    <tr>\n",
       "      <th>3</th>\n",
       "      <td>2013Q2</td>\n",
       "      <td>5150</td>\n",
       "      <td>104.147</td>\n",
       "    </tr>\n",
       "    <tr>\n",
       "      <th>4</th>\n",
       "      <td>2013Q3</td>\n",
       "      <td>5500</td>\n",
       "      <td>104.570</td>\n",
       "    </tr>\n",
       "  </tbody>\n",
       "</table>\n",
       "</div>"
      ],
      "text/plain": [
       "     Date  Tesla Sales  Real Output per Hour\n",
       "0  2012Q3          321               104.503\n",
       "1  2012Q4         2400               104.059\n",
       "2  2013Q1         4900               104.304\n",
       "3  2013Q2         5150               104.147\n",
       "4  2013Q3         5500               104.570"
      ]
     },
     "execution_count": 5,
     "metadata": {},
     "output_type": "execute_result"
    }
   ],
   "source": [
    "df.head()"
   ]
  },
  {
   "cell_type": "code",
   "execution_count": 6,
   "metadata": {},
   "outputs": [
    {
     "data": {
      "text/html": [
       "<div>\n",
       "<style scoped>\n",
       "    .dataframe tbody tr th:only-of-type {\n",
       "        vertical-align: middle;\n",
       "    }\n",
       "\n",
       "    .dataframe tbody tr th {\n",
       "        vertical-align: top;\n",
       "    }\n",
       "\n",
       "    .dataframe thead th {\n",
       "        text-align: right;\n",
       "    }\n",
       "</style>\n",
       "<table border=\"1\" class=\"dataframe\">\n",
       "  <thead>\n",
       "    <tr style=\"text-align: right;\">\n",
       "      <th></th>\n",
       "      <th>Date</th>\n",
       "      <th>Tesla Sales</th>\n",
       "      <th>Real Output per Hour</th>\n",
       "    </tr>\n",
       "  </thead>\n",
       "  <tbody>\n",
       "    <tr>\n",
       "      <th>18</th>\n",
       "      <td>2017Q1</td>\n",
       "      <td>25000</td>\n",
       "      <td>107.683</td>\n",
       "    </tr>\n",
       "    <tr>\n",
       "      <th>19</th>\n",
       "      <td>2017Q2</td>\n",
       "      <td>22000</td>\n",
       "      <td>108.142</td>\n",
       "    </tr>\n",
       "    <tr>\n",
       "      <th>20</th>\n",
       "      <td>2017Q3</td>\n",
       "      <td>26150</td>\n",
       "      <td>108.849</td>\n",
       "    </tr>\n",
       "    <tr>\n",
       "      <th>21</th>\n",
       "      <td>2017Q4</td>\n",
       "      <td>29870</td>\n",
       "      <td>108.943</td>\n",
       "    </tr>\n",
       "    <tr>\n",
       "      <th>22</th>\n",
       "      <td>2018Q1</td>\n",
       "      <td>29980</td>\n",
       "      <td>109.050</td>\n",
       "    </tr>\n",
       "  </tbody>\n",
       "</table>\n",
       "</div>"
      ],
      "text/plain": [
       "      Date  Tesla Sales  Real Output per Hour\n",
       "18  2017Q1        25000               107.683\n",
       "19  2017Q2        22000               108.142\n",
       "20  2017Q3        26150               108.849\n",
       "21  2017Q4        29870               108.943\n",
       "22  2018Q1        29980               109.050"
      ]
     },
     "execution_count": 6,
     "metadata": {},
     "output_type": "execute_result"
    }
   ],
   "source": [
    "df.tail()"
   ]
  },
  {
   "cell_type": "code",
   "execution_count": 7,
   "metadata": {},
   "outputs": [
    {
     "data": {
      "application/vnd.plotly.v1+json": {
       "data": [
        {
         "marker": {
          "color": "rgb(214, 12, 140)"
         },
         "name": "Tesla Sales",
         "type": "box",
         "y": [
          321,
          2400,
          4900,
          5150,
          5500,
          6892,
          6457,
          7579,
          7785,
          9834,
          10030,
          11507,
          11580,
          17478,
          14820,
          18345,
          24500,
          22200,
          25000,
          22000,
          26150,
          29870,
          29980
         ]
        },
        {
         "marker": {
          "color": "rgb(0, 128, 128)"
         },
         "name": "Real Output per Hour",
         "type": "box",
         "y": [
          104.50299999999999,
          104.059,
          104.304,
          104.147,
          104.57,
          105.634,
          104.78200000000001,
          105.435,
          106.53,
          105.977,
          106.762,
          107.11200000000001,
          107.429,
          106.697,
          106.415,
          106.66799999999999,
          107.305,
          107.618,
          107.68299999999999,
          108.14200000000001,
          108.84899999999999,
          108.943,
          109.05
         ]
        }
       ],
       "layout": {}
      },
      "text/html": [
       "<div id=\"611f0b22-15f6-47ad-9e76-d34f87d7e7d0\" style=\"height: 525px; width: 100%;\" class=\"plotly-graph-div\"></div><script type=\"text/javascript\">require([\"plotly\"], function(Plotly) { window.PLOTLYENV=window.PLOTLYENV || {};window.PLOTLYENV.BASE_URL=\"https://plot.ly\";Plotly.newPlot(\"611f0b22-15f6-47ad-9e76-d34f87d7e7d0\", [{\"type\": \"box\", \"y\": [321, 2400, 4900, 5150, 5500, 6892, 6457, 7579, 7785, 9834, 10030, 11507, 11580, 17478, 14820, 18345, 24500, 22200, 25000, 22000, 26150, 29870, 29980], \"name\": \"Tesla Sales\", \"marker\": {\"color\": \"rgb(214, 12, 140)\"}}, {\"type\": \"box\", \"y\": [104.50299999999999, 104.059, 104.304, 104.147, 104.57, 105.634, 104.78200000000001, 105.435, 106.53, 105.977, 106.762, 107.11200000000001, 107.429, 106.697, 106.415, 106.66799999999999, 107.305, 107.618, 107.68299999999999, 108.14200000000001, 108.84899999999999, 108.943, 109.05], \"name\": \"Real Output per Hour\", \"marker\": {\"color\": \"rgb(0, 128, 128)\"}}], {}, {\"showLink\": true, \"linkText\": \"Export to plot.ly\"})});</script>"
      ],
      "text/vnd.plotly.v1+html": [
       "<div id=\"611f0b22-15f6-47ad-9e76-d34f87d7e7d0\" style=\"height: 525px; width: 100%;\" class=\"plotly-graph-div\"></div><script type=\"text/javascript\">require([\"plotly\"], function(Plotly) { window.PLOTLYENV=window.PLOTLYENV || {};window.PLOTLYENV.BASE_URL=\"https://plot.ly\";Plotly.newPlot(\"611f0b22-15f6-47ad-9e76-d34f87d7e7d0\", [{\"type\": \"box\", \"y\": [321, 2400, 4900, 5150, 5500, 6892, 6457, 7579, 7785, 9834, 10030, 11507, 11580, 17478, 14820, 18345, 24500, 22200, 25000, 22000, 26150, 29870, 29980], \"name\": \"Tesla Sales\", \"marker\": {\"color\": \"rgb(214, 12, 140)\"}}, {\"type\": \"box\", \"y\": [104.50299999999999, 104.059, 104.304, 104.147, 104.57, 105.634, 104.78200000000001, 105.435, 106.53, 105.977, 106.762, 107.11200000000001, 107.429, 106.697, 106.415, 106.66799999999999, 107.305, 107.618, 107.68299999999999, 108.14200000000001, 108.84899999999999, 108.943, 109.05], \"name\": \"Real Output per Hour\", \"marker\": {\"color\": \"rgb(0, 128, 128)\"}}], {}, {\"showLink\": true, \"linkText\": \"Export to plot.ly\"})});</script>"
      ]
     },
     "metadata": {},
     "output_type": "display_data"
    }
   ],
   "source": [
    "y0 = df['Tesla Sales']\n",
    "y1 = df['Real Output per Hour']\n",
    "\n",
    "trace0 = go.Box(\n",
    "    y=y0,\n",
    "    name = 'Tesla Sales',\n",
    "    marker = dict(\n",
    "        color = 'rgb(214, 12, 140)',\n",
    "        )\n",
    "    )\n",
    "trace1 = go.Box(\n",
    "    y=y1,\n",
    "    name = 'Real Output per Hour',\n",
    "    marker = dict(\n",
    "        color = 'rgb(0, 128, 128)',\n",
    "        )\n",
    "    )\n",
    "\n",
    "data = [trace0, trace1]\n",
    "iplot(data)"
   ]
  },
  {
   "cell_type": "code",
   "execution_count": 55,
   "metadata": {
    "scrolled": false
   },
   "outputs": [
    {
     "ename": "PlotlyDictKeyError",
     "evalue": "'yTitle' is not allowed in 'layout'\n\nPath To Error: ['yTitle']\n\nValid attributes for 'layout' at path [] under parents []:\n\n    ['angularaxis', 'annotations', 'autosize', 'bargap', 'bargroupgap',\n    'barmode', 'barnorm', 'boxgap', 'boxgroupgap', 'boxmode', 'calendar',\n    'colorway', 'datarevision', 'direction', 'dragmode', 'font', 'geo',\n    'grid', 'height', 'hiddenlabels', 'hiddenlabelssrc', 'hidesources',\n    'hoverdistance', 'hoverlabel', 'hovermode', 'images', 'legend',\n    'mapbox', 'margin', 'orientation', 'paper_bgcolor', 'plot_bgcolor',\n    'polar', 'radialaxis', 'scene', 'selectdirection', 'separators',\n    'shapes', 'showlegend', 'sliders', 'spikedistance', 'ternary', 'title',\n    'titlefont', 'updatemenus', 'violingap', 'violingroupgap',\n    'violinmode', 'width', 'xaxis', 'yaxis']\n\nRun `<layout-object>.help('attribute')` on any of the above.\n'<layout-object>' is the object at []",
     "output_type": "error",
     "traceback": [
      "\u001b[0;31m--------------------------------------------------------------------\u001b[0m",
      "\u001b[0;31mPlotlyDictKeyError\u001b[0m                 Traceback (most recent call last)",
      "\u001b[0;32m<ipython-input-55-a01f70c3e52d>\u001b[0m in \u001b[0;36m<module>\u001b[0;34m()\u001b[0m\n\u001b[1;32m      2\u001b[0m         \u001b[0mtitle\u001b[0m\u001b[0;34m=\u001b[0m\u001b[0;34m'Comparitive Box Plots'\u001b[0m\u001b[0;34m,\u001b[0m\u001b[0;34m\u001b[0m\u001b[0m\n\u001b[1;32m      3\u001b[0m         \u001b[0myTitle\u001b[0m\u001b[0;34m=\u001b[0m\u001b[0;34m'Productivity ($)'\u001b[0m\u001b[0;34m,\u001b[0m\u001b[0;34m\u001b[0m\u001b[0m\n\u001b[0;32m----> 4\u001b[0;31m         \u001b[0msecondary_y_title\u001b[0m \u001b[0;34m=\u001b[0m \u001b[0;34m'Car Units Produced'\u001b[0m\u001b[0;34m\u001b[0m\u001b[0m\n\u001b[0m\u001b[1;32m      5\u001b[0m         )\n\u001b[1;32m      6\u001b[0m \u001b[0;34m\u001b[0m\u001b[0m\n",
      "\u001b[0;32m~/.virtualenvs/personal-sc/lib/python3.6/site-packages/plotly/graph_objs/graph_objs.py\u001b[0m in \u001b[0;36m__init__\u001b[0;34m(self, *args, **kwargs)\u001b[0m\n\u001b[1;32m    375\u001b[0m         \u001b[0md\u001b[0m \u001b[0;34m=\u001b[0m \u001b[0;34m{\u001b[0m\u001b[0mkey\u001b[0m\u001b[0;34m:\u001b[0m \u001b[0mval\u001b[0m \u001b[0;32mfor\u001b[0m \u001b[0mkey\u001b[0m\u001b[0;34m,\u001b[0m \u001b[0mval\u001b[0m \u001b[0;32min\u001b[0m \u001b[0mdict\u001b[0m\u001b[0;34m(\u001b[0m\u001b[0;34m*\u001b[0m\u001b[0margs\u001b[0m\u001b[0;34m,\u001b[0m \u001b[0;34m**\u001b[0m\u001b[0mkwargs\u001b[0m\u001b[0;34m)\u001b[0m\u001b[0;34m.\u001b[0m\u001b[0mitems\u001b[0m\u001b[0;34m(\u001b[0m\u001b[0;34m)\u001b[0m\u001b[0;34m}\u001b[0m\u001b[0;34m\u001b[0m\u001b[0m\n\u001b[1;32m    376\u001b[0m         \u001b[0;32mfor\u001b[0m \u001b[0mkey\u001b[0m\u001b[0;34m,\u001b[0m \u001b[0mval\u001b[0m \u001b[0;32min\u001b[0m \u001b[0md\u001b[0m\u001b[0;34m.\u001b[0m\u001b[0mitems\u001b[0m\u001b[0;34m(\u001b[0m\u001b[0;34m)\u001b[0m\u001b[0;34m:\u001b[0m\u001b[0;34m\u001b[0m\u001b[0m\n\u001b[0;32m--> 377\u001b[0;31m             \u001b[0mself\u001b[0m\u001b[0;34m.\u001b[0m\u001b[0m__setitem__\u001b[0m\u001b[0;34m(\u001b[0m\u001b[0mkey\u001b[0m\u001b[0;34m,\u001b[0m \u001b[0mval\u001b[0m\u001b[0;34m,\u001b[0m \u001b[0m_raise\u001b[0m\u001b[0;34m=\u001b[0m\u001b[0m_raise\u001b[0m\u001b[0;34m)\u001b[0m\u001b[0;34m\u001b[0m\u001b[0m\n\u001b[0m\u001b[1;32m    378\u001b[0m \u001b[0;34m\u001b[0m\u001b[0m\n\u001b[1;32m    379\u001b[0m     \u001b[0;32mdef\u001b[0m \u001b[0m__dir__\u001b[0m\u001b[0;34m(\u001b[0m\u001b[0mself\u001b[0m\u001b[0;34m)\u001b[0m\u001b[0;34m:\u001b[0m\u001b[0;34m\u001b[0m\u001b[0m\n",
      "\u001b[0;32m~/.virtualenvs/personal-sc/lib/python3.6/site-packages/plotly/graph_objs/graph_objs.py\u001b[0m in \u001b[0;36m__setitem__\u001b[0;34m(self, key, value, _raise)\u001b[0m\n\u001b[1;32m    426\u001b[0m                 \u001b[0;32mif\u001b[0m \u001b[0m_raise\u001b[0m\u001b[0;34m:\u001b[0m\u001b[0;34m\u001b[0m\u001b[0m\n\u001b[1;32m    427\u001b[0m                     \u001b[0mpath\u001b[0m \u001b[0;34m=\u001b[0m \u001b[0mself\u001b[0m\u001b[0;34m.\u001b[0m\u001b[0m_get_path\u001b[0m\u001b[0;34m(\u001b[0m\u001b[0;34m)\u001b[0m \u001b[0;34m+\u001b[0m \u001b[0;34m(\u001b[0m\u001b[0mkey\u001b[0m\u001b[0;34m,\u001b[0m \u001b[0;34m)\u001b[0m\u001b[0;34m\u001b[0m\u001b[0m\n\u001b[0;32m--> 428\u001b[0;31m                     \u001b[0;32mraise\u001b[0m \u001b[0mexceptions\u001b[0m\u001b[0;34m.\u001b[0m\u001b[0mPlotlyDictKeyError\u001b[0m\u001b[0;34m(\u001b[0m\u001b[0mself\u001b[0m\u001b[0;34m,\u001b[0m \u001b[0mpath\u001b[0m\u001b[0;34m)\u001b[0m\u001b[0;34m\u001b[0m\u001b[0m\n\u001b[0m\u001b[1;32m    429\u001b[0m                 \u001b[0;32mreturn\u001b[0m\u001b[0;34m\u001b[0m\u001b[0m\n\u001b[1;32m    430\u001b[0m \u001b[0;34m\u001b[0m\u001b[0m\n",
      "\u001b[0;31mPlotlyDictKeyError\u001b[0m: 'yTitle' is not allowed in 'layout'\n\nPath To Error: ['yTitle']\n\nValid attributes for 'layout' at path [] under parents []:\n\n    ['angularaxis', 'annotations', 'autosize', 'bargap', 'bargroupgap',\n    'barmode', 'barnorm', 'boxgap', 'boxgroupgap', 'boxmode', 'calendar',\n    'colorway', 'datarevision', 'direction', 'dragmode', 'font', 'geo',\n    'grid', 'height', 'hiddenlabels', 'hiddenlabelssrc', 'hidesources',\n    'hoverdistance', 'hoverlabel', 'hovermode', 'images', 'legend',\n    'mapbox', 'margin', 'orientation', 'paper_bgcolor', 'plot_bgcolor',\n    'polar', 'radialaxis', 'scene', 'selectdirection', 'separators',\n    'shapes', 'showlegend', 'sliders', 'spikedistance', 'ternary', 'title',\n    'titlefont', 'updatemenus', 'violingap', 'violingroupgap',\n    'violinmode', 'width', 'xaxis', 'yaxis']\n\nRun `<layout-object>.help('attribute')` on any of the above.\n'<layout-object>' is the object at []"
     ]
    }
   ],
   "source": [
    "fig0 = df.iplot(\n",
    "    columns=['Real Output per Hour'], \n",
    "    asFigure=True, \n",
    "    kind='box', \n",
    "    showlegend=False,\n",
    "    layout=layout,\n",
    "    )\n",
    "fig1 = df.iplot(\n",
    "    columns=['Tesla Sales', 'Real Output per Hour'],\n",
    "    asFigure=True,\n",
    "    kind='box', \n",
    "    secondary_y=['Tesla Sales'],\n",
    "    showlegend=False,\n",
    "    layout=layout,\n",
    "    title='Comparitive Box Plots',\n",
    "    yTitle='Productivity ($)',\n",
    "    secondary_y_title = 'Car Units Produced'\n",
    ")\n",
    "\n",
    "\n",
    "\n",
    "fig1['data'].extend(fig0['data'])\n",
    "\n",
    "iplot(fig1)"
   ]
  },
  {
   "cell_type": "code",
   "execution_count": 9,
   "metadata": {
    "scrolled": false
   },
   "outputs": [
    {
     "data": {
      "application/vnd.plotly.v1+json": {
       "data": [
        {
         "type": "scatter",
         "x": [
          "2012Q3",
          "2012Q4",
          "2013Q1",
          "2013Q2",
          "2013Q3",
          "2013Q4",
          "2014Q1",
          "2014Q2",
          "2014Q3",
          "2014Q4",
          "2015Q1",
          "2015Q2",
          "2015Q3",
          "2015Q4",
          "2016Q1",
          "2016Q2",
          "2016Q3",
          "2016Q4",
          "2017Q1",
          "2017Q2",
          "2017Q3",
          "2017Q4",
          "2018Q1"
         ],
         "y": [
          321,
          2400,
          4900,
          5150,
          5500,
          6892,
          6457,
          7579,
          7785,
          9834,
          10030,
          11507,
          11580,
          17478,
          14820,
          18345,
          24500,
          22200,
          25000,
          22000,
          26150,
          29870,
          29980
         ]
        }
       ],
       "layout": {}
      },
      "text/html": [
       "<div id=\"d9599aa3-75f5-455d-9263-ca288dfa1bcc\" style=\"height: 525px; width: 100%;\" class=\"plotly-graph-div\"></div><script type=\"text/javascript\">require([\"plotly\"], function(Plotly) { window.PLOTLYENV=window.PLOTLYENV || {};window.PLOTLYENV.BASE_URL=\"https://plot.ly\";Plotly.newPlot(\"d9599aa3-75f5-455d-9263-ca288dfa1bcc\", [{\"type\": \"scatter\", \"x\": [\"2012Q3\", \"2012Q4\", \"2013Q1\", \"2013Q2\", \"2013Q3\", \"2013Q4\", \"2014Q1\", \"2014Q2\", \"2014Q3\", \"2014Q4\", \"2015Q1\", \"2015Q2\", \"2015Q3\", \"2015Q4\", \"2016Q1\", \"2016Q2\", \"2016Q3\", \"2016Q4\", \"2017Q1\", \"2017Q2\", \"2017Q3\", \"2017Q4\", \"2018Q1\"], \"y\": [321, 2400, 4900, 5150, 5500, 6892, 6457, 7579, 7785, 9834, 10030, 11507, 11580, 17478, 14820, 18345, 24500, 22200, 25000, 22000, 26150, 29870, 29980]}], {}, {\"showLink\": true, \"linkText\": \"Export to plot.ly\"})});</script>"
      ],
      "text/vnd.plotly.v1+html": [
       "<div id=\"d9599aa3-75f5-455d-9263-ca288dfa1bcc\" style=\"height: 525px; width: 100%;\" class=\"plotly-graph-div\"></div><script type=\"text/javascript\">require([\"plotly\"], function(Plotly) { window.PLOTLYENV=window.PLOTLYENV || {};window.PLOTLYENV.BASE_URL=\"https://plot.ly\";Plotly.newPlot(\"d9599aa3-75f5-455d-9263-ca288dfa1bcc\", [{\"type\": \"scatter\", \"x\": [\"2012Q3\", \"2012Q4\", \"2013Q1\", \"2013Q2\", \"2013Q3\", \"2013Q4\", \"2014Q1\", \"2014Q2\", \"2014Q3\", \"2014Q4\", \"2015Q1\", \"2015Q2\", \"2015Q3\", \"2015Q4\", \"2016Q1\", \"2016Q2\", \"2016Q3\", \"2016Q4\", \"2017Q1\", \"2017Q2\", \"2017Q3\", \"2017Q4\", \"2018Q1\"], \"y\": [321, 2400, 4900, 5150, 5500, 6892, 6457, 7579, 7785, 9834, 10030, 11507, 11580, 17478, 14820, 18345, 24500, 22200, 25000, 22000, 26150, 29870, 29980]}], {}, {\"showLink\": true, \"linkText\": \"Export to plot.ly\"})});</script>"
      ]
     },
     "metadata": {},
     "output_type": "display_data"
    }
   ],
   "source": [
    "iplot([go.Scatter(x=df['Date'], y=df['Tesla Sales'])])"
   ]
  },
  {
   "cell_type": "code",
   "execution_count": 10,
   "metadata": {
    "scrolled": false
   },
   "outputs": [
    {
     "data": {
      "application/vnd.plotly.v1+json": {
       "data": [
        {
         "type": "scatter",
         "x": [
          "2012Q3",
          "2012Q4",
          "2013Q1",
          "2013Q2",
          "2013Q3",
          "2013Q4",
          "2014Q1",
          "2014Q2",
          "2014Q3",
          "2014Q4",
          "2015Q1",
          "2015Q2",
          "2015Q3",
          "2015Q4",
          "2016Q1",
          "2016Q2",
          "2016Q3",
          "2016Q4",
          "2017Q1",
          "2017Q2",
          "2017Q3",
          "2017Q4",
          "2018Q1"
         ],
         "y": [
          104.50299999999999,
          104.059,
          104.304,
          104.147,
          104.57,
          105.634,
          104.78200000000001,
          105.435,
          106.53,
          105.977,
          106.762,
          107.11200000000001,
          107.429,
          106.697,
          106.415,
          106.66799999999999,
          107.305,
          107.618,
          107.68299999999999,
          108.14200000000001,
          108.84899999999999,
          108.943,
          109.05
         ]
        }
       ],
       "layout": {}
      },
      "text/html": [
       "<div id=\"d2330f30-56f9-4232-bc39-89a4acb16382\" style=\"height: 525px; width: 100%;\" class=\"plotly-graph-div\"></div><script type=\"text/javascript\">require([\"plotly\"], function(Plotly) { window.PLOTLYENV=window.PLOTLYENV || {};window.PLOTLYENV.BASE_URL=\"https://plot.ly\";Plotly.newPlot(\"d2330f30-56f9-4232-bc39-89a4acb16382\", [{\"type\": \"scatter\", \"x\": [\"2012Q3\", \"2012Q4\", \"2013Q1\", \"2013Q2\", \"2013Q3\", \"2013Q4\", \"2014Q1\", \"2014Q2\", \"2014Q3\", \"2014Q4\", \"2015Q1\", \"2015Q2\", \"2015Q3\", \"2015Q4\", \"2016Q1\", \"2016Q2\", \"2016Q3\", \"2016Q4\", \"2017Q1\", \"2017Q2\", \"2017Q3\", \"2017Q4\", \"2018Q1\"], \"y\": [104.50299999999999, 104.059, 104.304, 104.147, 104.57, 105.634, 104.78200000000001, 105.435, 106.53, 105.977, 106.762, 107.11200000000001, 107.429, 106.697, 106.415, 106.66799999999999, 107.305, 107.618, 107.68299999999999, 108.14200000000001, 108.84899999999999, 108.943, 109.05]}], {}, {\"showLink\": true, \"linkText\": \"Export to plot.ly\"})});</script>"
      ],
      "text/vnd.plotly.v1+html": [
       "<div id=\"d2330f30-56f9-4232-bc39-89a4acb16382\" style=\"height: 525px; width: 100%;\" class=\"plotly-graph-div\"></div><script type=\"text/javascript\">require([\"plotly\"], function(Plotly) { window.PLOTLYENV=window.PLOTLYENV || {};window.PLOTLYENV.BASE_URL=\"https://plot.ly\";Plotly.newPlot(\"d2330f30-56f9-4232-bc39-89a4acb16382\", [{\"type\": \"scatter\", \"x\": [\"2012Q3\", \"2012Q4\", \"2013Q1\", \"2013Q2\", \"2013Q3\", \"2013Q4\", \"2014Q1\", \"2014Q2\", \"2014Q3\", \"2014Q4\", \"2015Q1\", \"2015Q2\", \"2015Q3\", \"2015Q4\", \"2016Q1\", \"2016Q2\", \"2016Q3\", \"2016Q4\", \"2017Q1\", \"2017Q2\", \"2017Q3\", \"2017Q4\", \"2018Q1\"], \"y\": [104.50299999999999, 104.059, 104.304, 104.147, 104.57, 105.634, 104.78200000000001, 105.435, 106.53, 105.977, 106.762, 107.11200000000001, 107.429, 106.697, 106.415, 106.66799999999999, 107.305, 107.618, 107.68299999999999, 108.14200000000001, 108.84899999999999, 108.943, 109.05]}], {}, {\"showLink\": true, \"linkText\": \"Export to plot.ly\"})});</script>"
      ]
     },
     "metadata": {},
     "output_type": "display_data"
    }
   ],
   "source": [
    "iplot([go.Scatter(x=df['Date'], y=df['Real Output per Hour'])])"
   ]
  },
  {
   "cell_type": "code",
   "execution_count": 11,
   "metadata": {},
   "outputs": [
    {
     "data": {
      "text/html": [
       "<div>\n",
       "<style scoped>\n",
       "    .dataframe tbody tr th:only-of-type {\n",
       "        vertical-align: middle;\n",
       "    }\n",
       "\n",
       "    .dataframe tbody tr th {\n",
       "        vertical-align: top;\n",
       "    }\n",
       "\n",
       "    .dataframe thead th {\n",
       "        text-align: right;\n",
       "    }\n",
       "</style>\n",
       "<table border=\"1\" class=\"dataframe\">\n",
       "  <thead>\n",
       "    <tr style=\"text-align: right;\">\n",
       "      <th></th>\n",
       "      <th>Date</th>\n",
       "      <th>Tesla Sales</th>\n",
       "      <th>Real Output per Hour</th>\n",
       "    </tr>\n",
       "  </thead>\n",
       "  <tbody>\n",
       "    <tr>\n",
       "      <th>18</th>\n",
       "      <td>2017Q1</td>\n",
       "      <td>25000</td>\n",
       "      <td>107.683</td>\n",
       "    </tr>\n",
       "    <tr>\n",
       "      <th>19</th>\n",
       "      <td>2017Q2</td>\n",
       "      <td>22000</td>\n",
       "      <td>108.142</td>\n",
       "    </tr>\n",
       "    <tr>\n",
       "      <th>20</th>\n",
       "      <td>2017Q3</td>\n",
       "      <td>26150</td>\n",
       "      <td>108.849</td>\n",
       "    </tr>\n",
       "    <tr>\n",
       "      <th>21</th>\n",
       "      <td>2017Q4</td>\n",
       "      <td>29870</td>\n",
       "      <td>108.943</td>\n",
       "    </tr>\n",
       "    <tr>\n",
       "      <th>22</th>\n",
       "      <td>2018Q1</td>\n",
       "      <td>29980</td>\n",
       "      <td>109.050</td>\n",
       "    </tr>\n",
       "  </tbody>\n",
       "</table>\n",
       "</div>"
      ],
      "text/plain": [
       "      Date  Tesla Sales  Real Output per Hour\n",
       "18  2017Q1        25000               107.683\n",
       "19  2017Q2        22000               108.142\n",
       "20  2017Q3        26150               108.849\n",
       "21  2017Q4        29870               108.943\n",
       "22  2018Q1        29980               109.050"
      ]
     },
     "execution_count": 11,
     "metadata": {},
     "output_type": "execute_result"
    }
   ],
   "source": [
    "df.tail()"
   ]
  },
  {
   "cell_type": "code",
   "execution_count": null,
   "metadata": {},
   "outputs": [],
   "source": []
  }
 ],
 "metadata": {
  "kernelspec": {
   "display_name": "Python 3",
   "language": "python",
   "name": "python3"
  },
  "language_info": {
   "codemirror_mode": {
    "name": "ipython",
    "version": 3
   },
   "file_extension": ".py",
   "mimetype": "text/x-python",
   "name": "python",
   "nbconvert_exporter": "python",
   "pygments_lexer": "ipython3",
   "version": "3.6.5"
  }
 },
 "nbformat": 4,
 "nbformat_minor": 2
}
