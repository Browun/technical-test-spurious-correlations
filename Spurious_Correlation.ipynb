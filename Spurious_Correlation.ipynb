{
 "cells": [
  {
   "cell_type": "code",
   "execution_count": 1,
   "metadata": {},
   "outputs": [
    {
     "data": {
      "text/html": [
       "<script>requirejs.config({paths: { 'plotly': ['https://cdn.plot.ly/plotly-latest.min']},});if(!window.Plotly) {{require(['plotly'],function(plotly) {window.Plotly=plotly;});}}</script>"
      ],
      "text/vnd.plotly.v1+html": [
       "<script>requirejs.config({paths: { 'plotly': ['https://cdn.plot.ly/plotly-latest.min']},});if(!window.Plotly) {{require(['plotly'],function(plotly) {window.Plotly=plotly;});}}</script>"
      ]
     },
     "metadata": {},
     "output_type": "display_data"
    }
   ],
   "source": [
    "import matplotlib.pyplot as plt\n",
    "import pandas as pd\n",
    "import plotly.plotly as py\n",
    "import plotly.graph_objs as go\n",
    "import cufflinks as cf\n",
    "import statsmodels.api as sm\n",
    "\n",
    "from plotly import __version__\n",
    "from plotly.offline import download_plotlyjs, init_notebook_mode, plot, iplot\n",
    "\n",
    "init_notebook_mode(connected=True)"
   ]
  },
  {
   "cell_type": "markdown",
   "metadata": {},
   "source": [
    "## Imports\n",
    "Import modules utilised, specifically **Pandas** for data handling and **Plotly** for interactive data visualisation. \n",
    "\n",
    "I also have defined options within Plotly that allow for the graphs to be saved and manipulated locally for portability."
   ]
  },
  {
   "cell_type": "code",
   "execution_count": 2,
   "metadata": {},
   "outputs": [],
   "source": [
    "df = pd.read_csv(\"TeslaProduction-BusinessProductivity.csv\")"
   ]
  },
  {
   "cell_type": "code",
   "execution_count": 3,
   "metadata": {},
   "outputs": [
    {
     "data": {
      "text/plain": [
       "(23, 3)"
      ]
     },
     "execution_count": 3,
     "metadata": {},
     "output_type": "execute_result"
    }
   ],
   "source": [
    "df.shape"
   ]
  },
  {
   "cell_type": "markdown",
   "metadata": {},
   "source": [
    "## Data Shape\n",
    "Showing 23 instances of of data in each dataset, of which there are 3 in total."
   ]
  },
  {
   "cell_type": "code",
   "execution_count": 4,
   "metadata": {
    "scrolled": true
   },
   "outputs": [
    {
     "data": {
      "text/html": [
       "<div>\n",
       "<style scoped>\n",
       "    .dataframe tbody tr th:only-of-type {\n",
       "        vertical-align: middle;\n",
       "    }\n",
       "\n",
       "    .dataframe tbody tr th {\n",
       "        vertical-align: top;\n",
       "    }\n",
       "\n",
       "    .dataframe thead th {\n",
       "        text-align: right;\n",
       "    }\n",
       "</style>\n",
       "<table border=\"1\" class=\"dataframe\">\n",
       "  <thead>\n",
       "    <tr style=\"text-align: right;\">\n",
       "      <th></th>\n",
       "      <th>Tesla Production</th>\n",
       "      <th>Real Output per Hour</th>\n",
       "    </tr>\n",
       "  </thead>\n",
       "  <tbody>\n",
       "    <tr>\n",
       "      <th>count</th>\n",
       "      <td>23.000000</td>\n",
       "      <td>23.000000</td>\n",
       "    </tr>\n",
       "    <tr>\n",
       "      <th>mean</th>\n",
       "      <td>13925.130435</td>\n",
       "      <td>106.461478</td>\n",
       "    </tr>\n",
       "    <tr>\n",
       "      <th>std</th>\n",
       "      <td>9136.266914</td>\n",
       "      <td>1.573489</td>\n",
       "    </tr>\n",
       "    <tr>\n",
       "      <th>min</th>\n",
       "      <td>321.000000</td>\n",
       "      <td>104.059000</td>\n",
       "    </tr>\n",
       "    <tr>\n",
       "      <th>25%</th>\n",
       "      <td>6674.500000</td>\n",
       "      <td>105.108500</td>\n",
       "    </tr>\n",
       "    <tr>\n",
       "      <th>50%</th>\n",
       "      <td>11507.000000</td>\n",
       "      <td>106.668000</td>\n",
       "    </tr>\n",
       "    <tr>\n",
       "      <th>75%</th>\n",
       "      <td>22100.000000</td>\n",
       "      <td>107.523500</td>\n",
       "    </tr>\n",
       "    <tr>\n",
       "      <th>max</th>\n",
       "      <td>29980.000000</td>\n",
       "      <td>109.050000</td>\n",
       "    </tr>\n",
       "  </tbody>\n",
       "</table>\n",
       "</div>"
      ],
      "text/plain": [
       "       Tesla Production  Real Output per Hour\n",
       "count         23.000000             23.000000\n",
       "mean       13925.130435            106.461478\n",
       "std         9136.266914              1.573489\n",
       "min          321.000000            104.059000\n",
       "25%         6674.500000            105.108500\n",
       "50%        11507.000000            106.668000\n",
       "75%        22100.000000            107.523500\n",
       "max        29980.000000            109.050000"
      ]
     },
     "execution_count": 4,
     "metadata": {},
     "output_type": "execute_result"
    }
   ],
   "source": [
    "df.describe()"
   ]
  },
  {
   "cell_type": "markdown",
   "metadata": {},
   "source": [
    "## Quick Descriptive Statistics\n",
    "No need to define these variables further, as they're simplistic enough:\n",
    "* Few in number, no need to sample\n",
    "* Scalar in values, not categorical or ordinal\n",
    "\n",
    "Even though we don't need to sample, best to remember that this is still assumed to be a representative sample of the true distributions of each individual dataset."
   ]
  },
  {
   "cell_type": "code",
   "execution_count": 5,
   "metadata": {
    "scrolled": true
   },
   "outputs": [
    {
     "data": {
      "text/html": [
       "<div>\n",
       "<style scoped>\n",
       "    .dataframe tbody tr th:only-of-type {\n",
       "        vertical-align: middle;\n",
       "    }\n",
       "\n",
       "    .dataframe tbody tr th {\n",
       "        vertical-align: top;\n",
       "    }\n",
       "\n",
       "    .dataframe thead th {\n",
       "        text-align: right;\n",
       "    }\n",
       "</style>\n",
       "<table border=\"1\" class=\"dataframe\">\n",
       "  <thead>\n",
       "    <tr style=\"text-align: right;\">\n",
       "      <th></th>\n",
       "      <th>Date</th>\n",
       "      <th>Tesla Production</th>\n",
       "      <th>Real Output per Hour</th>\n",
       "    </tr>\n",
       "  </thead>\n",
       "  <tbody>\n",
       "    <tr>\n",
       "      <th>0</th>\n",
       "      <td>2012Q3</td>\n",
       "      <td>321</td>\n",
       "      <td>104.503</td>\n",
       "    </tr>\n",
       "    <tr>\n",
       "      <th>1</th>\n",
       "      <td>2012Q4</td>\n",
       "      <td>2400</td>\n",
       "      <td>104.059</td>\n",
       "    </tr>\n",
       "    <tr>\n",
       "      <th>2</th>\n",
       "      <td>2013Q1</td>\n",
       "      <td>4900</td>\n",
       "      <td>104.304</td>\n",
       "    </tr>\n",
       "    <tr>\n",
       "      <th>3</th>\n",
       "      <td>2013Q2</td>\n",
       "      <td>5150</td>\n",
       "      <td>104.147</td>\n",
       "    </tr>\n",
       "    <tr>\n",
       "      <th>4</th>\n",
       "      <td>2013Q3</td>\n",
       "      <td>5500</td>\n",
       "      <td>104.570</td>\n",
       "    </tr>\n",
       "  </tbody>\n",
       "</table>\n",
       "</div>"
      ],
      "text/plain": [
       "     Date  Tesla Production  Real Output per Hour\n",
       "0  2012Q3               321               104.503\n",
       "1  2012Q4              2400               104.059\n",
       "2  2013Q1              4900               104.304\n",
       "3  2013Q2              5150               104.147\n",
       "4  2013Q3              5500               104.570"
      ]
     },
     "execution_count": 5,
     "metadata": {},
     "output_type": "execute_result"
    }
   ],
   "source": [
    "df.head()"
   ]
  },
  {
   "cell_type": "code",
   "execution_count": 6,
   "metadata": {},
   "outputs": [
    {
     "data": {
      "text/html": [
       "<div>\n",
       "<style scoped>\n",
       "    .dataframe tbody tr th:only-of-type {\n",
       "        vertical-align: middle;\n",
       "    }\n",
       "\n",
       "    .dataframe tbody tr th {\n",
       "        vertical-align: top;\n",
       "    }\n",
       "\n",
       "    .dataframe thead th {\n",
       "        text-align: right;\n",
       "    }\n",
       "</style>\n",
       "<table border=\"1\" class=\"dataframe\">\n",
       "  <thead>\n",
       "    <tr style=\"text-align: right;\">\n",
       "      <th></th>\n",
       "      <th>Date</th>\n",
       "      <th>Tesla Production</th>\n",
       "      <th>Real Output per Hour</th>\n",
       "    </tr>\n",
       "  </thead>\n",
       "  <tbody>\n",
       "    <tr>\n",
       "      <th>18</th>\n",
       "      <td>2017Q1</td>\n",
       "      <td>25000</td>\n",
       "      <td>107.683</td>\n",
       "    </tr>\n",
       "    <tr>\n",
       "      <th>19</th>\n",
       "      <td>2017Q2</td>\n",
       "      <td>22000</td>\n",
       "      <td>108.142</td>\n",
       "    </tr>\n",
       "    <tr>\n",
       "      <th>20</th>\n",
       "      <td>2017Q3</td>\n",
       "      <td>26150</td>\n",
       "      <td>108.849</td>\n",
       "    </tr>\n",
       "    <tr>\n",
       "      <th>21</th>\n",
       "      <td>2017Q4</td>\n",
       "      <td>29870</td>\n",
       "      <td>108.943</td>\n",
       "    </tr>\n",
       "    <tr>\n",
       "      <th>22</th>\n",
       "      <td>2018Q1</td>\n",
       "      <td>29980</td>\n",
       "      <td>109.050</td>\n",
       "    </tr>\n",
       "  </tbody>\n",
       "</table>\n",
       "</div>"
      ],
      "text/plain": [
       "      Date  Tesla Production  Real Output per Hour\n",
       "18  2017Q1             25000               107.683\n",
       "19  2017Q2             22000               108.142\n",
       "20  2017Q3             26150               108.849\n",
       "21  2017Q4             29870               108.943\n",
       "22  2018Q1             29980               109.050"
      ]
     },
     "execution_count": 6,
     "metadata": {},
     "output_type": "execute_result"
    }
   ],
   "source": [
    "df.tail()"
   ]
  },
  {
   "cell_type": "code",
   "execution_count": 7,
   "metadata": {},
   "outputs": [
    {
     "data": {
      "application/vnd.plotly.v1+json": {
       "data": [
        {
         "marker": {
          "color": "rgb(214, 12, 140)"
         },
         "name": "Tesla Production",
         "type": "box",
         "y": [
          321,
          2400,
          4900,
          5150,
          5500,
          6892,
          6457,
          7579,
          7785,
          9834,
          10030,
          11507,
          11580,
          17478,
          14820,
          18345,
          24500,
          22200,
          25000,
          22000,
          26150,
          29870,
          29980
         ]
        },
        {
         "marker": {
          "color": "rgb(0, 128, 128)"
         },
         "name": "Real Output per Hour",
         "type": "box",
         "y": [
          104.50299999999999,
          104.059,
          104.304,
          104.147,
          104.57,
          105.634,
          104.78200000000001,
          105.435,
          106.53,
          105.977,
          106.762,
          107.11200000000001,
          107.429,
          106.697,
          106.415,
          106.66799999999999,
          107.305,
          107.618,
          107.68299999999999,
          108.14200000000001,
          108.84899999999999,
          108.943,
          109.05
         ]
        }
       ],
       "layout": {}
      },
      "text/html": [
       "<div id=\"0aa47e8c-ff67-495a-a3b7-63a0cc8380ad\" style=\"height: 525px; width: 100%;\" class=\"plotly-graph-div\"></div><script type=\"text/javascript\">require([\"plotly\"], function(Plotly) { window.PLOTLYENV=window.PLOTLYENV || {};window.PLOTLYENV.BASE_URL=\"https://plot.ly\";Plotly.newPlot(\"0aa47e8c-ff67-495a-a3b7-63a0cc8380ad\", [{\"type\": \"box\", \"y\": [321, 2400, 4900, 5150, 5500, 6892, 6457, 7579, 7785, 9834, 10030, 11507, 11580, 17478, 14820, 18345, 24500, 22200, 25000, 22000, 26150, 29870, 29980], \"name\": \"Tesla Production\", \"marker\": {\"color\": \"rgb(214, 12, 140)\"}}, {\"type\": \"box\", \"y\": [104.50299999999999, 104.059, 104.304, 104.147, 104.57, 105.634, 104.78200000000001, 105.435, 106.53, 105.977, 106.762, 107.11200000000001, 107.429, 106.697, 106.415, 106.66799999999999, 107.305, 107.618, 107.68299999999999, 108.14200000000001, 108.84899999999999, 108.943, 109.05], \"name\": \"Real Output per Hour\", \"marker\": {\"color\": \"rgb(0, 128, 128)\"}}], {}, {\"showLink\": true, \"linkText\": \"Export to plot.ly\"})});</script>"
      ],
      "text/vnd.plotly.v1+html": [
       "<div id=\"0aa47e8c-ff67-495a-a3b7-63a0cc8380ad\" style=\"height: 525px; width: 100%;\" class=\"plotly-graph-div\"></div><script type=\"text/javascript\">require([\"plotly\"], function(Plotly) { window.PLOTLYENV=window.PLOTLYENV || {};window.PLOTLYENV.BASE_URL=\"https://plot.ly\";Plotly.newPlot(\"0aa47e8c-ff67-495a-a3b7-63a0cc8380ad\", [{\"type\": \"box\", \"y\": [321, 2400, 4900, 5150, 5500, 6892, 6457, 7579, 7785, 9834, 10030, 11507, 11580, 17478, 14820, 18345, 24500, 22200, 25000, 22000, 26150, 29870, 29980], \"name\": \"Tesla Production\", \"marker\": {\"color\": \"rgb(214, 12, 140)\"}}, {\"type\": \"box\", \"y\": [104.50299999999999, 104.059, 104.304, 104.147, 104.57, 105.634, 104.78200000000001, 105.435, 106.53, 105.977, 106.762, 107.11200000000001, 107.429, 106.697, 106.415, 106.66799999999999, 107.305, 107.618, 107.68299999999999, 108.14200000000001, 108.84899999999999, 108.943, 109.05], \"name\": \"Real Output per Hour\", \"marker\": {\"color\": \"rgb(0, 128, 128)\"}}], {}, {\"showLink\": true, \"linkText\": \"Export to plot.ly\"})});</script>"
      ]
     },
     "metadata": {},
     "output_type": "display_data"
    }
   ],
   "source": [
    "y0 = df['Tesla Production']\n",
    "y1 = df['Real Output per Hour']\n",
    "\n",
    "trace0 = go.Box(\n",
    "    y=y0,\n",
    "    name = 'Tesla Production',\n",
    "    marker = dict(\n",
    "        color = 'rgb(214, 12, 140)',\n",
    "        )\n",
    "    )\n",
    "trace1 = go.Box(\n",
    "    y=y1,\n",
    "    name = 'Real Output per Hour',\n",
    "    marker = dict(\n",
    "        color = 'rgb(0, 128, 128)',\n",
    "        )\n",
    "    )\n",
    "\n",
    "data = [trace0, trace1]\n",
    "iplot(data)"
   ]
  },
  {
   "cell_type": "code",
   "execution_count": 8,
   "metadata": {
    "scrolled": false
   },
   "outputs": [
    {
     "data": {
      "application/vnd.plotly.v1+json": {
       "data": [
        {
         "boxpoints": false,
         "line": {
          "width": 1.3
         },
         "marker": {
          "color": "rgba(27, 7, 58, 0.8999999999999999)"
         },
         "name": "Tesla Production",
         "orientation": "v",
         "type": "box",
         "xaxis": "x1",
         "y": [
          321,
          2400,
          4900,
          5150,
          5500,
          6892,
          6457,
          7579,
          7785,
          9834,
          10030,
          11507,
          11580,
          17478,
          14820,
          18345,
          24500,
          22200,
          25000,
          22000,
          26150,
          29870,
          29980
         ],
         "yaxis": "y2"
        },
        {
         "boxpoints": false,
         "line": {
          "width": 1.3
         },
         "marker": {
          "color": "rgba(27, 7, 58, 0.7999999999999998)"
         },
         "name": "Real Output per Hour",
         "orientation": "v",
         "type": "box",
         "y": [
          104.50299999999999,
          104.059,
          104.304,
          104.147,
          104.57,
          105.634,
          104.78200000000001,
          105.435,
          106.53,
          105.977,
          106.762,
          107.11200000000001,
          107.429,
          106.697,
          106.415,
          106.66799999999999,
          107.305,
          107.618,
          107.68299999999999,
          108.14200000000001,
          108.84899999999999,
          108.943,
          109.05
         ]
        },
        {
         "boxpoints": false,
         "line": {
          "width": 1.3
         },
         "marker": {
          "color": "rgba(255, 0, 116, 0.7999999999999998)"
         },
         "name": "Real Output per Hour",
         "orientation": "v",
         "type": "box",
         "y": [
          104.50299999999999,
          104.059,
          104.304,
          104.147,
          104.57,
          105.634,
          104.78200000000001,
          105.435,
          106.53,
          105.977,
          106.762,
          107.11200000000001,
          107.429,
          106.697,
          106.415,
          106.66799999999999,
          107.305,
          107.618,
          107.68299999999999,
          108.14200000000001,
          108.84899999999999,
          108.943,
          109.05
         ]
        }
       ],
       "layout": {
        "legend": {
         "bgcolor": "#F5F6F9",
         "font": {
          "color": "#4D5663"
         }
        },
        "paper_bgcolor": "#F5F6F9",
        "plot_bgcolor": "#F5F6F9",
        "showlegend": false,
        "title": "Comparitive Box Plots",
        "titlefont": {
         "color": "#4D5663"
        },
        "xaxis1": {
         "gridcolor": "#E1E5ED",
         "showgrid": true,
         "tickfont": {
          "color": "#4D5663"
         },
         "title": "",
         "titlefont": {
          "color": "#4D5663"
         },
         "zerolinecolor": "#E1E5ED"
        },
        "yaxis1": {
         "gridcolor": "#E1E5ED",
         "showgrid": true,
         "tickfont": {
          "color": "#4D5663"
         },
         "title": "Real Productivity per Hour ($)",
         "titlefont": {
          "color": "#4D5663"
         },
         "zerolinecolor": "#E1E5ED"
        },
        "yaxis2": {
         "anchor": "x1",
         "gridcolor": "#E1E5ED",
         "overlaying": "y1",
         "showgrid": true,
         "side": "right",
         "tickfont": {
          "color": "#4D5663"
         },
         "title": "Car Units Produced",
         "titlefont": {
          "color": "#4D5663"
         },
         "zerolinecolor": "#E1E5ED"
        }
       }
      },
      "text/html": [
       "<div id=\"5ec89b74-1baf-4c09-82eb-9bcbc17055d5\" style=\"height: 525px; width: 100%;\" class=\"plotly-graph-div\"></div><script type=\"text/javascript\">require([\"plotly\"], function(Plotly) { window.PLOTLYENV=window.PLOTLYENV || {};window.PLOTLYENV.BASE_URL=\"https://plot.ly\";Plotly.newPlot(\"5ec89b74-1baf-4c09-82eb-9bcbc17055d5\", [{\"type\": \"box\", \"y\": [321, 2400, 4900, 5150, 5500, 6892, 6457, 7579, 7785, 9834, 10030, 11507, 11580, 17478, 14820, 18345, 24500, 22200, 25000, 22000, 26150, 29870, 29980], \"marker\": {\"color\": \"rgba(27, 7, 58, 0.8999999999999999)\"}, \"name\": \"Tesla Production\", \"line\": {\"width\": 1.3}, \"boxpoints\": false, \"orientation\": \"v\", \"xaxis\": \"x1\", \"yaxis\": \"y2\"}, {\"type\": \"box\", \"y\": [104.50299999999999, 104.059, 104.304, 104.147, 104.57, 105.634, 104.78200000000001, 105.435, 106.53, 105.977, 106.762, 107.11200000000001, 107.429, 106.697, 106.415, 106.66799999999999, 107.305, 107.618, 107.68299999999999, 108.14200000000001, 108.84899999999999, 108.943, 109.05], \"marker\": {\"color\": \"rgba(27, 7, 58, 0.7999999999999998)\"}, \"name\": \"Real Output per Hour\", \"line\": {\"width\": 1.3}, \"boxpoints\": false, \"orientation\": \"v\"}, {\"type\": \"box\", \"y\": [104.50299999999999, 104.059, 104.304, 104.147, 104.57, 105.634, 104.78200000000001, 105.435, 106.53, 105.977, 106.762, 107.11200000000001, 107.429, 106.697, 106.415, 106.66799999999999, 107.305, 107.618, 107.68299999999999, 108.14200000000001, 108.84899999999999, 108.943, 109.05], \"marker\": {\"color\": \"rgba(255, 0, 116, 0.7999999999999998)\"}, \"name\": \"Real Output per Hour\", \"line\": {\"width\": 1.3}, \"boxpoints\": false, \"orientation\": \"v\"}], {\"legend\": {\"bgcolor\": \"#F5F6F9\", \"font\": {\"color\": \"#4D5663\"}}, \"paper_bgcolor\": \"#F5F6F9\", \"plot_bgcolor\": \"#F5F6F9\", \"yaxis1\": {\"tickfont\": {\"color\": \"#4D5663\"}, \"gridcolor\": \"#E1E5ED\", \"titlefont\": {\"color\": \"#4D5663\"}, \"zerolinecolor\": \"#E1E5ED\", \"showgrid\": true, \"title\": \"Real Productivity per Hour ($)\"}, \"xaxis1\": {\"tickfont\": {\"color\": \"#4D5663\"}, \"gridcolor\": \"#E1E5ED\", \"titlefont\": {\"color\": \"#4D5663\"}, \"zerolinecolor\": \"#E1E5ED\", \"showgrid\": true, \"title\": \"\"}, \"titlefont\": {\"color\": \"#4D5663\"}, \"title\": \"Comparitive Box Plots\", \"showlegend\": false, \"yaxis2\": {\"tickfont\": {\"color\": \"#4D5663\"}, \"gridcolor\": \"#E1E5ED\", \"titlefont\": {\"color\": \"#4D5663\"}, \"zerolinecolor\": \"#E1E5ED\", \"showgrid\": true, \"title\": \"Car Units Produced\", \"overlaying\": \"y1\", \"side\": \"right\", \"anchor\": \"x1\"}}, {\"showLink\": true, \"linkText\": \"Export to plot.ly\"})});</script>"
      ],
      "text/vnd.plotly.v1+html": [
       "<div id=\"5ec89b74-1baf-4c09-82eb-9bcbc17055d5\" style=\"height: 525px; width: 100%;\" class=\"plotly-graph-div\"></div><script type=\"text/javascript\">require([\"plotly\"], function(Plotly) { window.PLOTLYENV=window.PLOTLYENV || {};window.PLOTLYENV.BASE_URL=\"https://plot.ly\";Plotly.newPlot(\"5ec89b74-1baf-4c09-82eb-9bcbc17055d5\", [{\"type\": \"box\", \"y\": [321, 2400, 4900, 5150, 5500, 6892, 6457, 7579, 7785, 9834, 10030, 11507, 11580, 17478, 14820, 18345, 24500, 22200, 25000, 22000, 26150, 29870, 29980], \"marker\": {\"color\": \"rgba(27, 7, 58, 0.8999999999999999)\"}, \"name\": \"Tesla Production\", \"line\": {\"width\": 1.3}, \"boxpoints\": false, \"orientation\": \"v\", \"xaxis\": \"x1\", \"yaxis\": \"y2\"}, {\"type\": \"box\", \"y\": [104.50299999999999, 104.059, 104.304, 104.147, 104.57, 105.634, 104.78200000000001, 105.435, 106.53, 105.977, 106.762, 107.11200000000001, 107.429, 106.697, 106.415, 106.66799999999999, 107.305, 107.618, 107.68299999999999, 108.14200000000001, 108.84899999999999, 108.943, 109.05], \"marker\": {\"color\": \"rgba(27, 7, 58, 0.7999999999999998)\"}, \"name\": \"Real Output per Hour\", \"line\": {\"width\": 1.3}, \"boxpoints\": false, \"orientation\": \"v\"}, {\"type\": \"box\", \"y\": [104.50299999999999, 104.059, 104.304, 104.147, 104.57, 105.634, 104.78200000000001, 105.435, 106.53, 105.977, 106.762, 107.11200000000001, 107.429, 106.697, 106.415, 106.66799999999999, 107.305, 107.618, 107.68299999999999, 108.14200000000001, 108.84899999999999, 108.943, 109.05], \"marker\": {\"color\": \"rgba(255, 0, 116, 0.7999999999999998)\"}, \"name\": \"Real Output per Hour\", \"line\": {\"width\": 1.3}, \"boxpoints\": false, \"orientation\": \"v\"}], {\"legend\": {\"bgcolor\": \"#F5F6F9\", \"font\": {\"color\": \"#4D5663\"}}, \"paper_bgcolor\": \"#F5F6F9\", \"plot_bgcolor\": \"#F5F6F9\", \"yaxis1\": {\"tickfont\": {\"color\": \"#4D5663\"}, \"gridcolor\": \"#E1E5ED\", \"titlefont\": {\"color\": \"#4D5663\"}, \"zerolinecolor\": \"#E1E5ED\", \"showgrid\": true, \"title\": \"Real Productivity per Hour ($)\"}, \"xaxis1\": {\"tickfont\": {\"color\": \"#4D5663\"}, \"gridcolor\": \"#E1E5ED\", \"titlefont\": {\"color\": \"#4D5663\"}, \"zerolinecolor\": \"#E1E5ED\", \"showgrid\": true, \"title\": \"\"}, \"titlefont\": {\"color\": \"#4D5663\"}, \"title\": \"Comparitive Box Plots\", \"showlegend\": false, \"yaxis2\": {\"tickfont\": {\"color\": \"#4D5663\"}, \"gridcolor\": \"#E1E5ED\", \"titlefont\": {\"color\": \"#4D5663\"}, \"zerolinecolor\": \"#E1E5ED\", \"showgrid\": true, \"title\": \"Car Units Produced\", \"overlaying\": \"y1\", \"side\": \"right\", \"anchor\": \"x1\"}}, {\"showLink\": true, \"linkText\": \"Export to plot.ly\"})});</script>"
      ]
     },
     "metadata": {},
     "output_type": "display_data"
    }
   ],
   "source": [
    "fig0 = df.iplot(\n",
    "    columns=['Real Output per Hour'], \n",
    "    asFigure=True, \n",
    "    kind='box', \n",
    "    showlegend=False,\n",
    "    colors = ('#ff0074'),\n",
    "    )\n",
    "fig1 = df.iplot(\n",
    "    columns=['Tesla Production', 'Real Output per Hour'],\n",
    "    asFigure=True,\n",
    "    kind='box', \n",
    "    secondary_y=['Tesla Production'],\n",
    "    showlegend=False,\n",
    "    title='Comparitive Box Plots',\n",
    "    yTitle='Real Productivity per Hour ($)',\n",
    "    secondary_y_title = 'Car Units Produced',\n",
    "    colors = ('#1b073a'),\n",
    ")\n",
    "\n",
    "fig1['data'].extend(fig0['data'])\n",
    "\n",
    "iplot(fig1)"
   ]
  },
  {
   "cell_type": "code",
   "execution_count": 9,
   "metadata": {
    "scrolled": false
   },
   "outputs": [
    {
     "data": {
      "application/vnd.plotly.v1+json": {
       "data": [
        {
         "histfunc": "count",
         "histnorm": "probability",
         "marker": {
          "color": "rgba(27, 7, 58, 0.8999999999999999)",
          "line": {
           "color": "#4D5663",
           "width": 1.3
          }
         },
         "name": "Real Output per Hour",
         "opacity": 0.8,
         "orientation": "v",
         "type": "histogram",
         "x": [
          104.50299999999999,
          104.059,
          104.304,
          104.147,
          104.57,
          105.634,
          104.78200000000001,
          105.435,
          106.53,
          105.977,
          106.762,
          107.11200000000001,
          107.429,
          106.697,
          106.415,
          106.66799999999999,
          107.305,
          107.618,
          107.68299999999999,
          108.14200000000001,
          108.84899999999999,
          108.943,
          109.05
         ],
         "xaxis": "x1",
         "yaxis": "y1"
        },
        {
         "histfunc": "count",
         "histnorm": "probability",
         "marker": {
          "color": "rgba(27, 7, 58, 1.0)",
          "line": {
           "color": "#4D5663",
           "width": 1.3
          }
         },
         "name": "Tesla Production",
         "opacity": 0.8,
         "orientation": "v",
         "type": "histogram",
         "x": [
          321,
          2400,
          4900,
          5150,
          5500,
          6892,
          6457,
          7579,
          7785,
          9834,
          10030,
          11507,
          11580,
          17478,
          14820,
          18345,
          24500,
          22200,
          25000,
          22000,
          26150,
          29870,
          29980
         ],
         "xaxis": "x2",
         "yaxis": "y2"
        }
       ],
       "layout": {
        "barmode": "overlay",
        "legend": {
         "bgcolor": "#F5F6F9",
         "font": {
          "color": "#4D5663"
         }
        },
        "paper_bgcolor": "#F5F6F9",
        "plot_bgcolor": "#F5F6F9",
        "showlegend": false,
        "title": "Distributions",
        "titlefont": {
         "color": "#4D5663"
        },
        "xaxis1": {
         "anchor": "y1",
         "domain": [
          0,
          1
         ],
         "gridcolor": "#E1E5ED",
         "showgrid": true,
         "tickfont": {
          "color": "#4D5663"
         },
         "title": "Real Productivity per Hour ($)",
         "titlefont": {
          "color": "#4D5663"
         },
         "zerolinecolor": "#E1E5ED"
        },
        "xaxis2": {
         "anchor": "y2",
         "domain": [
          0,
          1
         ]
        },
        "yaxis1": {
         "anchor": "x1",
         "domain": [
          0.575,
          1
         ],
         "gridcolor": "#E1E5ED",
         "showgrid": true,
         "tickfont": {
          "color": "#4D5663"
         },
         "title": "Frequency",
         "titlefont": {
          "color": "#4D5663"
         },
         "zerolinecolor": "#E1E5ED"
        },
        "yaxis2": {
         "anchor": "x2",
         "domain": [
          0,
          0.425
         ]
        }
       }
      },
      "text/html": [
       "<div id=\"6d6f6f2f-022a-4ec7-97c1-00a03359f02a\" style=\"height: 525px; width: 100%;\" class=\"plotly-graph-div\"></div><script type=\"text/javascript\">require([\"plotly\"], function(Plotly) { window.PLOTLYENV=window.PLOTLYENV || {};window.PLOTLYENV.BASE_URL=\"https://plot.ly\";Plotly.newPlot(\"6d6f6f2f-022a-4ec7-97c1-00a03359f02a\", [{\"type\": \"histogram\", \"x\": [104.50299999999999, 104.059, 104.304, 104.147, 104.57, 105.634, 104.78200000000001, 105.435, 106.53, 105.977, 106.762, 107.11200000000001, 107.429, 106.697, 106.415, 106.66799999999999, 107.305, 107.618, 107.68299999999999, 108.14200000000001, 108.84899999999999, 108.943, 109.05], \"name\": \"Real Output per Hour\", \"marker\": {\"color\": \"rgba(27, 7, 58, 0.8999999999999999)\", \"line\": {\"width\": 1.3, \"color\": \"#4D5663\"}}, \"orientation\": \"v\", \"opacity\": 0.8, \"histfunc\": \"count\", \"histnorm\": \"probability\", \"xaxis\": \"x1\", \"yaxis\": \"y1\"}, {\"type\": \"histogram\", \"x\": [321, 2400, 4900, 5150, 5500, 6892, 6457, 7579, 7785, 9834, 10030, 11507, 11580, 17478, 14820, 18345, 24500, 22200, 25000, 22000, 26150, 29870, 29980], \"name\": \"Tesla Production\", \"marker\": {\"color\": \"rgba(27, 7, 58, 1.0)\", \"line\": {\"width\": 1.3, \"color\": \"#4D5663\"}}, \"orientation\": \"v\", \"opacity\": 0.8, \"histfunc\": \"count\", \"histnorm\": \"probability\", \"xaxis\": \"x2\", \"yaxis\": \"y2\"}], {\"xaxis1\": {\"domain\": [0.0, 1.0], \"anchor\": \"y1\", \"tickfont\": {\"color\": \"#4D5663\"}, \"gridcolor\": \"#E1E5ED\", \"titlefont\": {\"color\": \"#4D5663\"}, \"zerolinecolor\": \"#E1E5ED\", \"showgrid\": true, \"title\": \"Real Productivity per Hour ($)\"}, \"yaxis1\": {\"domain\": [0.575, 1.0], \"anchor\": \"x1\", \"tickfont\": {\"color\": \"#4D5663\"}, \"gridcolor\": \"#E1E5ED\", \"titlefont\": {\"color\": \"#4D5663\"}, \"zerolinecolor\": \"#E1E5ED\", \"showgrid\": true, \"title\": \"Frequency\"}, \"xaxis2\": {\"domain\": [0.0, 1.0], \"anchor\": \"y2\"}, \"yaxis2\": {\"domain\": [0.0, 0.425], \"anchor\": \"x2\"}, \"legend\": {\"bgcolor\": \"#F5F6F9\", \"font\": {\"color\": \"#4D5663\"}}, \"paper_bgcolor\": \"#F5F6F9\", \"plot_bgcolor\": \"#F5F6F9\", \"titlefont\": {\"color\": \"#4D5663\"}, \"title\": \"Distributions\", \"showlegend\": false, \"barmode\": \"overlay\"}, {\"showLink\": true, \"linkText\": \"Export to plot.ly\"})});</script>"
      ],
      "text/vnd.plotly.v1+html": [
       "<div id=\"6d6f6f2f-022a-4ec7-97c1-00a03359f02a\" style=\"height: 525px; width: 100%;\" class=\"plotly-graph-div\"></div><script type=\"text/javascript\">require([\"plotly\"], function(Plotly) { window.PLOTLYENV=window.PLOTLYENV || {};window.PLOTLYENV.BASE_URL=\"https://plot.ly\";Plotly.newPlot(\"6d6f6f2f-022a-4ec7-97c1-00a03359f02a\", [{\"type\": \"histogram\", \"x\": [104.50299999999999, 104.059, 104.304, 104.147, 104.57, 105.634, 104.78200000000001, 105.435, 106.53, 105.977, 106.762, 107.11200000000001, 107.429, 106.697, 106.415, 106.66799999999999, 107.305, 107.618, 107.68299999999999, 108.14200000000001, 108.84899999999999, 108.943, 109.05], \"name\": \"Real Output per Hour\", \"marker\": {\"color\": \"rgba(27, 7, 58, 0.8999999999999999)\", \"line\": {\"width\": 1.3, \"color\": \"#4D5663\"}}, \"orientation\": \"v\", \"opacity\": 0.8, \"histfunc\": \"count\", \"histnorm\": \"probability\", \"xaxis\": \"x1\", \"yaxis\": \"y1\"}, {\"type\": \"histogram\", \"x\": [321, 2400, 4900, 5150, 5500, 6892, 6457, 7579, 7785, 9834, 10030, 11507, 11580, 17478, 14820, 18345, 24500, 22200, 25000, 22000, 26150, 29870, 29980], \"name\": \"Tesla Production\", \"marker\": {\"color\": \"rgba(27, 7, 58, 1.0)\", \"line\": {\"width\": 1.3, \"color\": \"#4D5663\"}}, \"orientation\": \"v\", \"opacity\": 0.8, \"histfunc\": \"count\", \"histnorm\": \"probability\", \"xaxis\": \"x2\", \"yaxis\": \"y2\"}], {\"xaxis1\": {\"domain\": [0.0, 1.0], \"anchor\": \"y1\", \"tickfont\": {\"color\": \"#4D5663\"}, \"gridcolor\": \"#E1E5ED\", \"titlefont\": {\"color\": \"#4D5663\"}, \"zerolinecolor\": \"#E1E5ED\", \"showgrid\": true, \"title\": \"Real Productivity per Hour ($)\"}, \"yaxis1\": {\"domain\": [0.575, 1.0], \"anchor\": \"x1\", \"tickfont\": {\"color\": \"#4D5663\"}, \"gridcolor\": \"#E1E5ED\", \"titlefont\": {\"color\": \"#4D5663\"}, \"zerolinecolor\": \"#E1E5ED\", \"showgrid\": true, \"title\": \"Frequency\"}, \"xaxis2\": {\"domain\": [0.0, 1.0], \"anchor\": \"y2\"}, \"yaxis2\": {\"domain\": [0.0, 0.425], \"anchor\": \"x2\"}, \"legend\": {\"bgcolor\": \"#F5F6F9\", \"font\": {\"color\": \"#4D5663\"}}, \"paper_bgcolor\": \"#F5F6F9\", \"plot_bgcolor\": \"#F5F6F9\", \"titlefont\": {\"color\": \"#4D5663\"}, \"title\": \"Distributions\", \"showlegend\": false, \"barmode\": \"overlay\"}, {\"showLink\": true, \"linkText\": \"Export to plot.ly\"})});</script>"
      ]
     },
     "metadata": {},
     "output_type": "display_data"
    }
   ],
   "source": [
    "fig0 = df.iplot(\n",
    "    columns=['Real Output per Hour', 'Tesla Production'], \n",
    "    asFigure=True, \n",
    "    kind='histogram', \n",
    "    showlegend=False,\n",
    "    colors = ['pink','#1b073a'],\n",
    "    title='Distributions',\n",
    "    xTitle='Real Productivity per Hour ($)',\n",
    "    yTitle='Frequency',\n",
    "    histnorm='probability',\n",
    "    subplots=True,\n",
    "    shape=(2,1),\n",
    "    )\n",
    "\n",
    "iplot(fig0)"
   ]
  },
  {
   "cell_type": "code",
   "execution_count": 10,
   "metadata": {
    "scrolled": false
   },
   "outputs": [
    {
     "data": {
      "application/vnd.plotly.v1+json": {
       "data": [
        {
         "line": {
          "color": "rgba(255, 0, 116, 1.0)",
          "dash": "solid",
          "shape": "linear",
          "width": 1.3
         },
         "mode": "lines",
         "name": "Real Output per Hour",
         "text": "",
         "type": "scatter",
         "x": [
          "2012Q3",
          "2012Q4",
          "2013Q1",
          "2013Q2",
          "2013Q3",
          "2013Q4",
          "2014Q1",
          "2014Q2",
          "2014Q3",
          "2014Q4",
          "2015Q1",
          "2015Q2",
          "2015Q3",
          "2015Q4",
          "2016Q1",
          "2016Q2",
          "2016Q3",
          "2016Q4",
          "2017Q1",
          "2017Q2",
          "2017Q3",
          "2017Q4",
          "2018Q1"
         ],
         "y": [
          104.50299999999999,
          104.059,
          104.304,
          104.147,
          104.57,
          105.634,
          104.78200000000001,
          105.435,
          106.53,
          105.977,
          106.762,
          107.11200000000001,
          107.429,
          106.697,
          106.415,
          106.66799999999999,
          107.305,
          107.618,
          107.68299999999999,
          108.14200000000001,
          108.84899999999999,
          108.943,
          109.05
         ]
        }
       ],
       "layout": {
        "legend": {
         "bgcolor": "#F5F6F9",
         "font": {
          "color": "#4D5663"
         }
        },
        "paper_bgcolor": "#F5F6F9",
        "plot_bgcolor": "#F5F6F9",
        "showlegend": false,
        "title": "Real Output per Hour",
        "titlefont": {
         "color": "#4D5663"
        },
        "xaxis1": {
         "gridcolor": "#E1E5ED",
         "showgrid": true,
         "tickfont": {
          "color": "#4D5663"
         },
         "title": "",
         "titlefont": {
          "color": "#4D5663"
         },
         "zerolinecolor": "#E1E5ED"
        },
        "yaxis1": {
         "gridcolor": "#E1E5ED",
         "showgrid": true,
         "tickfont": {
          "color": "#4D5663"
         },
         "title": "Real Productivity per Hour ($)",
         "titlefont": {
          "color": "#4D5663"
         },
         "zerolinecolor": "#E1E5ED"
        }
       }
      },
      "text/html": [
       "<div id=\"5710e116-92ae-411a-b08d-e4ee689e4df4\" style=\"height: 525px; width: 100%;\" class=\"plotly-graph-div\"></div><script type=\"text/javascript\">require([\"plotly\"], function(Plotly) { window.PLOTLYENV=window.PLOTLYENV || {};window.PLOTLYENV.BASE_URL=\"https://plot.ly\";Plotly.newPlot(\"5710e116-92ae-411a-b08d-e4ee689e4df4\", [{\"type\": \"scatter\", \"x\": [\"2012Q3\", \"2012Q4\", \"2013Q1\", \"2013Q2\", \"2013Q3\", \"2013Q4\", \"2014Q1\", \"2014Q2\", \"2014Q3\", \"2014Q4\", \"2015Q1\", \"2015Q2\", \"2015Q3\", \"2015Q4\", \"2016Q1\", \"2016Q2\", \"2016Q3\", \"2016Q4\", \"2017Q1\", \"2017Q2\", \"2017Q3\", \"2017Q4\", \"2018Q1\"], \"y\": [104.50299999999999, 104.059, 104.304, 104.147, 104.57, 105.634, 104.78200000000001, 105.435, 106.53, 105.977, 106.762, 107.11200000000001, 107.429, 106.697, 106.415, 106.66799999999999, 107.305, 107.618, 107.68299999999999, 108.14200000000001, 108.84899999999999, 108.943, 109.05], \"name\": \"Real Output per Hour\", \"text\": \"\", \"line\": {\"color\": \"rgba(255, 0, 116, 1.0)\", \"width\": 1.3, \"dash\": \"solid\", \"shape\": \"linear\"}, \"mode\": \"lines\"}], {\"legend\": {\"bgcolor\": \"#F5F6F9\", \"font\": {\"color\": \"#4D5663\"}}, \"paper_bgcolor\": \"#F5F6F9\", \"plot_bgcolor\": \"#F5F6F9\", \"yaxis1\": {\"tickfont\": {\"color\": \"#4D5663\"}, \"gridcolor\": \"#E1E5ED\", \"titlefont\": {\"color\": \"#4D5663\"}, \"zerolinecolor\": \"#E1E5ED\", \"showgrid\": true, \"title\": \"Real Productivity per Hour ($)\"}, \"xaxis1\": {\"tickfont\": {\"color\": \"#4D5663\"}, \"gridcolor\": \"#E1E5ED\", \"titlefont\": {\"color\": \"#4D5663\"}, \"zerolinecolor\": \"#E1E5ED\", \"showgrid\": true, \"title\": \"\"}, \"titlefont\": {\"color\": \"#4D5663\"}, \"title\": \"Real Output per Hour\", \"showlegend\": false}, {\"showLink\": true, \"linkText\": \"Export to plot.ly\"})});</script>"
      ],
      "text/vnd.plotly.v1+html": [
       "<div id=\"5710e116-92ae-411a-b08d-e4ee689e4df4\" style=\"height: 525px; width: 100%;\" class=\"plotly-graph-div\"></div><script type=\"text/javascript\">require([\"plotly\"], function(Plotly) { window.PLOTLYENV=window.PLOTLYENV || {};window.PLOTLYENV.BASE_URL=\"https://plot.ly\";Plotly.newPlot(\"5710e116-92ae-411a-b08d-e4ee689e4df4\", [{\"type\": \"scatter\", \"x\": [\"2012Q3\", \"2012Q4\", \"2013Q1\", \"2013Q2\", \"2013Q3\", \"2013Q4\", \"2014Q1\", \"2014Q2\", \"2014Q3\", \"2014Q4\", \"2015Q1\", \"2015Q2\", \"2015Q3\", \"2015Q4\", \"2016Q1\", \"2016Q2\", \"2016Q3\", \"2016Q4\", \"2017Q1\", \"2017Q2\", \"2017Q3\", \"2017Q4\", \"2018Q1\"], \"y\": [104.50299999999999, 104.059, 104.304, 104.147, 104.57, 105.634, 104.78200000000001, 105.435, 106.53, 105.977, 106.762, 107.11200000000001, 107.429, 106.697, 106.415, 106.66799999999999, 107.305, 107.618, 107.68299999999999, 108.14200000000001, 108.84899999999999, 108.943, 109.05], \"name\": \"Real Output per Hour\", \"text\": \"\", \"line\": {\"color\": \"rgba(255, 0, 116, 1.0)\", \"width\": 1.3, \"dash\": \"solid\", \"shape\": \"linear\"}, \"mode\": \"lines\"}], {\"legend\": {\"bgcolor\": \"#F5F6F9\", \"font\": {\"color\": \"#4D5663\"}}, \"paper_bgcolor\": \"#F5F6F9\", \"plot_bgcolor\": \"#F5F6F9\", \"yaxis1\": {\"tickfont\": {\"color\": \"#4D5663\"}, \"gridcolor\": \"#E1E5ED\", \"titlefont\": {\"color\": \"#4D5663\"}, \"zerolinecolor\": \"#E1E5ED\", \"showgrid\": true, \"title\": \"Real Productivity per Hour ($)\"}, \"xaxis1\": {\"tickfont\": {\"color\": \"#4D5663\"}, \"gridcolor\": \"#E1E5ED\", \"titlefont\": {\"color\": \"#4D5663\"}, \"zerolinecolor\": \"#E1E5ED\", \"showgrid\": true, \"title\": \"\"}, \"titlefont\": {\"color\": \"#4D5663\"}, \"title\": \"Real Output per Hour\", \"showlegend\": false}, {\"showLink\": true, \"linkText\": \"Export to plot.ly\"})});</script>"
      ]
     },
     "metadata": {},
     "output_type": "display_data"
    }
   ],
   "source": [
    "fig0 = df.iplot(\n",
    "    columns=['Real Output per Hour'], \n",
    "    asFigure=True, \n",
    "    kind='scatter', \n",
    "    showlegend=False,\n",
    "    colors = ('#ff0074'),\n",
    "    title='Real Output per Hour',\n",
    "    yTitle='Real Productivity per Hour ($)',\n",
    "    x='Date'\n",
    "    )\n",
    "\n",
    "iplot(fig0)"
   ]
  },
  {
   "cell_type": "code",
   "execution_count": 11,
   "metadata": {
    "scrolled": false
   },
   "outputs": [
    {
     "data": {
      "application/vnd.plotly.v1+json": {
       "data": [
        {
         "line": {
          "color": "rgba(27, 7, 58, 1.0)",
          "dash": "solid",
          "shape": "linear",
          "width": 1.3
         },
         "mode": "lines",
         "name": "Tesla Production",
         "text": "",
         "type": "scatter",
         "x": [
          "2012Q3",
          "2012Q4",
          "2013Q1",
          "2013Q2",
          "2013Q3",
          "2013Q4",
          "2014Q1",
          "2014Q2",
          "2014Q3",
          "2014Q4",
          "2015Q1",
          "2015Q2",
          "2015Q3",
          "2015Q4",
          "2016Q1",
          "2016Q2",
          "2016Q3",
          "2016Q4",
          "2017Q1",
          "2017Q2",
          "2017Q3",
          "2017Q4",
          "2018Q1"
         ],
         "y": [
          321,
          2400,
          4900,
          5150,
          5500,
          6892,
          6457,
          7579,
          7785,
          9834,
          10030,
          11507,
          11580,
          17478,
          14820,
          18345,
          24500,
          22200,
          25000,
          22000,
          26150,
          29870,
          29980
         ]
        }
       ],
       "layout": {
        "legend": {
         "bgcolor": "#F5F6F9",
         "font": {
          "color": "#4D5663"
         }
        },
        "paper_bgcolor": "#F5F6F9",
        "plot_bgcolor": "#F5F6F9",
        "showlegend": false,
        "title": "Teslas Produced",
        "titlefont": {
         "color": "#4D5663"
        },
        "xaxis1": {
         "gridcolor": "#E1E5ED",
         "showgrid": true,
         "tickfont": {
          "color": "#4D5663"
         },
         "title": "",
         "titlefont": {
          "color": "#4D5663"
         },
         "zerolinecolor": "#E1E5ED"
        },
        "yaxis1": {
         "gridcolor": "#E1E5ED",
         "showgrid": true,
         "tickfont": {
          "color": "#4D5663"
         },
         "title": "Car Units Produced",
         "titlefont": {
          "color": "#4D5663"
         },
         "zerolinecolor": "#E1E5ED"
        }
       }
      },
      "text/html": [
       "<div id=\"68478f4e-e598-4c2b-a4e2-902ab06ec9e3\" style=\"height: 525px; width: 100%;\" class=\"plotly-graph-div\"></div><script type=\"text/javascript\">require([\"plotly\"], function(Plotly) { window.PLOTLYENV=window.PLOTLYENV || {};window.PLOTLYENV.BASE_URL=\"https://plot.ly\";Plotly.newPlot(\"68478f4e-e598-4c2b-a4e2-902ab06ec9e3\", [{\"type\": \"scatter\", \"x\": [\"2012Q3\", \"2012Q4\", \"2013Q1\", \"2013Q2\", \"2013Q3\", \"2013Q4\", \"2014Q1\", \"2014Q2\", \"2014Q3\", \"2014Q4\", \"2015Q1\", \"2015Q2\", \"2015Q3\", \"2015Q4\", \"2016Q1\", \"2016Q2\", \"2016Q3\", \"2016Q4\", \"2017Q1\", \"2017Q2\", \"2017Q3\", \"2017Q4\", \"2018Q1\"], \"y\": [321, 2400, 4900, 5150, 5500, 6892, 6457, 7579, 7785, 9834, 10030, 11507, 11580, 17478, 14820, 18345, 24500, 22200, 25000, 22000, 26150, 29870, 29980], \"name\": \"Tesla Production\", \"text\": \"\", \"line\": {\"color\": \"rgba(27, 7, 58, 1.0)\", \"width\": 1.3, \"dash\": \"solid\", \"shape\": \"linear\"}, \"mode\": \"lines\"}], {\"legend\": {\"bgcolor\": \"#F5F6F9\", \"font\": {\"color\": \"#4D5663\"}}, \"paper_bgcolor\": \"#F5F6F9\", \"plot_bgcolor\": \"#F5F6F9\", \"yaxis1\": {\"tickfont\": {\"color\": \"#4D5663\"}, \"gridcolor\": \"#E1E5ED\", \"titlefont\": {\"color\": \"#4D5663\"}, \"zerolinecolor\": \"#E1E5ED\", \"showgrid\": true, \"title\": \"Car Units Produced\"}, \"xaxis1\": {\"tickfont\": {\"color\": \"#4D5663\"}, \"gridcolor\": \"#E1E5ED\", \"titlefont\": {\"color\": \"#4D5663\"}, \"zerolinecolor\": \"#E1E5ED\", \"showgrid\": true, \"title\": \"\"}, \"titlefont\": {\"color\": \"#4D5663\"}, \"title\": \"Teslas Produced\", \"showlegend\": false}, {\"showLink\": true, \"linkText\": \"Export to plot.ly\"})});</script>"
      ],
      "text/vnd.plotly.v1+html": [
       "<div id=\"68478f4e-e598-4c2b-a4e2-902ab06ec9e3\" style=\"height: 525px; width: 100%;\" class=\"plotly-graph-div\"></div><script type=\"text/javascript\">require([\"plotly\"], function(Plotly) { window.PLOTLYENV=window.PLOTLYENV || {};window.PLOTLYENV.BASE_URL=\"https://plot.ly\";Plotly.newPlot(\"68478f4e-e598-4c2b-a4e2-902ab06ec9e3\", [{\"type\": \"scatter\", \"x\": [\"2012Q3\", \"2012Q4\", \"2013Q1\", \"2013Q2\", \"2013Q3\", \"2013Q4\", \"2014Q1\", \"2014Q2\", \"2014Q3\", \"2014Q4\", \"2015Q1\", \"2015Q2\", \"2015Q3\", \"2015Q4\", \"2016Q1\", \"2016Q2\", \"2016Q3\", \"2016Q4\", \"2017Q1\", \"2017Q2\", \"2017Q3\", \"2017Q4\", \"2018Q1\"], \"y\": [321, 2400, 4900, 5150, 5500, 6892, 6457, 7579, 7785, 9834, 10030, 11507, 11580, 17478, 14820, 18345, 24500, 22200, 25000, 22000, 26150, 29870, 29980], \"name\": \"Tesla Production\", \"text\": \"\", \"line\": {\"color\": \"rgba(27, 7, 58, 1.0)\", \"width\": 1.3, \"dash\": \"solid\", \"shape\": \"linear\"}, \"mode\": \"lines\"}], {\"legend\": {\"bgcolor\": \"#F5F6F9\", \"font\": {\"color\": \"#4D5663\"}}, \"paper_bgcolor\": \"#F5F6F9\", \"plot_bgcolor\": \"#F5F6F9\", \"yaxis1\": {\"tickfont\": {\"color\": \"#4D5663\"}, \"gridcolor\": \"#E1E5ED\", \"titlefont\": {\"color\": \"#4D5663\"}, \"zerolinecolor\": \"#E1E5ED\", \"showgrid\": true, \"title\": \"Car Units Produced\"}, \"xaxis1\": {\"tickfont\": {\"color\": \"#4D5663\"}, \"gridcolor\": \"#E1E5ED\", \"titlefont\": {\"color\": \"#4D5663\"}, \"zerolinecolor\": \"#E1E5ED\", \"showgrid\": true, \"title\": \"\"}, \"titlefont\": {\"color\": \"#4D5663\"}, \"title\": \"Teslas Produced\", \"showlegend\": false}, {\"showLink\": true, \"linkText\": \"Export to plot.ly\"})});</script>"
      ]
     },
     "metadata": {},
     "output_type": "display_data"
    }
   ],
   "source": [
    "fig1 = df.iplot(\n",
    "    columns=['Tesla Production'],\n",
    "    asFigure=True,\n",
    "    kind='scatter', \n",
    "    showlegend=False,\n",
    "    title='Teslas Produced',\n",
    "    yTitle='Car Units Produced',\n",
    "    colors = ('#1b073a'),\n",
    "    x='Date'\n",
    "    )\n",
    "\n",
    "iplot(fig1)"
   ]
  },
  {
   "cell_type": "code",
   "execution_count": 12,
   "metadata": {},
   "outputs": [
    {
     "data": {
      "application/vnd.plotly.v1+json": {
       "data": [
        {
         "line": {
          "color": "rgba(27, 7, 58, 1.0)",
          "dash": "solid",
          "shape": "linear",
          "width": 1.3
         },
         "mode": "lines",
         "name": "Tesla Production",
         "text": "",
         "type": "scatter",
         "x": [
          "2012Q3",
          "2012Q4",
          "2013Q1",
          "2013Q2",
          "2013Q3",
          "2013Q4",
          "2014Q1",
          "2014Q2",
          "2014Q3",
          "2014Q4",
          "2015Q1",
          "2015Q2",
          "2015Q3",
          "2015Q4",
          "2016Q1",
          "2016Q2",
          "2016Q3",
          "2016Q4",
          "2017Q1",
          "2017Q2",
          "2017Q3",
          "2017Q4",
          "2018Q1"
         ],
         "xaxis": "x1",
         "y": [
          321,
          2400,
          4900,
          5150,
          5500,
          6892,
          6457,
          7579,
          7785,
          9834,
          10030,
          11507,
          11580,
          17478,
          14820,
          18345,
          24500,
          22200,
          25000,
          22000,
          26150,
          29870,
          29980
         ],
         "yaxis": "y2"
        },
        {
         "line": {
          "color": "rgba(27, 7, 58, 0.8999999999999999)",
          "dash": "solid",
          "shape": "linear",
          "width": 1.3
         },
         "mode": "lines",
         "name": "Real Output per Hour",
         "text": "",
         "type": "scatter",
         "x": [
          "2012Q3",
          "2012Q4",
          "2013Q1",
          "2013Q2",
          "2013Q3",
          "2013Q4",
          "2014Q1",
          "2014Q2",
          "2014Q3",
          "2014Q4",
          "2015Q1",
          "2015Q2",
          "2015Q3",
          "2015Q4",
          "2016Q1",
          "2016Q2",
          "2016Q3",
          "2016Q4",
          "2017Q1",
          "2017Q2",
          "2017Q3",
          "2017Q4",
          "2018Q1"
         ],
         "y": [
          104.50299999999999,
          104.059,
          104.304,
          104.147,
          104.57,
          105.634,
          104.78200000000001,
          105.435,
          106.53,
          105.977,
          106.762,
          107.11200000000001,
          107.429,
          106.697,
          106.415,
          106.66799999999999,
          107.305,
          107.618,
          107.68299999999999,
          108.14200000000001,
          108.84899999999999,
          108.943,
          109.05
         ]
        },
        {
         "line": {
          "color": "rgba(255, 0, 116, 1.0)",
          "dash": "solid",
          "shape": "linear",
          "width": 1.3
         },
         "mode": "lines",
         "name": "Real Output per Hour",
         "text": "",
         "type": "scatter",
         "x": [
          "2012Q3",
          "2012Q4",
          "2013Q1",
          "2013Q2",
          "2013Q3",
          "2013Q4",
          "2014Q1",
          "2014Q2",
          "2014Q3",
          "2014Q4",
          "2015Q1",
          "2015Q2",
          "2015Q3",
          "2015Q4",
          "2016Q1",
          "2016Q2",
          "2016Q3",
          "2016Q4",
          "2017Q1",
          "2017Q2",
          "2017Q3",
          "2017Q4",
          "2018Q1"
         ],
         "y": [
          104.50299999999999,
          104.059,
          104.304,
          104.147,
          104.57,
          105.634,
          104.78200000000001,
          105.435,
          106.53,
          105.977,
          106.762,
          107.11200000000001,
          107.429,
          106.697,
          106.415,
          106.66799999999999,
          107.305,
          107.618,
          107.68299999999999,
          108.14200000000001,
          108.84899999999999,
          108.943,
          109.05
         ]
        }
       ],
       "layout": {
        "legend": {
         "bgcolor": "#F5F6F9",
         "font": {
          "color": "#4D5663"
         }
        },
        "paper_bgcolor": "#F5F6F9",
        "plot_bgcolor": "#F5F6F9",
        "showlegend": false,
        "title": "Comparitive Time Series",
        "titlefont": {
         "color": "#4D5663"
        },
        "xaxis1": {
         "gridcolor": "#E1E5ED",
         "showgrid": true,
         "tickfont": {
          "color": "#4D5663"
         },
         "title": "",
         "titlefont": {
          "color": "#4D5663"
         },
         "zerolinecolor": "#E1E5ED"
        },
        "yaxis1": {
         "gridcolor": "#E1E5ED",
         "showgrid": true,
         "tickfont": {
          "color": "#4D5663"
         },
         "title": "Real Productivity per Hour ($)",
         "titlefont": {
          "color": "#4D5663"
         },
         "zerolinecolor": "#E1E5ED"
        },
        "yaxis2": {
         "anchor": "x1",
         "gridcolor": "#E1E5ED",
         "overlaying": "y1",
         "showgrid": true,
         "side": "right",
         "tickfont": {
          "color": "#4D5663"
         },
         "title": "Car Units Produced",
         "titlefont": {
          "color": "#4D5663"
         },
         "zerolinecolor": "#E1E5ED"
        }
       }
      },
      "text/html": [
       "<div id=\"a1415188-0a51-4d67-b589-638168c78f21\" style=\"height: 525px; width: 100%;\" class=\"plotly-graph-div\"></div><script type=\"text/javascript\">require([\"plotly\"], function(Plotly) { window.PLOTLYENV=window.PLOTLYENV || {};window.PLOTLYENV.BASE_URL=\"https://plot.ly\";Plotly.newPlot(\"a1415188-0a51-4d67-b589-638168c78f21\", [{\"type\": \"scatter\", \"x\": [\"2012Q3\", \"2012Q4\", \"2013Q1\", \"2013Q2\", \"2013Q3\", \"2013Q4\", \"2014Q1\", \"2014Q2\", \"2014Q3\", \"2014Q4\", \"2015Q1\", \"2015Q2\", \"2015Q3\", \"2015Q4\", \"2016Q1\", \"2016Q2\", \"2016Q3\", \"2016Q4\", \"2017Q1\", \"2017Q2\", \"2017Q3\", \"2017Q4\", \"2018Q1\"], \"y\": [321, 2400, 4900, 5150, 5500, 6892, 6457, 7579, 7785, 9834, 10030, 11507, 11580, 17478, 14820, 18345, 24500, 22200, 25000, 22000, 26150, 29870, 29980], \"name\": \"Tesla Production\", \"text\": \"\", \"line\": {\"color\": \"rgba(27, 7, 58, 1.0)\", \"width\": 1.3, \"dash\": \"solid\", \"shape\": \"linear\"}, \"mode\": \"lines\", \"xaxis\": \"x1\", \"yaxis\": \"y2\"}, {\"type\": \"scatter\", \"x\": [\"2012Q3\", \"2012Q4\", \"2013Q1\", \"2013Q2\", \"2013Q3\", \"2013Q4\", \"2014Q1\", \"2014Q2\", \"2014Q3\", \"2014Q4\", \"2015Q1\", \"2015Q2\", \"2015Q3\", \"2015Q4\", \"2016Q1\", \"2016Q2\", \"2016Q3\", \"2016Q4\", \"2017Q1\", \"2017Q2\", \"2017Q3\", \"2017Q4\", \"2018Q1\"], \"y\": [104.50299999999999, 104.059, 104.304, 104.147, 104.57, 105.634, 104.78200000000001, 105.435, 106.53, 105.977, 106.762, 107.11200000000001, 107.429, 106.697, 106.415, 106.66799999999999, 107.305, 107.618, 107.68299999999999, 108.14200000000001, 108.84899999999999, 108.943, 109.05], \"name\": \"Real Output per Hour\", \"text\": \"\", \"line\": {\"color\": \"rgba(27, 7, 58, 0.8999999999999999)\", \"width\": 1.3, \"dash\": \"solid\", \"shape\": \"linear\"}, \"mode\": \"lines\"}, {\"type\": \"scatter\", \"x\": [\"2012Q3\", \"2012Q4\", \"2013Q1\", \"2013Q2\", \"2013Q3\", \"2013Q4\", \"2014Q1\", \"2014Q2\", \"2014Q3\", \"2014Q4\", \"2015Q1\", \"2015Q2\", \"2015Q3\", \"2015Q4\", \"2016Q1\", \"2016Q2\", \"2016Q3\", \"2016Q4\", \"2017Q1\", \"2017Q2\", \"2017Q3\", \"2017Q4\", \"2018Q1\"], \"y\": [104.50299999999999, 104.059, 104.304, 104.147, 104.57, 105.634, 104.78200000000001, 105.435, 106.53, 105.977, 106.762, 107.11200000000001, 107.429, 106.697, 106.415, 106.66799999999999, 107.305, 107.618, 107.68299999999999, 108.14200000000001, 108.84899999999999, 108.943, 109.05], \"name\": \"Real Output per Hour\", \"text\": \"\", \"line\": {\"color\": \"rgba(255, 0, 116, 1.0)\", \"width\": 1.3, \"dash\": \"solid\", \"shape\": \"linear\"}, \"mode\": \"lines\"}], {\"legend\": {\"bgcolor\": \"#F5F6F9\", \"font\": {\"color\": \"#4D5663\"}}, \"paper_bgcolor\": \"#F5F6F9\", \"plot_bgcolor\": \"#F5F6F9\", \"yaxis1\": {\"tickfont\": {\"color\": \"#4D5663\"}, \"gridcolor\": \"#E1E5ED\", \"titlefont\": {\"color\": \"#4D5663\"}, \"zerolinecolor\": \"#E1E5ED\", \"showgrid\": true, \"title\": \"Real Productivity per Hour ($)\"}, \"xaxis1\": {\"tickfont\": {\"color\": \"#4D5663\"}, \"gridcolor\": \"#E1E5ED\", \"titlefont\": {\"color\": \"#4D5663\"}, \"zerolinecolor\": \"#E1E5ED\", \"showgrid\": true, \"title\": \"\"}, \"titlefont\": {\"color\": \"#4D5663\"}, \"title\": \"Comparitive Time Series\", \"showlegend\": false, \"yaxis2\": {\"tickfont\": {\"color\": \"#4D5663\"}, \"gridcolor\": \"#E1E5ED\", \"titlefont\": {\"color\": \"#4D5663\"}, \"zerolinecolor\": \"#E1E5ED\", \"showgrid\": true, \"title\": \"Car Units Produced\", \"overlaying\": \"y1\", \"side\": \"right\", \"anchor\": \"x1\"}}, {\"showLink\": true, \"linkText\": \"Export to plot.ly\"})});</script>"
      ],
      "text/vnd.plotly.v1+html": [
       "<div id=\"a1415188-0a51-4d67-b589-638168c78f21\" style=\"height: 525px; width: 100%;\" class=\"plotly-graph-div\"></div><script type=\"text/javascript\">require([\"plotly\"], function(Plotly) { window.PLOTLYENV=window.PLOTLYENV || {};window.PLOTLYENV.BASE_URL=\"https://plot.ly\";Plotly.newPlot(\"a1415188-0a51-4d67-b589-638168c78f21\", [{\"type\": \"scatter\", \"x\": [\"2012Q3\", \"2012Q4\", \"2013Q1\", \"2013Q2\", \"2013Q3\", \"2013Q4\", \"2014Q1\", \"2014Q2\", \"2014Q3\", \"2014Q4\", \"2015Q1\", \"2015Q2\", \"2015Q3\", \"2015Q4\", \"2016Q1\", \"2016Q2\", \"2016Q3\", \"2016Q4\", \"2017Q1\", \"2017Q2\", \"2017Q3\", \"2017Q4\", \"2018Q1\"], \"y\": [321, 2400, 4900, 5150, 5500, 6892, 6457, 7579, 7785, 9834, 10030, 11507, 11580, 17478, 14820, 18345, 24500, 22200, 25000, 22000, 26150, 29870, 29980], \"name\": \"Tesla Production\", \"text\": \"\", \"line\": {\"color\": \"rgba(27, 7, 58, 1.0)\", \"width\": 1.3, \"dash\": \"solid\", \"shape\": \"linear\"}, \"mode\": \"lines\", \"xaxis\": \"x1\", \"yaxis\": \"y2\"}, {\"type\": \"scatter\", \"x\": [\"2012Q3\", \"2012Q4\", \"2013Q1\", \"2013Q2\", \"2013Q3\", \"2013Q4\", \"2014Q1\", \"2014Q2\", \"2014Q3\", \"2014Q4\", \"2015Q1\", \"2015Q2\", \"2015Q3\", \"2015Q4\", \"2016Q1\", \"2016Q2\", \"2016Q3\", \"2016Q4\", \"2017Q1\", \"2017Q2\", \"2017Q3\", \"2017Q4\", \"2018Q1\"], \"y\": [104.50299999999999, 104.059, 104.304, 104.147, 104.57, 105.634, 104.78200000000001, 105.435, 106.53, 105.977, 106.762, 107.11200000000001, 107.429, 106.697, 106.415, 106.66799999999999, 107.305, 107.618, 107.68299999999999, 108.14200000000001, 108.84899999999999, 108.943, 109.05], \"name\": \"Real Output per Hour\", \"text\": \"\", \"line\": {\"color\": \"rgba(27, 7, 58, 0.8999999999999999)\", \"width\": 1.3, \"dash\": \"solid\", \"shape\": \"linear\"}, \"mode\": \"lines\"}, {\"type\": \"scatter\", \"x\": [\"2012Q3\", \"2012Q4\", \"2013Q1\", \"2013Q2\", \"2013Q3\", \"2013Q4\", \"2014Q1\", \"2014Q2\", \"2014Q3\", \"2014Q4\", \"2015Q1\", \"2015Q2\", \"2015Q3\", \"2015Q4\", \"2016Q1\", \"2016Q2\", \"2016Q3\", \"2016Q4\", \"2017Q1\", \"2017Q2\", \"2017Q3\", \"2017Q4\", \"2018Q1\"], \"y\": [104.50299999999999, 104.059, 104.304, 104.147, 104.57, 105.634, 104.78200000000001, 105.435, 106.53, 105.977, 106.762, 107.11200000000001, 107.429, 106.697, 106.415, 106.66799999999999, 107.305, 107.618, 107.68299999999999, 108.14200000000001, 108.84899999999999, 108.943, 109.05], \"name\": \"Real Output per Hour\", \"text\": \"\", \"line\": {\"color\": \"rgba(255, 0, 116, 1.0)\", \"width\": 1.3, \"dash\": \"solid\", \"shape\": \"linear\"}, \"mode\": \"lines\"}], {\"legend\": {\"bgcolor\": \"#F5F6F9\", \"font\": {\"color\": \"#4D5663\"}}, \"paper_bgcolor\": \"#F5F6F9\", \"plot_bgcolor\": \"#F5F6F9\", \"yaxis1\": {\"tickfont\": {\"color\": \"#4D5663\"}, \"gridcolor\": \"#E1E5ED\", \"titlefont\": {\"color\": \"#4D5663\"}, \"zerolinecolor\": \"#E1E5ED\", \"showgrid\": true, \"title\": \"Real Productivity per Hour ($)\"}, \"xaxis1\": {\"tickfont\": {\"color\": \"#4D5663\"}, \"gridcolor\": \"#E1E5ED\", \"titlefont\": {\"color\": \"#4D5663\"}, \"zerolinecolor\": \"#E1E5ED\", \"showgrid\": true, \"title\": \"\"}, \"titlefont\": {\"color\": \"#4D5663\"}, \"title\": \"Comparitive Time Series\", \"showlegend\": false, \"yaxis2\": {\"tickfont\": {\"color\": \"#4D5663\"}, \"gridcolor\": \"#E1E5ED\", \"titlefont\": {\"color\": \"#4D5663\"}, \"zerolinecolor\": \"#E1E5ED\", \"showgrid\": true, \"title\": \"Car Units Produced\", \"overlaying\": \"y1\", \"side\": \"right\", \"anchor\": \"x1\"}}, {\"showLink\": true, \"linkText\": \"Export to plot.ly\"})});</script>"
      ]
     },
     "metadata": {},
     "output_type": "display_data"
    }
   ],
   "source": [
    "fig2 = df.iplot(\n",
    "    columns=['Real Output per Hour'], \n",
    "    asFigure=True, \n",
    "    kind='scatter', \n",
    "    showlegend=False,\n",
    "    colors = ('#ff0074'),\n",
    "    yTitle='Real Output per Hour',\n",
    "    x='Date',    \n",
    "    )\n",
    "fig3 = df.iplot(\n",
    "    asFigure=True,\n",
    "    kind='scatter', \n",
    "    secondary_y=['Tesla Production'],\n",
    "    showlegend=False,\n",
    "    title='Comparitive Time Series',\n",
    "    yTitle='Real Productivity per Hour ($)',\n",
    "    secondary_y_title = 'Car Units Produced',\n",
    "    colors = ('#1b073a'),\n",
    "    x='Date'\n",
    "    )\n",
    "\n",
    "fig3['data'].extend(fig2['data'])\n",
    "\n",
    "iplot(fig3)"
   ]
  },
  {
   "cell_type": "code",
   "execution_count": 13,
   "metadata": {},
   "outputs": [
    {
     "data": {
      "application/vnd.plotly.v1+json": {
       "data": [
        {
         "line": {
          "color": "rgba(27, 7, 58, 1.0)",
          "dash": "solid",
          "shape": "linear",
          "width": 1.3
         },
         "marker": {
          "size": 12,
          "symbol": "dot"
         },
         "mode": "markers",
         "name": "Tesla Production",
         "text": "",
         "type": "scatter",
         "x": [
          "2012Q3",
          "2012Q4",
          "2013Q1",
          "2013Q2",
          "2013Q3",
          "2013Q4",
          "2014Q1",
          "2014Q2",
          "2014Q3",
          "2014Q4",
          "2015Q1",
          "2015Q2",
          "2015Q3",
          "2015Q4",
          "2016Q1",
          "2016Q2",
          "2016Q3",
          "2016Q4",
          "2017Q1",
          "2017Q2",
          "2017Q3",
          "2017Q4",
          "2018Q1"
         ],
         "xaxis": "x1",
         "y": [
          321,
          2400,
          4900,
          5150,
          5500,
          6892,
          6457,
          7579,
          7785,
          9834,
          10030,
          11507,
          11580,
          17478,
          14820,
          18345,
          24500,
          22200,
          25000,
          22000,
          26150,
          29870,
          29980
         ],
         "yaxis": "y2"
        },
        {
         "line": {
          "color": "rgba(27, 7, 58, 0.8999999999999999)",
          "dash": "solid",
          "shape": "linear",
          "width": 1.3
         },
         "marker": {
          "size": 12,
          "symbol": "dot"
         },
         "mode": "markers",
         "name": "Real Output per Hour",
         "text": "",
         "type": "scatter",
         "x": [
          "2012Q3",
          "2012Q4",
          "2013Q1",
          "2013Q2",
          "2013Q3",
          "2013Q4",
          "2014Q1",
          "2014Q2",
          "2014Q3",
          "2014Q4",
          "2015Q1",
          "2015Q2",
          "2015Q3",
          "2015Q4",
          "2016Q1",
          "2016Q2",
          "2016Q3",
          "2016Q4",
          "2017Q1",
          "2017Q2",
          "2017Q3",
          "2017Q4",
          "2018Q1"
         ],
         "y": [
          104.50299999999999,
          104.059,
          104.304,
          104.147,
          104.57,
          105.634,
          104.78200000000001,
          105.435,
          106.53,
          105.977,
          106.762,
          107.11200000000001,
          107.429,
          106.697,
          106.415,
          106.66799999999999,
          107.305,
          107.618,
          107.68299999999999,
          108.14200000000001,
          108.84899999999999,
          108.943,
          109.05
         ]
        },
        {
         "line": {
          "color": "rgba(255, 153, 51, 0.6)",
          "dash": "dash",
          "shape": "linear",
          "width": 3
         },
         "mode": "lines",
         "name": "-1804.94*x+1310.84",
         "type": "scatter",
         "x": [
          "2012Q3",
          "2012Q4",
          "2013Q1",
          "2013Q2",
          "2013Q3",
          "2013Q4",
          "2014Q1",
          "2014Q2",
          "2014Q3",
          "2014Q4",
          "2015Q1",
          "2015Q2",
          "2015Q3",
          "2015Q4",
          "2016Q1",
          "2016Q2",
          "2016Q3",
          "2016Q4",
          "2017Q1",
          "2017Q2",
          "2017Q3",
          "2017Q4",
          "2018Q1"
         ],
         "y": [
          -494.0978260869556,
          816.7411067193689,
          2127.5800395256933,
          3438.418972332018,
          4749.257905138342,
          6060.096837944667,
          7370.935770750992,
          8681.774703557316,
          9992.61363636364,
          11303.452569169964,
          12614.29150197629,
          13925.130434782614,
          15235.96936758894,
          16546.808300395263,
          17857.647233201587,
          19168.48616600791,
          20479.325098814235,
          21790.16403162056,
          23101.002964426883,
          24411.841897233207,
          25722.680830039535,
          27033.51976284586,
          28344.358695652183
         ]
        },
        {
         "line": {
          "color": "rgba(55, 128, 191, 0.6)",
          "dash": "dash",
          "shape": "linear",
          "width": 3
         },
         "mode": "lines",
         "name": "103.80*x+0.22",
         "type": "scatter",
         "x": [
          "2012Q3",
          "2012Q4",
          "2013Q1",
          "2013Q2",
          "2013Q3",
          "2013Q4",
          "2014Q1",
          "2014Q2",
          "2014Q3",
          "2014Q4",
          "2015Q1",
          "2015Q2",
          "2015Q3",
          "2015Q4",
          "2016Q1",
          "2016Q2",
          "2016Q3",
          "2016Q4",
          "2017Q1",
          "2017Q2",
          "2017Q3",
          "2017Q4",
          "2018Q1"
         ],
         "y": [
          104.01880434782608,
          104.24086561264822,
          104.46292687747035,
          104.6849881422925,
          104.90704940711463,
          105.12911067193677,
          105.3511719367589,
          105.57323320158105,
          105.79529446640318,
          106.01735573122532,
          106.23941699604745,
          106.46147826086958,
          106.68353952569173,
          106.90560079051386,
          107.127662055336,
          107.34972332015813,
          107.57178458498028,
          107.79384584980241,
          108.01590711462455,
          108.23796837944668,
          108.46002964426881,
          108.68209090909096,
          108.90415217391309
         ]
        },
        {
         "line": {
          "color": "rgba(255, 0, 116, 1.0)",
          "dash": "solid",
          "shape": "linear",
          "width": 1.3
         },
         "marker": {
          "size": 12,
          "symbol": "diamond"
         },
         "mode": "markers",
         "name": "Real Output per Hour",
         "text": "",
         "type": "scatter",
         "x": [
          "2012Q3",
          "2012Q4",
          "2013Q1",
          "2013Q2",
          "2013Q3",
          "2013Q4",
          "2014Q1",
          "2014Q2",
          "2014Q3",
          "2014Q4",
          "2015Q1",
          "2015Q2",
          "2015Q3",
          "2015Q4",
          "2016Q1",
          "2016Q2",
          "2016Q3",
          "2016Q4",
          "2017Q1",
          "2017Q2",
          "2017Q3",
          "2017Q4",
          "2018Q1"
         ],
         "y": [
          104.50299999999999,
          104.059,
          104.304,
          104.147,
          104.57,
          105.634,
          104.78200000000001,
          105.435,
          106.53,
          105.977,
          106.762,
          107.11200000000001,
          107.429,
          106.697,
          106.415,
          106.66799999999999,
          107.305,
          107.618,
          107.68299999999999,
          108.14200000000001,
          108.84899999999999,
          108.943,
          109.05
         ]
        }
       ],
       "layout": {
        "legend": {
         "bgcolor": "#F5F6F9",
         "font": {
          "color": "#4D5663"
         }
        },
        "paper_bgcolor": "#F5F6F9",
        "plot_bgcolor": "#F5F6F9",
        "showlegend": false,
        "title": "Comparitive Time Series",
        "titlefont": {
         "color": "#4D5663"
        },
        "xaxis1": {
         "gridcolor": "#E1E5ED",
         "showgrid": true,
         "tickfont": {
          "color": "#4D5663"
         },
         "title": "",
         "titlefont": {
          "color": "#4D5663"
         },
         "zerolinecolor": "#E1E5ED"
        },
        "yaxis1": {
         "gridcolor": "#E1E5ED",
         "showgrid": true,
         "tickfont": {
          "color": "#4D5663"
         },
         "title": "Real Productivity per Hour ($)",
         "titlefont": {
          "color": "#4D5663"
         },
         "zerolinecolor": "#E1E5ED"
        },
        "yaxis2": {
         "anchor": "x1",
         "gridcolor": "#E1E5ED",
         "overlaying": "y1",
         "showgrid": true,
         "side": "right",
         "tickfont": {
          "color": "#4D5663"
         },
         "title": "Car Units Produced",
         "titlefont": {
          "color": "#4D5663"
         },
         "zerolinecolor": "#E1E5ED"
        }
       }
      },
      "text/html": [
       "<div id=\"2f38d6cd-0cc4-4b41-bba5-1ac075a60794\" style=\"height: 525px; width: 100%;\" class=\"plotly-graph-div\"></div><script type=\"text/javascript\">require([\"plotly\"], function(Plotly) { window.PLOTLYENV=window.PLOTLYENV || {};window.PLOTLYENV.BASE_URL=\"https://plot.ly\";Plotly.newPlot(\"2f38d6cd-0cc4-4b41-bba5-1ac075a60794\", [{\"type\": \"scatter\", \"x\": [\"2012Q3\", \"2012Q4\", \"2013Q1\", \"2013Q2\", \"2013Q3\", \"2013Q4\", \"2014Q1\", \"2014Q2\", \"2014Q3\", \"2014Q4\", \"2015Q1\", \"2015Q2\", \"2015Q3\", \"2015Q4\", \"2016Q1\", \"2016Q2\", \"2016Q3\", \"2016Q4\", \"2017Q1\", \"2017Q2\", \"2017Q3\", \"2017Q4\", \"2018Q1\"], \"y\": [321, 2400, 4900, 5150, 5500, 6892, 6457, 7579, 7785, 9834, 10030, 11507, 11580, 17478, 14820, 18345, 24500, 22200, 25000, 22000, 26150, 29870, 29980], \"name\": \"Tesla Production\", \"text\": \"\", \"line\": {\"color\": \"rgba(27, 7, 58, 1.0)\", \"width\": 1.3, \"dash\": \"solid\", \"shape\": \"linear\"}, \"mode\": \"markers\", \"marker\": {\"symbol\": \"dot\", \"size\": 12}, \"xaxis\": \"x1\", \"yaxis\": \"y2\"}, {\"type\": \"scatter\", \"x\": [\"2012Q3\", \"2012Q4\", \"2013Q1\", \"2013Q2\", \"2013Q3\", \"2013Q4\", \"2014Q1\", \"2014Q2\", \"2014Q3\", \"2014Q4\", \"2015Q1\", \"2015Q2\", \"2015Q3\", \"2015Q4\", \"2016Q1\", \"2016Q2\", \"2016Q3\", \"2016Q4\", \"2017Q1\", \"2017Q2\", \"2017Q3\", \"2017Q4\", \"2018Q1\"], \"y\": [104.50299999999999, 104.059, 104.304, 104.147, 104.57, 105.634, 104.78200000000001, 105.435, 106.53, 105.977, 106.762, 107.11200000000001, 107.429, 106.697, 106.415, 106.66799999999999, 107.305, 107.618, 107.68299999999999, 108.14200000000001, 108.84899999999999, 108.943, 109.05], \"name\": \"Real Output per Hour\", \"text\": \"\", \"line\": {\"color\": \"rgba(27, 7, 58, 0.8999999999999999)\", \"width\": 1.3, \"dash\": \"solid\", \"shape\": \"linear\"}, \"mode\": \"markers\", \"marker\": {\"symbol\": \"dot\", \"size\": 12}}, {\"type\": \"scatter\", \"x\": [\"2012Q3\", \"2012Q4\", \"2013Q1\", \"2013Q2\", \"2013Q3\", \"2013Q4\", \"2014Q1\", \"2014Q2\", \"2014Q3\", \"2014Q4\", \"2015Q1\", \"2015Q2\", \"2015Q3\", \"2015Q4\", \"2016Q1\", \"2016Q2\", \"2016Q3\", \"2016Q4\", \"2017Q1\", \"2017Q2\", \"2017Q3\", \"2017Q4\", \"2018Q1\"], \"y\": [-494.0978260869556, 816.7411067193689, 2127.5800395256933, 3438.418972332018, 4749.257905138342, 6060.096837944667, 7370.935770750992, 8681.774703557316, 9992.61363636364, 11303.452569169964, 12614.29150197629, 13925.130434782614, 15235.96936758894, 16546.808300395263, 17857.647233201587, 19168.48616600791, 20479.325098814235, 21790.16403162056, 23101.002964426883, 24411.841897233207, 25722.680830039535, 27033.51976284586, 28344.358695652183], \"name\": \"-1804.94*x+1310.84\", \"line\": {\"color\": \"rgba(255, 153, 51, 0.6)\", \"width\": 3, \"dash\": \"dash\", \"shape\": \"linear\"}, \"mode\": \"lines\"}, {\"type\": \"scatter\", \"x\": [\"2012Q3\", \"2012Q4\", \"2013Q1\", \"2013Q2\", \"2013Q3\", \"2013Q4\", \"2014Q1\", \"2014Q2\", \"2014Q3\", \"2014Q4\", \"2015Q1\", \"2015Q2\", \"2015Q3\", \"2015Q4\", \"2016Q1\", \"2016Q2\", \"2016Q3\", \"2016Q4\", \"2017Q1\", \"2017Q2\", \"2017Q3\", \"2017Q4\", \"2018Q1\"], \"y\": [104.01880434782608, 104.24086561264822, 104.46292687747035, 104.6849881422925, 104.90704940711463, 105.12911067193677, 105.3511719367589, 105.57323320158105, 105.79529446640318, 106.01735573122532, 106.23941699604745, 106.46147826086958, 106.68353952569173, 106.90560079051386, 107.127662055336, 107.34972332015813, 107.57178458498028, 107.79384584980241, 108.01590711462455, 108.23796837944668, 108.46002964426881, 108.68209090909096, 108.90415217391309], \"name\": \"103.80*x+0.22\", \"line\": {\"color\": \"rgba(55, 128, 191, 0.6)\", \"width\": 3, \"dash\": \"dash\", \"shape\": \"linear\"}, \"mode\": \"lines\"}, {\"type\": \"scatter\", \"x\": [\"2012Q3\", \"2012Q4\", \"2013Q1\", \"2013Q2\", \"2013Q3\", \"2013Q4\", \"2014Q1\", \"2014Q2\", \"2014Q3\", \"2014Q4\", \"2015Q1\", \"2015Q2\", \"2015Q3\", \"2015Q4\", \"2016Q1\", \"2016Q2\", \"2016Q3\", \"2016Q4\", \"2017Q1\", \"2017Q2\", \"2017Q3\", \"2017Q4\", \"2018Q1\"], \"y\": [104.50299999999999, 104.059, 104.304, 104.147, 104.57, 105.634, 104.78200000000001, 105.435, 106.53, 105.977, 106.762, 107.11200000000001, 107.429, 106.697, 106.415, 106.66799999999999, 107.305, 107.618, 107.68299999999999, 108.14200000000001, 108.84899999999999, 108.943, 109.05], \"name\": \"Real Output per Hour\", \"text\": \"\", \"line\": {\"color\": \"rgba(255, 0, 116, 1.0)\", \"width\": 1.3, \"dash\": \"solid\", \"shape\": \"linear\"}, \"mode\": \"markers\", \"marker\": {\"symbol\": \"diamond\", \"size\": 12}}], {\"legend\": {\"bgcolor\": \"#F5F6F9\", \"font\": {\"color\": \"#4D5663\"}}, \"paper_bgcolor\": \"#F5F6F9\", \"plot_bgcolor\": \"#F5F6F9\", \"yaxis1\": {\"tickfont\": {\"color\": \"#4D5663\"}, \"gridcolor\": \"#E1E5ED\", \"titlefont\": {\"color\": \"#4D5663\"}, \"zerolinecolor\": \"#E1E5ED\", \"showgrid\": true, \"title\": \"Real Productivity per Hour ($)\"}, \"xaxis1\": {\"tickfont\": {\"color\": \"#4D5663\"}, \"gridcolor\": \"#E1E5ED\", \"titlefont\": {\"color\": \"#4D5663\"}, \"zerolinecolor\": \"#E1E5ED\", \"showgrid\": true, \"title\": \"\"}, \"titlefont\": {\"color\": \"#4D5663\"}, \"title\": \"Comparitive Time Series\", \"showlegend\": false, \"yaxis2\": {\"tickfont\": {\"color\": \"#4D5663\"}, \"gridcolor\": \"#E1E5ED\", \"titlefont\": {\"color\": \"#4D5663\"}, \"zerolinecolor\": \"#E1E5ED\", \"showgrid\": true, \"title\": \"Car Units Produced\", \"overlaying\": \"y1\", \"side\": \"right\", \"anchor\": \"x1\"}}, {\"showLink\": true, \"linkText\": \"Export to plot.ly\"})});</script>"
      ],
      "text/vnd.plotly.v1+html": [
       "<div id=\"2f38d6cd-0cc4-4b41-bba5-1ac075a60794\" style=\"height: 525px; width: 100%;\" class=\"plotly-graph-div\"></div><script type=\"text/javascript\">require([\"plotly\"], function(Plotly) { window.PLOTLYENV=window.PLOTLYENV || {};window.PLOTLYENV.BASE_URL=\"https://plot.ly\";Plotly.newPlot(\"2f38d6cd-0cc4-4b41-bba5-1ac075a60794\", [{\"type\": \"scatter\", \"x\": [\"2012Q3\", \"2012Q4\", \"2013Q1\", \"2013Q2\", \"2013Q3\", \"2013Q4\", \"2014Q1\", \"2014Q2\", \"2014Q3\", \"2014Q4\", \"2015Q1\", \"2015Q2\", \"2015Q3\", \"2015Q4\", \"2016Q1\", \"2016Q2\", \"2016Q3\", \"2016Q4\", \"2017Q1\", \"2017Q2\", \"2017Q3\", \"2017Q4\", \"2018Q1\"], \"y\": [321, 2400, 4900, 5150, 5500, 6892, 6457, 7579, 7785, 9834, 10030, 11507, 11580, 17478, 14820, 18345, 24500, 22200, 25000, 22000, 26150, 29870, 29980], \"name\": \"Tesla Production\", \"text\": \"\", \"line\": {\"color\": \"rgba(27, 7, 58, 1.0)\", \"width\": 1.3, \"dash\": \"solid\", \"shape\": \"linear\"}, \"mode\": \"markers\", \"marker\": {\"symbol\": \"dot\", \"size\": 12}, \"xaxis\": \"x1\", \"yaxis\": \"y2\"}, {\"type\": \"scatter\", \"x\": [\"2012Q3\", \"2012Q4\", \"2013Q1\", \"2013Q2\", \"2013Q3\", \"2013Q4\", \"2014Q1\", \"2014Q2\", \"2014Q3\", \"2014Q4\", \"2015Q1\", \"2015Q2\", \"2015Q3\", \"2015Q4\", \"2016Q1\", \"2016Q2\", \"2016Q3\", \"2016Q4\", \"2017Q1\", \"2017Q2\", \"2017Q3\", \"2017Q4\", \"2018Q1\"], \"y\": [104.50299999999999, 104.059, 104.304, 104.147, 104.57, 105.634, 104.78200000000001, 105.435, 106.53, 105.977, 106.762, 107.11200000000001, 107.429, 106.697, 106.415, 106.66799999999999, 107.305, 107.618, 107.68299999999999, 108.14200000000001, 108.84899999999999, 108.943, 109.05], \"name\": \"Real Output per Hour\", \"text\": \"\", \"line\": {\"color\": \"rgba(27, 7, 58, 0.8999999999999999)\", \"width\": 1.3, \"dash\": \"solid\", \"shape\": \"linear\"}, \"mode\": \"markers\", \"marker\": {\"symbol\": \"dot\", \"size\": 12}}, {\"type\": \"scatter\", \"x\": [\"2012Q3\", \"2012Q4\", \"2013Q1\", \"2013Q2\", \"2013Q3\", \"2013Q4\", \"2014Q1\", \"2014Q2\", \"2014Q3\", \"2014Q4\", \"2015Q1\", \"2015Q2\", \"2015Q3\", \"2015Q4\", \"2016Q1\", \"2016Q2\", \"2016Q3\", \"2016Q4\", \"2017Q1\", \"2017Q2\", \"2017Q3\", \"2017Q4\", \"2018Q1\"], \"y\": [-494.0978260869556, 816.7411067193689, 2127.5800395256933, 3438.418972332018, 4749.257905138342, 6060.096837944667, 7370.935770750992, 8681.774703557316, 9992.61363636364, 11303.452569169964, 12614.29150197629, 13925.130434782614, 15235.96936758894, 16546.808300395263, 17857.647233201587, 19168.48616600791, 20479.325098814235, 21790.16403162056, 23101.002964426883, 24411.841897233207, 25722.680830039535, 27033.51976284586, 28344.358695652183], \"name\": \"-1804.94*x+1310.84\", \"line\": {\"color\": \"rgba(255, 153, 51, 0.6)\", \"width\": 3, \"dash\": \"dash\", \"shape\": \"linear\"}, \"mode\": \"lines\"}, {\"type\": \"scatter\", \"x\": [\"2012Q3\", \"2012Q4\", \"2013Q1\", \"2013Q2\", \"2013Q3\", \"2013Q4\", \"2014Q1\", \"2014Q2\", \"2014Q3\", \"2014Q4\", \"2015Q1\", \"2015Q2\", \"2015Q3\", \"2015Q4\", \"2016Q1\", \"2016Q2\", \"2016Q3\", \"2016Q4\", \"2017Q1\", \"2017Q2\", \"2017Q3\", \"2017Q4\", \"2018Q1\"], \"y\": [104.01880434782608, 104.24086561264822, 104.46292687747035, 104.6849881422925, 104.90704940711463, 105.12911067193677, 105.3511719367589, 105.57323320158105, 105.79529446640318, 106.01735573122532, 106.23941699604745, 106.46147826086958, 106.68353952569173, 106.90560079051386, 107.127662055336, 107.34972332015813, 107.57178458498028, 107.79384584980241, 108.01590711462455, 108.23796837944668, 108.46002964426881, 108.68209090909096, 108.90415217391309], \"name\": \"103.80*x+0.22\", \"line\": {\"color\": \"rgba(55, 128, 191, 0.6)\", \"width\": 3, \"dash\": \"dash\", \"shape\": \"linear\"}, \"mode\": \"lines\"}, {\"type\": \"scatter\", \"x\": [\"2012Q3\", \"2012Q4\", \"2013Q1\", \"2013Q2\", \"2013Q3\", \"2013Q4\", \"2014Q1\", \"2014Q2\", \"2014Q3\", \"2014Q4\", \"2015Q1\", \"2015Q2\", \"2015Q3\", \"2015Q4\", \"2016Q1\", \"2016Q2\", \"2016Q3\", \"2016Q4\", \"2017Q1\", \"2017Q2\", \"2017Q3\", \"2017Q4\", \"2018Q1\"], \"y\": [104.50299999999999, 104.059, 104.304, 104.147, 104.57, 105.634, 104.78200000000001, 105.435, 106.53, 105.977, 106.762, 107.11200000000001, 107.429, 106.697, 106.415, 106.66799999999999, 107.305, 107.618, 107.68299999999999, 108.14200000000001, 108.84899999999999, 108.943, 109.05], \"name\": \"Real Output per Hour\", \"text\": \"\", \"line\": {\"color\": \"rgba(255, 0, 116, 1.0)\", \"width\": 1.3, \"dash\": \"solid\", \"shape\": \"linear\"}, \"mode\": \"markers\", \"marker\": {\"symbol\": \"diamond\", \"size\": 12}}], {\"legend\": {\"bgcolor\": \"#F5F6F9\", \"font\": {\"color\": \"#4D5663\"}}, \"paper_bgcolor\": \"#F5F6F9\", \"plot_bgcolor\": \"#F5F6F9\", \"yaxis1\": {\"tickfont\": {\"color\": \"#4D5663\"}, \"gridcolor\": \"#E1E5ED\", \"titlefont\": {\"color\": \"#4D5663\"}, \"zerolinecolor\": \"#E1E5ED\", \"showgrid\": true, \"title\": \"Real Productivity per Hour ($)\"}, \"xaxis1\": {\"tickfont\": {\"color\": \"#4D5663\"}, \"gridcolor\": \"#E1E5ED\", \"titlefont\": {\"color\": \"#4D5663\"}, \"zerolinecolor\": \"#E1E5ED\", \"showgrid\": true, \"title\": \"\"}, \"titlefont\": {\"color\": \"#4D5663\"}, \"title\": \"Comparitive Time Series\", \"showlegend\": false, \"yaxis2\": {\"tickfont\": {\"color\": \"#4D5663\"}, \"gridcolor\": \"#E1E5ED\", \"titlefont\": {\"color\": \"#4D5663\"}, \"zerolinecolor\": \"#E1E5ED\", \"showgrid\": true, \"title\": \"Car Units Produced\", \"overlaying\": \"y1\", \"side\": \"right\", \"anchor\": \"x1\"}}, {\"showLink\": true, \"linkText\": \"Export to plot.ly\"})});</script>"
      ]
     },
     "metadata": {},
     "output_type": "display_data"
    }
   ],
   "source": [
    "fig2 = df.iplot(\n",
    "    columns=['Real Output per Hour'], \n",
    "    asFigure=True, \n",
    "    kind='scatter', \n",
    "    showlegend=False,\n",
    "    colors = ('#ff0074'),\n",
    "    yTitle='Real Output per Hour',\n",
    "    x='Date',\n",
    "    mode='markers',\n",
    "    symbol='diamond'\n",
    "    )\n",
    "fig3 = df.iplot(\n",
    "    asFigure=True,\n",
    "    kind='scatter', \n",
    "    secondary_y=['Tesla Production'],\n",
    "    showlegend=False,\n",
    "    title='Comparitive Time Series',\n",
    "    yTitle='Real Productivity per Hour ($)',\n",
    "    secondary_y_title = 'Car Units Produced',\n",
    "    colors = ('#1b073a'),\n",
    "    x='Date',\n",
    "    mode='markers',\n",
    "    )\n",
    "\n",
    "fig3['data'].extend(fig2['data'])\n",
    "\n",
    "iplot(fig3)"
   ]
  },
  {
   "cell_type": "code",
   "execution_count": 14,
   "metadata": {},
   "outputs": [],
   "source": [
    "model = sm.OLS(df['Tesla Production'],df['Real Output per Hour'])"
   ]
  },
  {
   "cell_type": "code",
   "execution_count": 15,
   "metadata": {},
   "outputs": [],
   "source": [
    "results = model.fit()"
   ]
  },
  {
   "cell_type": "code",
   "execution_count": 16,
   "metadata": {
    "scrolled": false
   },
   "outputs": [
    {
     "name": "stdout",
     "output_type": "stream",
     "text": [
      "                            OLS Regression Results                            \n",
      "==============================================================================\n",
      "Dep. Variable:       Tesla Production   R-squared:                       0.720\n",
      "Model:                            OLS   Adj. R-squared:                  0.708\n",
      "Method:                 Least Squares   F-statistic:                     56.64\n",
      "Date:                Sun, 24 Jun 2018   Prob (F-statistic):           1.60e-07\n",
      "Time:                        15:57:27   Log-Likelihood:                -241.41\n",
      "No. Observations:                  23   AIC:                             484.8\n",
      "Df Residuals:                      22   BIC:                             485.9\n",
      "Df Model:                           1                                         \n",
      "Covariance Type:            nonrobust                                         \n",
      "========================================================================================\n",
      "                           coef    std err          t      P>|t|      [0.025      0.975]\n",
      "----------------------------------------------------------------------------------------\n",
      "Real Output per Hour   131.8811     17.523      7.526      0.000      95.540     168.222\n",
      "==============================================================================\n",
      "Omnibus:                        3.981   Durbin-Watson:                   0.094\n",
      "Prob(Omnibus):                  0.137   Jarque-Bera (JB):                1.895\n",
      "Skew:                           0.391   Prob(JB):                        0.388\n",
      "Kurtosis:                       1.831   Cond. No.                         1.00\n",
      "==============================================================================\n",
      "\n",
      "Warnings:\n",
      "[1] Standard Errors assume that the covariance matrix of the errors is correctly specified.\n"
     ]
    }
   ],
   "source": [
    "print(results.summary())"
   ]
  },
  {
   "cell_type": "code",
   "execution_count": 17,
   "metadata": {},
   "outputs": [],
   "source": [
    "df_model=df"
   ]
  },
  {
   "cell_type": "code",
   "execution_count": 18,
   "metadata": {},
   "outputs": [],
   "source": [
    "df['Fitted Values']=results.fittedvalues"
   ]
  },
  {
   "cell_type": "code",
   "execution_count": 19,
   "metadata": {},
   "outputs": [],
   "source": [
    "df['Residuals']=results.resid"
   ]
  },
  {
   "cell_type": "code",
   "execution_count": 20,
   "metadata": {},
   "outputs": [
    {
     "data": {
      "text/html": [
       "<div>\n",
       "<style scoped>\n",
       "    .dataframe tbody tr th:only-of-type {\n",
       "        vertical-align: middle;\n",
       "    }\n",
       "\n",
       "    .dataframe tbody tr th {\n",
       "        vertical-align: top;\n",
       "    }\n",
       "\n",
       "    .dataframe thead th {\n",
       "        text-align: right;\n",
       "    }\n",
       "</style>\n",
       "<table border=\"1\" class=\"dataframe\">\n",
       "  <thead>\n",
       "    <tr style=\"text-align: right;\">\n",
       "      <th></th>\n",
       "      <th>Date</th>\n",
       "      <th>Tesla Production</th>\n",
       "      <th>Real Output per Hour</th>\n",
       "      <th>Fitted Values</th>\n",
       "      <th>Residuals</th>\n",
       "    </tr>\n",
       "  </thead>\n",
       "  <tbody>\n",
       "    <tr>\n",
       "      <th>0</th>\n",
       "      <td>2012Q3</td>\n",
       "      <td>321</td>\n",
       "      <td>104.503</td>\n",
       "      <td>13781.970852</td>\n",
       "      <td>-13460.970852</td>\n",
       "    </tr>\n",
       "    <tr>\n",
       "      <th>1</th>\n",
       "      <td>2012Q4</td>\n",
       "      <td>2400</td>\n",
       "      <td>104.059</td>\n",
       "      <td>13723.415643</td>\n",
       "      <td>-11323.415643</td>\n",
       "    </tr>\n",
       "    <tr>\n",
       "      <th>2</th>\n",
       "      <td>2013Q1</td>\n",
       "      <td>4900</td>\n",
       "      <td>104.304</td>\n",
       "      <td>13755.726513</td>\n",
       "      <td>-8855.726513</td>\n",
       "    </tr>\n",
       "    <tr>\n",
       "      <th>3</th>\n",
       "      <td>2013Q2</td>\n",
       "      <td>5150</td>\n",
       "      <td>104.147</td>\n",
       "      <td>13735.021180</td>\n",
       "      <td>-8585.021180</td>\n",
       "    </tr>\n",
       "    <tr>\n",
       "      <th>4</th>\n",
       "      <td>2013Q3</td>\n",
       "      <td>5500</td>\n",
       "      <td>104.570</td>\n",
       "      <td>13790.806886</td>\n",
       "      <td>-8290.806886</td>\n",
       "    </tr>\n",
       "    <tr>\n",
       "      <th>5</th>\n",
       "      <td>2013Q4</td>\n",
       "      <td>6892</td>\n",
       "      <td>105.634</td>\n",
       "      <td>13931.128379</td>\n",
       "      <td>-7039.128379</td>\n",
       "    </tr>\n",
       "    <tr>\n",
       "      <th>6</th>\n",
       "      <td>2014Q1</td>\n",
       "      <td>6457</td>\n",
       "      <td>104.782</td>\n",
       "      <td>13818.765680</td>\n",
       "      <td>-7361.765680</td>\n",
       "    </tr>\n",
       "    <tr>\n",
       "      <th>7</th>\n",
       "      <td>2014Q2</td>\n",
       "      <td>7579</td>\n",
       "      <td>105.435</td>\n",
       "      <td>13904.884040</td>\n",
       "      <td>-6325.884040</td>\n",
       "    </tr>\n",
       "    <tr>\n",
       "      <th>8</th>\n",
       "      <td>2014Q3</td>\n",
       "      <td>7785</td>\n",
       "      <td>106.530</td>\n",
       "      <td>14049.293847</td>\n",
       "      <td>-6264.293847</td>\n",
       "    </tr>\n",
       "    <tr>\n",
       "      <th>9</th>\n",
       "      <td>2014Q4</td>\n",
       "      <td>9834</td>\n",
       "      <td>105.977</td>\n",
       "      <td>13976.363597</td>\n",
       "      <td>-4142.363597</td>\n",
       "    </tr>\n",
       "    <tr>\n",
       "      <th>10</th>\n",
       "      <td>2015Q1</td>\n",
       "      <td>10030</td>\n",
       "      <td>106.762</td>\n",
       "      <td>14079.890263</td>\n",
       "      <td>-4049.890263</td>\n",
       "    </tr>\n",
       "    <tr>\n",
       "      <th>11</th>\n",
       "      <td>2015Q2</td>\n",
       "      <td>11507</td>\n",
       "      <td>107.112</td>\n",
       "      <td>14126.048649</td>\n",
       "      <td>-2619.048649</td>\n",
       "    </tr>\n",
       "    <tr>\n",
       "      <th>12</th>\n",
       "      <td>2015Q3</td>\n",
       "      <td>11580</td>\n",
       "      <td>107.429</td>\n",
       "      <td>14167.854958</td>\n",
       "      <td>-2587.854958</td>\n",
       "    </tr>\n",
       "    <tr>\n",
       "      <th>13</th>\n",
       "      <td>2015Q4</td>\n",
       "      <td>17478</td>\n",
       "      <td>106.697</td>\n",
       "      <td>14071.317991</td>\n",
       "      <td>3406.682009</td>\n",
       "    </tr>\n",
       "    <tr>\n",
       "      <th>14</th>\n",
       "      <td>2016Q1</td>\n",
       "      <td>14820</td>\n",
       "      <td>106.415</td>\n",
       "      <td>14034.127520</td>\n",
       "      <td>785.872480</td>\n",
       "    </tr>\n",
       "    <tr>\n",
       "      <th>15</th>\n",
       "      <td>2016Q2</td>\n",
       "      <td>18345</td>\n",
       "      <td>106.668</td>\n",
       "      <td>14067.493439</td>\n",
       "      <td>4277.506561</td>\n",
       "    </tr>\n",
       "    <tr>\n",
       "      <th>16</th>\n",
       "      <td>2016Q3</td>\n",
       "      <td>24500</td>\n",
       "      <td>107.305</td>\n",
       "      <td>14151.501701</td>\n",
       "      <td>10348.498299</td>\n",
       "    </tr>\n",
       "    <tr>\n",
       "      <th>17</th>\n",
       "      <td>2016Q4</td>\n",
       "      <td>22200</td>\n",
       "      <td>107.618</td>\n",
       "      <td>14192.780486</td>\n",
       "      <td>8007.219514</td>\n",
       "    </tr>\n",
       "    <tr>\n",
       "      <th>18</th>\n",
       "      <td>2017Q1</td>\n",
       "      <td>25000</td>\n",
       "      <td>107.683</td>\n",
       "      <td>14201.352758</td>\n",
       "      <td>10798.647242</td>\n",
       "    </tr>\n",
       "    <tr>\n",
       "      <th>19</th>\n",
       "      <td>2017Q2</td>\n",
       "      <td>22000</td>\n",
       "      <td>108.142</td>\n",
       "      <td>14261.886184</td>\n",
       "      <td>7738.113816</td>\n",
       "    </tr>\n",
       "    <tr>\n",
       "      <th>20</th>\n",
       "      <td>2017Q3</td>\n",
       "      <td>26150</td>\n",
       "      <td>108.849</td>\n",
       "      <td>14355.126124</td>\n",
       "      <td>11794.873876</td>\n",
       "    </tr>\n",
       "    <tr>\n",
       "      <th>21</th>\n",
       "      <td>2017Q4</td>\n",
       "      <td>29870</td>\n",
       "      <td>108.943</td>\n",
       "      <td>14367.522947</td>\n",
       "      <td>15502.477053</td>\n",
       "    </tr>\n",
       "    <tr>\n",
       "      <th>22</th>\n",
       "      <td>2018Q1</td>\n",
       "      <td>29980</td>\n",
       "      <td>109.050</td>\n",
       "      <td>14381.634225</td>\n",
       "      <td>15598.365775</td>\n",
       "    </tr>\n",
       "  </tbody>\n",
       "</table>\n",
       "</div>"
      ],
      "text/plain": [
       "      Date  Tesla Production  Real Output per Hour  Fitted Values  \\\n",
       "0   2012Q3               321               104.503   13781.970852   \n",
       "1   2012Q4              2400               104.059   13723.415643   \n",
       "2   2013Q1              4900               104.304   13755.726513   \n",
       "3   2013Q2              5150               104.147   13735.021180   \n",
       "4   2013Q3              5500               104.570   13790.806886   \n",
       "5   2013Q4              6892               105.634   13931.128379   \n",
       "6   2014Q1              6457               104.782   13818.765680   \n",
       "7   2014Q2              7579               105.435   13904.884040   \n",
       "8   2014Q3              7785               106.530   14049.293847   \n",
       "9   2014Q4              9834               105.977   13976.363597   \n",
       "10  2015Q1             10030               106.762   14079.890263   \n",
       "11  2015Q2             11507               107.112   14126.048649   \n",
       "12  2015Q3             11580               107.429   14167.854958   \n",
       "13  2015Q4             17478               106.697   14071.317991   \n",
       "14  2016Q1             14820               106.415   14034.127520   \n",
       "15  2016Q2             18345               106.668   14067.493439   \n",
       "16  2016Q3             24500               107.305   14151.501701   \n",
       "17  2016Q4             22200               107.618   14192.780486   \n",
       "18  2017Q1             25000               107.683   14201.352758   \n",
       "19  2017Q2             22000               108.142   14261.886184   \n",
       "20  2017Q3             26150               108.849   14355.126124   \n",
       "21  2017Q4             29870               108.943   14367.522947   \n",
       "22  2018Q1             29980               109.050   14381.634225   \n",
       "\n",
       "       Residuals  \n",
       "0  -13460.970852  \n",
       "1  -11323.415643  \n",
       "2   -8855.726513  \n",
       "3   -8585.021180  \n",
       "4   -8290.806886  \n",
       "5   -7039.128379  \n",
       "6   -7361.765680  \n",
       "7   -6325.884040  \n",
       "8   -6264.293847  \n",
       "9   -4142.363597  \n",
       "10  -4049.890263  \n",
       "11  -2619.048649  \n",
       "12  -2587.854958  \n",
       "13   3406.682009  \n",
       "14    785.872480  \n",
       "15   4277.506561  \n",
       "16  10348.498299  \n",
       "17   8007.219514  \n",
       "18  10798.647242  \n",
       "19   7738.113816  \n",
       "20  11794.873876  \n",
       "21  15502.477053  \n",
       "22  15598.365775  "
      ]
     },
     "execution_count": 20,
     "metadata": {},
     "output_type": "execute_result"
    }
   ],
   "source": [
    "df"
   ]
  },
  {
   "cell_type": "code",
   "execution_count": 21,
   "metadata": {},
   "outputs": [
    {
     "data": {
      "text/plain": [
       "320278"
      ]
     },
     "execution_count": 21,
     "metadata": {},
     "output_type": "execute_result"
    }
   ],
   "source": [
    "df['Tesla Production'].sum()"
   ]
  },
  {
   "cell_type": "code",
   "execution_count": 22,
   "metadata": {},
   "outputs": [
    {
     "data": {
      "text/plain": [
       "0.9140488377327192"
      ]
     },
     "execution_count": 22,
     "metadata": {},
     "output_type": "execute_result"
    }
   ],
   "source": [
    "df['Tesla Production'].corr(df['Real Output per Hour'])"
   ]
  },
  {
   "cell_type": "markdown",
   "metadata": {},
   "source": [
    "# TODO \n",
    "* Cacluate line of best fit (OLS), add to df\n",
    "* distribution\n",
    "* R \n",
    "* adj. R \n",
    "* Pearsons Correlation \n",
    "* heteroskedasticity robust \n",
    "* Skewness\n",
    "* Kurtosis\n",
    "* ones and talk about areas to move on with this stuff"
   ]
  },
  {
   "cell_type": "code",
   "execution_count": null,
   "metadata": {},
   "outputs": [],
   "source": []
  }
 ],
 "metadata": {
  "kernelspec": {
   "display_name": "Python 3",
   "language": "python",
   "name": "python3"
  },
  "language_info": {
   "codemirror_mode": {
    "name": "ipython",
    "version": 3
   },
   "file_extension": ".py",
   "mimetype": "text/x-python",
   "name": "python",
   "nbconvert_exporter": "python",
   "pygments_lexer": "ipython3",
   "version": "3.6.5"
  }
 },
 "nbformat": 4,
 "nbformat_minor": 2
}
