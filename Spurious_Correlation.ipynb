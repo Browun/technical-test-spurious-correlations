{
 "cells": [
  {
   "cell_type": "markdown",
   "metadata": {},
   "source": [
    "# Spurious Correlations\n",
    "***\n",
    "## Introduction\n",
    "This is a **short** *exploratory data analysis (EDA)* and *visualisation* of two random datasets. Even from this brief analysis, it is apparent that there are underlying issues within the datasets that would need further analysis and cleansing before serious, meaningful insights **could** and/or **should** be inferred. For further discussion on this see [Statistical Disclaimer Section](##statistical-disclaimer)\n",
    "\n",
    "Ofcourse, these data series are not completely random. I wanted them to have:\n",
    " 1. Interesting narrative potential\n",
    " 2. Minimize the need for data cleansing\n",
    " \n",
    "Which led me to picking:\n",
    "- Tesla Production\n",
    "    - [Available as estimates from Statista](https://www.statista.com/statistics/715421/tesla-quarterly-vehicle-production/)\n",
    "    - Total number of units sold\n",
    "- Nonfarm Business Sector: Real Output Per Hour of All Persons\n",
    "    - [Available from Federal Reserve Bank of St. Louis](https://fred.stlouisfed.org/series/OPHNFB)\n",
    "    - Taken as an index (100 being 2012 Q3)\n",
    "***    \n",
    "## Data\n",
    "Both time series datasets are exclusively in the range of 2012 Q3 to 2018 Q1.\n",
    "\n",
    "### Tesla Production\n",
    "Given Elon Musk's tendency for secrecy around the inner-workings of Tesla, ([even after a press tour around a section of the manufacturing plant](https://www.cbsnews.com/news/elon-musk-tesla-model-3-problems-interview-today-2018-04-13/)) any specific data for Tesla is hard to come buy. Excluding the publically available financial information.\n",
    "\n",
    "For this reason my data source is based on estimates calculated from this financial information and fact-checked against Tesla press releases.\n",
    "    \n",
    "It represents the *Number of Produced Teslas* of any model since 2012 Q3.\n",
    "\n",
    "### Real Output per Hour\n",
    "Based on the measure from \"Nonfarm Business Sector: Real Output Per Hour of All Persons\", **Nonfarm** is defined by the U.S. Bureau of Labour Statistics as:\n",
    "\n",
    ">... a subset of the domestic economy and excludes the economic activities of the following: general government, private households, nonprofit organizations serving individuals, and farms. \n",
    "\n",
    "In general then and in line with the exceptions stated above, it can be taken to be representative of *productivity per hour* in the U.S. economy.\n",
    "\n",
    "## Statistical Disclaimer\n",
    "As stated above, this exploratory analysis is by no means complete and still leaves questions unanswered in these datasets. When this task was given to me, I was told to: \n",
    "> - select two random data sets\n",
    "- undertake a correlation comparison and visualisation [on them]\n",
    "- add some brief documentation\n",
    "- spend no more than a few minor hours\n",
    "\n",
    "In light of the last point in particular, I have stopped myself from carrying out further tests in areas that I believe would require following for these insights to \"hold water\". This would include tests for:\n",
    "- The presence of unit roots within the data, which is common in many time series datasets. A good source of information can be found on [Wikipedia](https://en.wikipedia.org/wiki/Unit_root) or [Michael's/Patrick's](https://stats.stackexchange.com/questions/29121/intuitive-explanation-of-unit-root) answers should help for anywone interested in Unit Roots.\n",
    "- The presence of Heteroskedasticity within the data, shown in the *OLS Residuals* graph at the bottom of this document. This is non-constant variance across a time series, more information at [StatsMakeMeCry.com](http://www.statsmakemecry.com/smmctheblog/confusing-stats-terms-explained-heteroscedasticity-heteroske.html)\n",
    "- \n",
    "\n",
    "\n",
    "## Tools\n",
    "In the EDA I have utilised *Cufflinks*, *Jupyter Notebooks* (no surprise!), *Pandas*, *Plotly*, and *Statsmodels*.\n",
    "\n",
    "Jupyter Notebooks was utilised to bring this style of interactive presentation, whilst  still allowing use of Markdown and code snippets. Pandas allows easy and powerful data utilisation and Statsmodels (perhaps not surprisingly) allowed for the running of **OLS** (Ordinary Least Squares) regression and neat presentation of standard output statistics. Cufflinks and Poltly are both visualisation packages which make utilisation of multiple other Python visualisation libraries much easier; such as Matplotlib and Seaborn."
   ]
  },
  {
   "cell_type": "code",
   "execution_count": 1,
   "metadata": {},
   "outputs": [
    {
     "data": {
      "text/html": [
       "<script>requirejs.config({paths: { 'plotly': ['https://cdn.plot.ly/plotly-latest.min']},});if(!window.Plotly) {{require(['plotly'],function(plotly) {window.Plotly=plotly;});}}</script>"
      ],
      "text/vnd.plotly.v1+html": [
       "<script>requirejs.config({paths: { 'plotly': ['https://cdn.plot.ly/plotly-latest.min']},});if(!window.Plotly) {{require(['plotly'],function(plotly) {window.Plotly=plotly;});}}</script>"
      ]
     },
     "metadata": {},
     "output_type": "display_data"
    }
   ],
   "source": [
    "# import matplotlib.pyplot as plt\n",
    "import pandas as pd\n",
    "import plotly.plotly as py\n",
    "import plotly.graph_objs as go\n",
    "import cufflinks as cf\n",
    "import statsmodels.api as sm\n",
    "\n",
    "from plotly import __version__\n",
    "from plotly.offline import download_plotlyjs, init_notebook_mode, plot, iplot\n",
    "\n",
    "init_notebook_mode(connected=True)"
   ]
  },
  {
   "cell_type": "markdown",
   "metadata": {},
   "source": [
    "## Imports\n",
    "Import modules utilised, specifically **Pandas** for data handling and **Plotly** for interactive data visualisation. \n",
    "\n",
    "I also have defined options within Plotly that allow for the graphs to be saved and manipulated locally for portability."
   ]
  },
  {
   "cell_type": "code",
   "execution_count": 2,
   "metadata": {},
   "outputs": [],
   "source": [
    "df = pd.read_csv(\"TeslaProduction-BusinessProductivity.csv\")"
   ]
  },
  {
   "cell_type": "code",
   "execution_count": 3,
   "metadata": {},
   "outputs": [
    {
     "data": {
      "text/plain": [
       "(23, 3)"
      ]
     },
     "execution_count": 3,
     "metadata": {},
     "output_type": "execute_result"
    }
   ],
   "source": [
    "df.shape"
   ]
  },
  {
   "cell_type": "markdown",
   "metadata": {},
   "source": [
    "## Data Shape\n",
    "Showing 23 instances of of data in each dataset, of which there are 3 in total."
   ]
  },
  {
   "cell_type": "code",
   "execution_count": 4,
   "metadata": {
    "scrolled": true
   },
   "outputs": [
    {
     "data": {
      "text/html": [
       "<div>\n",
       "<style scoped>\n",
       "    .dataframe tbody tr th:only-of-type {\n",
       "        vertical-align: middle;\n",
       "    }\n",
       "\n",
       "    .dataframe tbody tr th {\n",
       "        vertical-align: top;\n",
       "    }\n",
       "\n",
       "    .dataframe thead th {\n",
       "        text-align: right;\n",
       "    }\n",
       "</style>\n",
       "<table border=\"1\" class=\"dataframe\">\n",
       "  <thead>\n",
       "    <tr style=\"text-align: right;\">\n",
       "      <th></th>\n",
       "      <th>Tesla Production</th>\n",
       "      <th>Real Output per Hour</th>\n",
       "    </tr>\n",
       "  </thead>\n",
       "  <tbody>\n",
       "    <tr>\n",
       "      <th>count</th>\n",
       "      <td>23.000000</td>\n",
       "      <td>23.000000</td>\n",
       "    </tr>\n",
       "    <tr>\n",
       "      <th>mean</th>\n",
       "      <td>13925.130435</td>\n",
       "      <td>106.461478</td>\n",
       "    </tr>\n",
       "    <tr>\n",
       "      <th>std</th>\n",
       "      <td>9136.266914</td>\n",
       "      <td>1.573489</td>\n",
       "    </tr>\n",
       "    <tr>\n",
       "      <th>min</th>\n",
       "      <td>321.000000</td>\n",
       "      <td>104.059000</td>\n",
       "    </tr>\n",
       "    <tr>\n",
       "      <th>25%</th>\n",
       "      <td>6674.500000</td>\n",
       "      <td>105.108500</td>\n",
       "    </tr>\n",
       "    <tr>\n",
       "      <th>50%</th>\n",
       "      <td>11507.000000</td>\n",
       "      <td>106.668000</td>\n",
       "    </tr>\n",
       "    <tr>\n",
       "      <th>75%</th>\n",
       "      <td>22100.000000</td>\n",
       "      <td>107.523500</td>\n",
       "    </tr>\n",
       "    <tr>\n",
       "      <th>max</th>\n",
       "      <td>29980.000000</td>\n",
       "      <td>109.050000</td>\n",
       "    </tr>\n",
       "  </tbody>\n",
       "</table>\n",
       "</div>"
      ],
      "text/plain": [
       "       Tesla Production  Real Output per Hour\n",
       "count         23.000000             23.000000\n",
       "mean       13925.130435            106.461478\n",
       "std         9136.266914              1.573489\n",
       "min          321.000000            104.059000\n",
       "25%         6674.500000            105.108500\n",
       "50%        11507.000000            106.668000\n",
       "75%        22100.000000            107.523500\n",
       "max        29980.000000            109.050000"
      ]
     },
     "execution_count": 4,
     "metadata": {},
     "output_type": "execute_result"
    }
   ],
   "source": [
    "df.describe()"
   ]
  },
  {
   "cell_type": "markdown",
   "metadata": {},
   "source": [
    "## Quick Descriptive Statistics\n",
    "No need to define these variables further, as they're simplistic enough:\n",
    "* Few in number, no need to sample\n",
    "* Scalar in values, not categorical or ordinal\n",
    "\n",
    "Even though we don't need to sample, best to remember that this is still assumed to be a representative sample of the true distributions of each individual dataset."
   ]
  },
  {
   "cell_type": "code",
   "execution_count": 50,
   "metadata": {
    "scrolled": true
   },
   "outputs": [
    {
     "data": {
      "text/html": [
       "<div>\n",
       "<style scoped>\n",
       "    .dataframe tbody tr th:only-of-type {\n",
       "        vertical-align: middle;\n",
       "    }\n",
       "\n",
       "    .dataframe tbody tr th {\n",
       "        vertical-align: top;\n",
       "    }\n",
       "\n",
       "    .dataframe thead th {\n",
       "        text-align: right;\n",
       "    }\n",
       "</style>\n",
       "<table border=\"1\" class=\"dataframe\">\n",
       "  <thead>\n",
       "    <tr style=\"text-align: right;\">\n",
       "      <th></th>\n",
       "      <th>Date</th>\n",
       "      <th>Tesla Production</th>\n",
       "      <th>Real Output per Hour</th>\n",
       "    </tr>\n",
       "  </thead>\n",
       "  <tbody>\n",
       "    <tr>\n",
       "      <th>0</th>\n",
       "      <td>2012Q3</td>\n",
       "      <td>321</td>\n",
       "      <td>104.503</td>\n",
       "    </tr>\n",
       "    <tr>\n",
       "      <th>1</th>\n",
       "      <td>2012Q4</td>\n",
       "      <td>2400</td>\n",
       "      <td>104.059</td>\n",
       "    </tr>\n",
       "    <tr>\n",
       "      <th>2</th>\n",
       "      <td>2013Q1</td>\n",
       "      <td>4900</td>\n",
       "      <td>104.304</td>\n",
       "    </tr>\n",
       "    <tr>\n",
       "      <th>3</th>\n",
       "      <td>2013Q2</td>\n",
       "      <td>5150</td>\n",
       "      <td>104.147</td>\n",
       "    </tr>\n",
       "    <tr>\n",
       "      <th>4</th>\n",
       "      <td>2013Q3</td>\n",
       "      <td>5500</td>\n",
       "      <td>104.570</td>\n",
       "    </tr>\n",
       "  </tbody>\n",
       "</table>\n",
       "</div>"
      ],
      "text/plain": [
       "     Date  Tesla Production  Real Output per Hour\n",
       "0  2012Q3               321               104.503\n",
       "1  2012Q4              2400               104.059\n",
       "2  2013Q1              4900               104.304\n",
       "3  2013Q2              5150               104.147\n",
       "4  2013Q3              5500               104.570"
      ]
     },
     "execution_count": 50,
     "metadata": {},
     "output_type": "execute_result"
    }
   ],
   "source": [
    "df.head()"
   ]
  },
  {
   "cell_type": "code",
   "execution_count": 6,
   "metadata": {},
   "outputs": [
    {
     "data": {
      "text/html": [
       "<div>\n",
       "<style scoped>\n",
       "    .dataframe tbody tr th:only-of-type {\n",
       "        vertical-align: middle;\n",
       "    }\n",
       "\n",
       "    .dataframe tbody tr th {\n",
       "        vertical-align: top;\n",
       "    }\n",
       "\n",
       "    .dataframe thead th {\n",
       "        text-align: right;\n",
       "    }\n",
       "</style>\n",
       "<table border=\"1\" class=\"dataframe\">\n",
       "  <thead>\n",
       "    <tr style=\"text-align: right;\">\n",
       "      <th></th>\n",
       "      <th>Date</th>\n",
       "      <th>Tesla Production</th>\n",
       "      <th>Real Output per Hour</th>\n",
       "    </tr>\n",
       "  </thead>\n",
       "  <tbody>\n",
       "    <tr>\n",
       "      <th>18</th>\n",
       "      <td>2017Q1</td>\n",
       "      <td>25000</td>\n",
       "      <td>107.683</td>\n",
       "    </tr>\n",
       "    <tr>\n",
       "      <th>19</th>\n",
       "      <td>2017Q2</td>\n",
       "      <td>22000</td>\n",
       "      <td>108.142</td>\n",
       "    </tr>\n",
       "    <tr>\n",
       "      <th>20</th>\n",
       "      <td>2017Q3</td>\n",
       "      <td>26150</td>\n",
       "      <td>108.849</td>\n",
       "    </tr>\n",
       "    <tr>\n",
       "      <th>21</th>\n",
       "      <td>2017Q4</td>\n",
       "      <td>29870</td>\n",
       "      <td>108.943</td>\n",
       "    </tr>\n",
       "    <tr>\n",
       "      <th>22</th>\n",
       "      <td>2018Q1</td>\n",
       "      <td>29980</td>\n",
       "      <td>109.050</td>\n",
       "    </tr>\n",
       "  </tbody>\n",
       "</table>\n",
       "</div>"
      ],
      "text/plain": [
       "      Date  Tesla Production  Real Output per Hour\n",
       "18  2017Q1             25000               107.683\n",
       "19  2017Q2             22000               108.142\n",
       "20  2017Q3             26150               108.849\n",
       "21  2017Q4             29870               108.943\n",
       "22  2018Q1             29980               109.050"
      ]
     },
     "execution_count": 6,
     "metadata": {},
     "output_type": "execute_result"
    }
   ],
   "source": [
    "df.tail()"
   ]
  },
  {
   "cell_type": "code",
   "execution_count": 7,
   "metadata": {},
   "outputs": [
    {
     "data": {
      "application/vnd.plotly.v1+json": {
       "data": [
        {
         "marker": {
          "color": "rgb(214, 12, 140)"
         },
         "name": "Tesla Production",
         "type": "box",
         "y": [
          321,
          2400,
          4900,
          5150,
          5500,
          6892,
          6457,
          7579,
          7785,
          9834,
          10030,
          11507,
          11580,
          17478,
          14820,
          18345,
          24500,
          22200,
          25000,
          22000,
          26150,
          29870,
          29980
         ]
        },
        {
         "marker": {
          "color": "rgb(0, 128, 128)"
         },
         "name": "Real Output per Hour",
         "type": "box",
         "y": [
          104.50299999999999,
          104.059,
          104.304,
          104.147,
          104.57,
          105.634,
          104.78200000000001,
          105.435,
          106.53,
          105.977,
          106.762,
          107.11200000000001,
          107.429,
          106.697,
          106.415,
          106.66799999999999,
          107.305,
          107.618,
          107.68299999999999,
          108.14200000000001,
          108.84899999999999,
          108.943,
          109.05
         ]
        }
       ],
       "layout": {}
      },
      "text/html": [
       "<div id=\"c14fc11c-dd03-4913-aa28-b706f8cb0c58\" style=\"height: 525px; width: 100%;\" class=\"plotly-graph-div\"></div><script type=\"text/javascript\">require([\"plotly\"], function(Plotly) { window.PLOTLYENV=window.PLOTLYENV || {};window.PLOTLYENV.BASE_URL=\"https://plot.ly\";Plotly.newPlot(\"c14fc11c-dd03-4913-aa28-b706f8cb0c58\", [{\"type\": \"box\", \"y\": [321, 2400, 4900, 5150, 5500, 6892, 6457, 7579, 7785, 9834, 10030, 11507, 11580, 17478, 14820, 18345, 24500, 22200, 25000, 22000, 26150, 29870, 29980], \"name\": \"Tesla Production\", \"marker\": {\"color\": \"rgb(214, 12, 140)\"}}, {\"type\": \"box\", \"y\": [104.50299999999999, 104.059, 104.304, 104.147, 104.57, 105.634, 104.78200000000001, 105.435, 106.53, 105.977, 106.762, 107.11200000000001, 107.429, 106.697, 106.415, 106.66799999999999, 107.305, 107.618, 107.68299999999999, 108.14200000000001, 108.84899999999999, 108.943, 109.05], \"name\": \"Real Output per Hour\", \"marker\": {\"color\": \"rgb(0, 128, 128)\"}}], {}, {\"showLink\": true, \"linkText\": \"Export to plot.ly\"})});</script>"
      ],
      "text/vnd.plotly.v1+html": [
       "<div id=\"c14fc11c-dd03-4913-aa28-b706f8cb0c58\" style=\"height: 525px; width: 100%;\" class=\"plotly-graph-div\"></div><script type=\"text/javascript\">require([\"plotly\"], function(Plotly) { window.PLOTLYENV=window.PLOTLYENV || {};window.PLOTLYENV.BASE_URL=\"https://plot.ly\";Plotly.newPlot(\"c14fc11c-dd03-4913-aa28-b706f8cb0c58\", [{\"type\": \"box\", \"y\": [321, 2400, 4900, 5150, 5500, 6892, 6457, 7579, 7785, 9834, 10030, 11507, 11580, 17478, 14820, 18345, 24500, 22200, 25000, 22000, 26150, 29870, 29980], \"name\": \"Tesla Production\", \"marker\": {\"color\": \"rgb(214, 12, 140)\"}}, {\"type\": \"box\", \"y\": [104.50299999999999, 104.059, 104.304, 104.147, 104.57, 105.634, 104.78200000000001, 105.435, 106.53, 105.977, 106.762, 107.11200000000001, 107.429, 106.697, 106.415, 106.66799999999999, 107.305, 107.618, 107.68299999999999, 108.14200000000001, 108.84899999999999, 108.943, 109.05], \"name\": \"Real Output per Hour\", \"marker\": {\"color\": \"rgb(0, 128, 128)\"}}], {}, {\"showLink\": true, \"linkText\": \"Export to plot.ly\"})});</script>"
      ]
     },
     "metadata": {},
     "output_type": "display_data"
    }
   ],
   "source": [
    "y0 = df['Tesla Production']\n",
    "y1 = df['Real Output per Hour']\n",
    "\n",
    "trace0 = go.Box(\n",
    "    y=y0,\n",
    "    name = 'Tesla Production',\n",
    "    marker = dict(\n",
    "        color = 'rgb(214, 12, 140)',\n",
    "        )\n",
    "    )\n",
    "trace1 = go.Box(\n",
    "    y=y1,\n",
    "    name = 'Real Output per Hour',\n",
    "    marker = dict(\n",
    "        color = 'rgb(0, 128, 128)',\n",
    "        )\n",
    "    )\n",
    "\n",
    "data = [trace0, trace1]\n",
    "iplot(data)"
   ]
  },
  {
   "cell_type": "code",
   "execution_count": 10,
   "metadata": {
    "scrolled": false
   },
   "outputs": [
    {
     "data": {
      "application/vnd.plotly.v1+json": {
       "data": [
        {
         "boxpoints": false,
         "line": {
          "width": 1.3
         },
         "marker": {
          "color": "rgba(27, 7, 58, 0.8999999999999999)"
         },
         "name": "Tesla Production",
         "orientation": "v",
         "type": "box",
         "xaxis": "x1",
         "y": [
          321,
          2400,
          4900,
          5150,
          5500,
          6892,
          6457,
          7579,
          7785,
          9834,
          10030,
          11507,
          11580,
          17478,
          14820,
          18345,
          24500,
          22200,
          25000,
          22000,
          26150,
          29870,
          29980
         ],
         "yaxis": "y2"
        },
        {
         "boxpoints": false,
         "line": {
          "width": 1.3
         },
         "marker": {
          "color": "rgba(255, 0, 116, 0.7999999999999998)"
         },
         "name": "Real Output per Hour",
         "orientation": "v",
         "type": "box",
         "y": [
          104.50299999999999,
          104.059,
          104.304,
          104.147,
          104.57,
          105.634,
          104.78200000000001,
          105.435,
          106.53,
          105.977,
          106.762,
          107.11200000000001,
          107.429,
          106.697,
          106.415,
          106.66799999999999,
          107.305,
          107.618,
          107.68299999999999,
          108.14200000000001,
          108.84899999999999,
          108.943,
          109.05
         ]
        }
       ],
       "layout": {
        "legend": {
         "bgcolor": "#F5F6F9",
         "font": {
          "color": "#4D5663"
         }
        },
        "paper_bgcolor": "#F5F6F9",
        "plot_bgcolor": "#F5F6F9",
        "showlegend": false,
        "title": "Comparitive Box Plots",
        "titlefont": {
         "color": "#4D5663"
        },
        "xaxis1": {
         "gridcolor": "#E1E5ED",
         "showgrid": true,
         "tickfont": {
          "color": "#4D5663"
         },
         "title": "",
         "titlefont": {
          "color": "#4D5663"
         },
         "zerolinecolor": "#E1E5ED"
        },
        "yaxis2": {
         "anchor": "x1",
         "gridcolor": "#E1E5ED",
         "overlaying": "y1",
         "showgrid": true,
         "side": "right",
         "tickfont": {
          "color": "#4D5663"
         },
         "title": "Car Units Produced",
         "titlefont": {
          "color": "#4D5663"
         },
         "zerolinecolor": "#E1E5ED"
        }
       }
      },
      "text/html": [
       "<div id=\"f0c31886-1df0-43bc-85f2-3ef39b0f238b\" style=\"height: 525px; width: 100%;\" class=\"plotly-graph-div\"></div><script type=\"text/javascript\">require([\"plotly\"], function(Plotly) { window.PLOTLYENV=window.PLOTLYENV || {};window.PLOTLYENV.BASE_URL=\"https://plot.ly\";Plotly.newPlot(\"f0c31886-1df0-43bc-85f2-3ef39b0f238b\", [{\"type\": \"box\", \"y\": [321, 2400, 4900, 5150, 5500, 6892, 6457, 7579, 7785, 9834, 10030, 11507, 11580, 17478, 14820, 18345, 24500, 22200, 25000, 22000, 26150, 29870, 29980], \"marker\": {\"color\": \"rgba(27, 7, 58, 0.8999999999999999)\"}, \"name\": \"Tesla Production\", \"line\": {\"width\": 1.3}, \"boxpoints\": false, \"orientation\": \"v\", \"xaxis\": \"x1\", \"yaxis\": \"y2\"}, {\"type\": \"box\", \"y\": [104.50299999999999, 104.059, 104.304, 104.147, 104.57, 105.634, 104.78200000000001, 105.435, 106.53, 105.977, 106.762, 107.11200000000001, 107.429, 106.697, 106.415, 106.66799999999999, 107.305, 107.618, 107.68299999999999, 108.14200000000001, 108.84899999999999, 108.943, 109.05], \"marker\": {\"color\": \"rgba(255, 0, 116, 0.7999999999999998)\"}, \"name\": \"Real Output per Hour\", \"line\": {\"width\": 1.3}, \"boxpoints\": false, \"orientation\": \"v\"}], {\"legend\": {\"bgcolor\": \"#F5F6F9\", \"font\": {\"color\": \"#4D5663\"}}, \"paper_bgcolor\": \"#F5F6F9\", \"plot_bgcolor\": \"#F5F6F9\", \"xaxis1\": {\"tickfont\": {\"color\": \"#4D5663\"}, \"gridcolor\": \"#E1E5ED\", \"titlefont\": {\"color\": \"#4D5663\"}, \"zerolinecolor\": \"#E1E5ED\", \"showgrid\": true, \"title\": \"\"}, \"titlefont\": {\"color\": \"#4D5663\"}, \"title\": \"Comparitive Box Plots\", \"showlegend\": false, \"yaxis2\": {\"tickfont\": {\"color\": \"#4D5663\"}, \"gridcolor\": \"#E1E5ED\", \"titlefont\": {\"color\": \"#4D5663\"}, \"zerolinecolor\": \"#E1E5ED\", \"showgrid\": true, \"title\": \"Car Units Produced\", \"overlaying\": \"y1\", \"side\": \"right\", \"anchor\": \"x1\"}}, {\"showLink\": true, \"linkText\": \"Export to plot.ly\"})});</script>"
      ],
      "text/vnd.plotly.v1+html": [
       "<div id=\"f0c31886-1df0-43bc-85f2-3ef39b0f238b\" style=\"height: 525px; width: 100%;\" class=\"plotly-graph-div\"></div><script type=\"text/javascript\">require([\"plotly\"], function(Plotly) { window.PLOTLYENV=window.PLOTLYENV || {};window.PLOTLYENV.BASE_URL=\"https://plot.ly\";Plotly.newPlot(\"f0c31886-1df0-43bc-85f2-3ef39b0f238b\", [{\"type\": \"box\", \"y\": [321, 2400, 4900, 5150, 5500, 6892, 6457, 7579, 7785, 9834, 10030, 11507, 11580, 17478, 14820, 18345, 24500, 22200, 25000, 22000, 26150, 29870, 29980], \"marker\": {\"color\": \"rgba(27, 7, 58, 0.8999999999999999)\"}, \"name\": \"Tesla Production\", \"line\": {\"width\": 1.3}, \"boxpoints\": false, \"orientation\": \"v\", \"xaxis\": \"x1\", \"yaxis\": \"y2\"}, {\"type\": \"box\", \"y\": [104.50299999999999, 104.059, 104.304, 104.147, 104.57, 105.634, 104.78200000000001, 105.435, 106.53, 105.977, 106.762, 107.11200000000001, 107.429, 106.697, 106.415, 106.66799999999999, 107.305, 107.618, 107.68299999999999, 108.14200000000001, 108.84899999999999, 108.943, 109.05], \"marker\": {\"color\": \"rgba(255, 0, 116, 0.7999999999999998)\"}, \"name\": \"Real Output per Hour\", \"line\": {\"width\": 1.3}, \"boxpoints\": false, \"orientation\": \"v\"}], {\"legend\": {\"bgcolor\": \"#F5F6F9\", \"font\": {\"color\": \"#4D5663\"}}, \"paper_bgcolor\": \"#F5F6F9\", \"plot_bgcolor\": \"#F5F6F9\", \"xaxis1\": {\"tickfont\": {\"color\": \"#4D5663\"}, \"gridcolor\": \"#E1E5ED\", \"titlefont\": {\"color\": \"#4D5663\"}, \"zerolinecolor\": \"#E1E5ED\", \"showgrid\": true, \"title\": \"\"}, \"titlefont\": {\"color\": \"#4D5663\"}, \"title\": \"Comparitive Box Plots\", \"showlegend\": false, \"yaxis2\": {\"tickfont\": {\"color\": \"#4D5663\"}, \"gridcolor\": \"#E1E5ED\", \"titlefont\": {\"color\": \"#4D5663\"}, \"zerolinecolor\": \"#E1E5ED\", \"showgrid\": true, \"title\": \"Car Units Produced\", \"overlaying\": \"y1\", \"side\": \"right\", \"anchor\": \"x1\"}}, {\"showLink\": true, \"linkText\": \"Export to plot.ly\"})});</script>"
      ]
     },
     "metadata": {},
     "output_type": "display_data"
    }
   ],
   "source": [
    "fig0 = df.iplot(\n",
    "    columns=['Real Output per Hour'], \n",
    "    asFigure=True, \n",
    "    kind='box', \n",
    "    showlegend=False,\n",
    "    colors = ('#ff0074'),\n",
    "    )\n",
    "fig1 = df.iplot(\n",
    "    columns=['Tesla Production'],\n",
    "    asFigure=True,\n",
    "    kind='box', \n",
    "    secondary_y=['Tesla Production'],\n",
    "    showlegend=False,\n",
    "    title='Comparitive Box Plots',\n",
    "    yTitle='Real Productivity per Hour ($)',\n",
    "    secondary_y_title = 'Car Units Produced',\n",
    "    colors = ('#1b073a'),\n",
    ")\n",
    "\n",
    "fig1['data'].extend(fig0['data'])\n",
    "\n",
    "iplot(fig1)"
   ]
  },
  {
   "cell_type": "code",
   "execution_count": 20,
   "metadata": {
    "scrolled": false
   },
   "outputs": [
    {
     "data": {
      "application/vnd.plotly.v1+json": {
       "data": [
        {
         "histfunc": "count",
         "histnorm": "probability",
         "marker": {
          "color": "rgba(27, 7, 58, 0.8999999999999999)",
          "line": {
           "color": "#4D5663",
           "width": 1.3
          }
         },
         "name": "Real Output per Hour",
         "opacity": 0.8,
         "orientation": "v",
         "type": "histogram",
         "x": [
          104.50299999999999,
          104.059,
          104.304,
          104.147,
          104.57,
          105.634,
          104.78200000000001,
          105.435,
          106.53,
          105.977,
          106.762,
          107.11200000000001,
          107.429,
          106.697,
          106.415,
          106.66799999999999,
          107.305,
          107.618,
          107.68299999999999,
          108.14200000000001,
          108.84899999999999,
          108.943,
          109.05
         ],
         "xaxis": "x1",
         "yaxis": "y1"
        },
        {
         "histfunc": "count",
         "histnorm": "probability",
         "marker": {
          "color": "rgba(27, 7, 58, 1.0)",
          "line": {
           "color": "#4D5663",
           "width": 1.3
          }
         },
         "name": "Tesla Production",
         "opacity": 0.8,
         "orientation": "v",
         "type": "histogram",
         "x": [
          321,
          2400,
          4900,
          5150,
          5500,
          6892,
          6457,
          7579,
          7785,
          9834,
          10030,
          11507,
          11580,
          17478,
          14820,
          18345,
          24500,
          22200,
          25000,
          22000,
          26150,
          29870,
          29980
         ],
         "xaxis": "x2",
         "yaxis": "y2"
        }
       ],
       "layout": {
        "barmode": "overlay",
        "legend": {
         "bgcolor": "#F5F6F9",
         "font": {
          "color": "#4D5663"
         }
        },
        "paper_bgcolor": "#F5F6F9",
        "plot_bgcolor": "#F5F6F9",
        "showlegend": false,
        "title": "Distributions",
        "titlefont": {
         "color": "#4D5663"
        },
        "xaxis1": {
         "anchor": "y1",
         "domain": [
          0,
          1
         ],
         "gridcolor": "#E1E5ED",
         "showgrid": true,
         "tickfont": {
          "color": "#4D5663"
         },
         "title": "Real Productivity per Hour ($)",
         "titlefont": {
          "color": "#4D5663"
         },
         "zerolinecolor": "#E1E5ED"
        },
        "xaxis2": {
         "anchor": "y2",
         "domain": [
          0,
          1
         ]
        },
        "yaxis1": {
         "anchor": "x1",
         "domain": [
          0.575,
          1
         ],
         "gridcolor": "#E1E5ED",
         "showgrid": true,
         "tickfont": {
          "color": "#4D5663"
         },
         "title": "Frequency",
         "titlefont": {
          "color": "#4D5663"
         },
         "zerolinecolor": "#E1E5ED"
        },
        "yaxis2": {
         "anchor": "x2",
         "domain": [
          0,
          0.425
         ]
        }
       }
      },
      "text/html": [
       "<div id=\"68714b35-b223-432a-9e64-0e155bd62aa9\" style=\"height: 525px; width: 100%;\" class=\"plotly-graph-div\"></div><script type=\"text/javascript\">require([\"plotly\"], function(Plotly) { window.PLOTLYENV=window.PLOTLYENV || {};window.PLOTLYENV.BASE_URL=\"https://plot.ly\";Plotly.newPlot(\"68714b35-b223-432a-9e64-0e155bd62aa9\", [{\"type\": \"histogram\", \"x\": [104.50299999999999, 104.059, 104.304, 104.147, 104.57, 105.634, 104.78200000000001, 105.435, 106.53, 105.977, 106.762, 107.11200000000001, 107.429, 106.697, 106.415, 106.66799999999999, 107.305, 107.618, 107.68299999999999, 108.14200000000001, 108.84899999999999, 108.943, 109.05], \"name\": \"Real Output per Hour\", \"marker\": {\"color\": \"rgba(27, 7, 58, 0.8999999999999999)\", \"line\": {\"width\": 1.3, \"color\": \"#4D5663\"}}, \"orientation\": \"v\", \"opacity\": 0.8, \"histfunc\": \"count\", \"histnorm\": \"probability\", \"xaxis\": \"x1\", \"yaxis\": \"y1\"}, {\"type\": \"histogram\", \"x\": [321, 2400, 4900, 5150, 5500, 6892, 6457, 7579, 7785, 9834, 10030, 11507, 11580, 17478, 14820, 18345, 24500, 22200, 25000, 22000, 26150, 29870, 29980], \"name\": \"Tesla Production\", \"marker\": {\"color\": \"rgba(27, 7, 58, 1.0)\", \"line\": {\"width\": 1.3, \"color\": \"#4D5663\"}}, \"orientation\": \"v\", \"opacity\": 0.8, \"histfunc\": \"count\", \"histnorm\": \"probability\", \"xaxis\": \"x2\", \"yaxis\": \"y2\"}], {\"xaxis1\": {\"domain\": [0.0, 1.0], \"anchor\": \"y1\", \"tickfont\": {\"color\": \"#4D5663\"}, \"gridcolor\": \"#E1E5ED\", \"titlefont\": {\"color\": \"#4D5663\"}, \"zerolinecolor\": \"#E1E5ED\", \"showgrid\": true, \"title\": \"Real Productivity per Hour ($)\"}, \"yaxis1\": {\"domain\": [0.575, 1.0], \"anchor\": \"x1\", \"tickfont\": {\"color\": \"#4D5663\"}, \"gridcolor\": \"#E1E5ED\", \"titlefont\": {\"color\": \"#4D5663\"}, \"zerolinecolor\": \"#E1E5ED\", \"showgrid\": true, \"title\": \"Frequency\"}, \"xaxis2\": {\"domain\": [0.0, 1.0], \"anchor\": \"y2\"}, \"yaxis2\": {\"domain\": [0.0, 0.425], \"anchor\": \"x2\"}, \"legend\": {\"bgcolor\": \"#F5F6F9\", \"font\": {\"color\": \"#4D5663\"}}, \"paper_bgcolor\": \"#F5F6F9\", \"plot_bgcolor\": \"#F5F6F9\", \"titlefont\": {\"color\": \"#4D5663\"}, \"title\": \"Distributions\", \"showlegend\": false, \"barmode\": \"overlay\"}, {\"showLink\": true, \"linkText\": \"Export to plot.ly\"})});</script>"
      ],
      "text/vnd.plotly.v1+html": [
       "<div id=\"68714b35-b223-432a-9e64-0e155bd62aa9\" style=\"height: 525px; width: 100%;\" class=\"plotly-graph-div\"></div><script type=\"text/javascript\">require([\"plotly\"], function(Plotly) { window.PLOTLYENV=window.PLOTLYENV || {};window.PLOTLYENV.BASE_URL=\"https://plot.ly\";Plotly.newPlot(\"68714b35-b223-432a-9e64-0e155bd62aa9\", [{\"type\": \"histogram\", \"x\": [104.50299999999999, 104.059, 104.304, 104.147, 104.57, 105.634, 104.78200000000001, 105.435, 106.53, 105.977, 106.762, 107.11200000000001, 107.429, 106.697, 106.415, 106.66799999999999, 107.305, 107.618, 107.68299999999999, 108.14200000000001, 108.84899999999999, 108.943, 109.05], \"name\": \"Real Output per Hour\", \"marker\": {\"color\": \"rgba(27, 7, 58, 0.8999999999999999)\", \"line\": {\"width\": 1.3, \"color\": \"#4D5663\"}}, \"orientation\": \"v\", \"opacity\": 0.8, \"histfunc\": \"count\", \"histnorm\": \"probability\", \"xaxis\": \"x1\", \"yaxis\": \"y1\"}, {\"type\": \"histogram\", \"x\": [321, 2400, 4900, 5150, 5500, 6892, 6457, 7579, 7785, 9834, 10030, 11507, 11580, 17478, 14820, 18345, 24500, 22200, 25000, 22000, 26150, 29870, 29980], \"name\": \"Tesla Production\", \"marker\": {\"color\": \"rgba(27, 7, 58, 1.0)\", \"line\": {\"width\": 1.3, \"color\": \"#4D5663\"}}, \"orientation\": \"v\", \"opacity\": 0.8, \"histfunc\": \"count\", \"histnorm\": \"probability\", \"xaxis\": \"x2\", \"yaxis\": \"y2\"}], {\"xaxis1\": {\"domain\": [0.0, 1.0], \"anchor\": \"y1\", \"tickfont\": {\"color\": \"#4D5663\"}, \"gridcolor\": \"#E1E5ED\", \"titlefont\": {\"color\": \"#4D5663\"}, \"zerolinecolor\": \"#E1E5ED\", \"showgrid\": true, \"title\": \"Real Productivity per Hour ($)\"}, \"yaxis1\": {\"domain\": [0.575, 1.0], \"anchor\": \"x1\", \"tickfont\": {\"color\": \"#4D5663\"}, \"gridcolor\": \"#E1E5ED\", \"titlefont\": {\"color\": \"#4D5663\"}, \"zerolinecolor\": \"#E1E5ED\", \"showgrid\": true, \"title\": \"Frequency\"}, \"xaxis2\": {\"domain\": [0.0, 1.0], \"anchor\": \"y2\"}, \"yaxis2\": {\"domain\": [0.0, 0.425], \"anchor\": \"x2\"}, \"legend\": {\"bgcolor\": \"#F5F6F9\", \"font\": {\"color\": \"#4D5663\"}}, \"paper_bgcolor\": \"#F5F6F9\", \"plot_bgcolor\": \"#F5F6F9\", \"titlefont\": {\"color\": \"#4D5663\"}, \"title\": \"Distributions\", \"showlegend\": false, \"barmode\": \"overlay\"}, {\"showLink\": true, \"linkText\": \"Export to plot.ly\"})});</script>"
      ]
     },
     "metadata": {},
     "output_type": "display_data"
    }
   ],
   "source": [
    "fig0 = df.iplot(\n",
    "    columns=['Real Output per Hour', 'Tesla Production'], \n",
    "    asFigure=True, \n",
    "    kind='histogram', \n",
    "    showlegend=False,\n",
    "    colors = ['#ff0074','#1b073a'],\n",
    "    title='Distributions',\n",
    "    xTitle='Real Productivity per Hour ($)',\n",
    "    yTitle='Frequency',\n",
    "    histnorm='probability',\n",
    "    subplots=True,\n",
    "    shape=(2,1),\n",
    "    )\n",
    "\n",
    "iplot(fig0)"
   ]
  },
  {
   "cell_type": "code",
   "execution_count": 13,
   "metadata": {
    "scrolled": false
   },
   "outputs": [
    {
     "data": {
      "application/vnd.plotly.v1+json": {
       "data": [
        {
         "line": {
          "color": "rgba(255, 0, 116, 1.0)",
          "dash": "solid",
          "shape": "linear",
          "width": 1.3
         },
         "mode": "lines",
         "name": "Real Output per Hour",
         "text": "",
         "type": "scatter",
         "x": [
          "2012Q3",
          "2012Q4",
          "2013Q1",
          "2013Q2",
          "2013Q3",
          "2013Q4",
          "2014Q1",
          "2014Q2",
          "2014Q3",
          "2014Q4",
          "2015Q1",
          "2015Q2",
          "2015Q3",
          "2015Q4",
          "2016Q1",
          "2016Q2",
          "2016Q3",
          "2016Q4",
          "2017Q1",
          "2017Q2",
          "2017Q3",
          "2017Q4",
          "2018Q1"
         ],
         "y": [
          104.50299999999999,
          104.059,
          104.304,
          104.147,
          104.57,
          105.634,
          104.78200000000001,
          105.435,
          106.53,
          105.977,
          106.762,
          107.11200000000001,
          107.429,
          106.697,
          106.415,
          106.66799999999999,
          107.305,
          107.618,
          107.68299999999999,
          108.14200000000001,
          108.84899999999999,
          108.943,
          109.05
         ]
        }
       ],
       "layout": {
        "legend": {
         "bgcolor": "#F5F6F9",
         "font": {
          "color": "#4D5663"
         }
        },
        "paper_bgcolor": "#F5F6F9",
        "plot_bgcolor": "#F5F6F9",
        "showlegend": false,
        "title": "Real Output per Hour",
        "titlefont": {
         "color": "#4D5663"
        },
        "xaxis1": {
         "gridcolor": "#E1E5ED",
         "showgrid": true,
         "tickfont": {
          "color": "#4D5663"
         },
         "title": "",
         "titlefont": {
          "color": "#4D5663"
         },
         "zerolinecolor": "#E1E5ED"
        },
        "yaxis1": {
         "gridcolor": "#E1E5ED",
         "showgrid": true,
         "tickfont": {
          "color": "#4D5663"
         },
         "title": "Real Productivity per Hour ($)",
         "titlefont": {
          "color": "#4D5663"
         },
         "zerolinecolor": "#E1E5ED"
        }
       }
      },
      "text/html": [
       "<div id=\"0e9abece-e5e6-4a57-bd1a-82fb7ba18379\" style=\"height: 525px; width: 100%;\" class=\"plotly-graph-div\"></div><script type=\"text/javascript\">require([\"plotly\"], function(Plotly) { window.PLOTLYENV=window.PLOTLYENV || {};window.PLOTLYENV.BASE_URL=\"https://plot.ly\";Plotly.newPlot(\"0e9abece-e5e6-4a57-bd1a-82fb7ba18379\", [{\"type\": \"scatter\", \"x\": [\"2012Q3\", \"2012Q4\", \"2013Q1\", \"2013Q2\", \"2013Q3\", \"2013Q4\", \"2014Q1\", \"2014Q2\", \"2014Q3\", \"2014Q4\", \"2015Q1\", \"2015Q2\", \"2015Q3\", \"2015Q4\", \"2016Q1\", \"2016Q2\", \"2016Q3\", \"2016Q4\", \"2017Q1\", \"2017Q2\", \"2017Q3\", \"2017Q4\", \"2018Q1\"], \"y\": [104.50299999999999, 104.059, 104.304, 104.147, 104.57, 105.634, 104.78200000000001, 105.435, 106.53, 105.977, 106.762, 107.11200000000001, 107.429, 106.697, 106.415, 106.66799999999999, 107.305, 107.618, 107.68299999999999, 108.14200000000001, 108.84899999999999, 108.943, 109.05], \"name\": \"Real Output per Hour\", \"text\": \"\", \"line\": {\"color\": \"rgba(255, 0, 116, 1.0)\", \"width\": 1.3, \"dash\": \"solid\", \"shape\": \"linear\"}, \"mode\": \"lines\"}], {\"legend\": {\"bgcolor\": \"#F5F6F9\", \"font\": {\"color\": \"#4D5663\"}}, \"paper_bgcolor\": \"#F5F6F9\", \"plot_bgcolor\": \"#F5F6F9\", \"yaxis1\": {\"tickfont\": {\"color\": \"#4D5663\"}, \"gridcolor\": \"#E1E5ED\", \"titlefont\": {\"color\": \"#4D5663\"}, \"zerolinecolor\": \"#E1E5ED\", \"showgrid\": true, \"title\": \"Real Productivity per Hour ($)\"}, \"xaxis1\": {\"tickfont\": {\"color\": \"#4D5663\"}, \"gridcolor\": \"#E1E5ED\", \"titlefont\": {\"color\": \"#4D5663\"}, \"zerolinecolor\": \"#E1E5ED\", \"showgrid\": true, \"title\": \"\"}, \"titlefont\": {\"color\": \"#4D5663\"}, \"title\": \"Real Output per Hour\", \"showlegend\": false}, {\"showLink\": true, \"linkText\": \"Export to plot.ly\"})});</script>"
      ],
      "text/vnd.plotly.v1+html": [
       "<div id=\"0e9abece-e5e6-4a57-bd1a-82fb7ba18379\" style=\"height: 525px; width: 100%;\" class=\"plotly-graph-div\"></div><script type=\"text/javascript\">require([\"plotly\"], function(Plotly) { window.PLOTLYENV=window.PLOTLYENV || {};window.PLOTLYENV.BASE_URL=\"https://plot.ly\";Plotly.newPlot(\"0e9abece-e5e6-4a57-bd1a-82fb7ba18379\", [{\"type\": \"scatter\", \"x\": [\"2012Q3\", \"2012Q4\", \"2013Q1\", \"2013Q2\", \"2013Q3\", \"2013Q4\", \"2014Q1\", \"2014Q2\", \"2014Q3\", \"2014Q4\", \"2015Q1\", \"2015Q2\", \"2015Q3\", \"2015Q4\", \"2016Q1\", \"2016Q2\", \"2016Q3\", \"2016Q4\", \"2017Q1\", \"2017Q2\", \"2017Q3\", \"2017Q4\", \"2018Q1\"], \"y\": [104.50299999999999, 104.059, 104.304, 104.147, 104.57, 105.634, 104.78200000000001, 105.435, 106.53, 105.977, 106.762, 107.11200000000001, 107.429, 106.697, 106.415, 106.66799999999999, 107.305, 107.618, 107.68299999999999, 108.14200000000001, 108.84899999999999, 108.943, 109.05], \"name\": \"Real Output per Hour\", \"text\": \"\", \"line\": {\"color\": \"rgba(255, 0, 116, 1.0)\", \"width\": 1.3, \"dash\": \"solid\", \"shape\": \"linear\"}, \"mode\": \"lines\"}], {\"legend\": {\"bgcolor\": \"#F5F6F9\", \"font\": {\"color\": \"#4D5663\"}}, \"paper_bgcolor\": \"#F5F6F9\", \"plot_bgcolor\": \"#F5F6F9\", \"yaxis1\": {\"tickfont\": {\"color\": \"#4D5663\"}, \"gridcolor\": \"#E1E5ED\", \"titlefont\": {\"color\": \"#4D5663\"}, \"zerolinecolor\": \"#E1E5ED\", \"showgrid\": true, \"title\": \"Real Productivity per Hour ($)\"}, \"xaxis1\": {\"tickfont\": {\"color\": \"#4D5663\"}, \"gridcolor\": \"#E1E5ED\", \"titlefont\": {\"color\": \"#4D5663\"}, \"zerolinecolor\": \"#E1E5ED\", \"showgrid\": true, \"title\": \"\"}, \"titlefont\": {\"color\": \"#4D5663\"}, \"title\": \"Real Output per Hour\", \"showlegend\": false}, {\"showLink\": true, \"linkText\": \"Export to plot.ly\"})});</script>"
      ]
     },
     "metadata": {},
     "output_type": "display_data"
    }
   ],
   "source": [
    "fig0 = df.iplot(\n",
    "    columns=['Real Output per Hour'], \n",
    "    asFigure=True, \n",
    "    kind='scatter', \n",
    "    showlegend=False,\n",
    "    colors = ('#ff0074'),\n",
    "    title='Real Output per Hour',\n",
    "    yTitle='Real Productivity per Hour ($)',\n",
    "    x='Date'\n",
    "    )\n",
    "\n",
    "iplot(fig0)"
   ]
  },
  {
   "cell_type": "code",
   "execution_count": 14,
   "metadata": {
    "scrolled": false
   },
   "outputs": [
    {
     "data": {
      "application/vnd.plotly.v1+json": {
       "data": [
        {
         "line": {
          "color": "rgba(27, 7, 58, 1.0)",
          "dash": "solid",
          "shape": "linear",
          "width": 1.3
         },
         "mode": "lines",
         "name": "Tesla Production",
         "text": "",
         "type": "scatter",
         "x": [
          "2012Q3",
          "2012Q4",
          "2013Q1",
          "2013Q2",
          "2013Q3",
          "2013Q4",
          "2014Q1",
          "2014Q2",
          "2014Q3",
          "2014Q4",
          "2015Q1",
          "2015Q2",
          "2015Q3",
          "2015Q4",
          "2016Q1",
          "2016Q2",
          "2016Q3",
          "2016Q4",
          "2017Q1",
          "2017Q2",
          "2017Q3",
          "2017Q4",
          "2018Q1"
         ],
         "y": [
          321,
          2400,
          4900,
          5150,
          5500,
          6892,
          6457,
          7579,
          7785,
          9834,
          10030,
          11507,
          11580,
          17478,
          14820,
          18345,
          24500,
          22200,
          25000,
          22000,
          26150,
          29870,
          29980
         ]
        }
       ],
       "layout": {
        "legend": {
         "bgcolor": "#F5F6F9",
         "font": {
          "color": "#4D5663"
         }
        },
        "paper_bgcolor": "#F5F6F9",
        "plot_bgcolor": "#F5F6F9",
        "showlegend": false,
        "title": "Teslas Produced",
        "titlefont": {
         "color": "#4D5663"
        },
        "xaxis1": {
         "gridcolor": "#E1E5ED",
         "showgrid": true,
         "tickfont": {
          "color": "#4D5663"
         },
         "title": "",
         "titlefont": {
          "color": "#4D5663"
         },
         "zerolinecolor": "#E1E5ED"
        },
        "yaxis1": {
         "gridcolor": "#E1E5ED",
         "showgrid": true,
         "tickfont": {
          "color": "#4D5663"
         },
         "title": "Car Units Produced",
         "titlefont": {
          "color": "#4D5663"
         },
         "zerolinecolor": "#E1E5ED"
        }
       }
      },
      "text/html": [
       "<div id=\"f293825b-6816-41d9-b310-5cbfddf3af4d\" style=\"height: 525px; width: 100%;\" class=\"plotly-graph-div\"></div><script type=\"text/javascript\">require([\"plotly\"], function(Plotly) { window.PLOTLYENV=window.PLOTLYENV || {};window.PLOTLYENV.BASE_URL=\"https://plot.ly\";Plotly.newPlot(\"f293825b-6816-41d9-b310-5cbfddf3af4d\", [{\"type\": \"scatter\", \"x\": [\"2012Q3\", \"2012Q4\", \"2013Q1\", \"2013Q2\", \"2013Q3\", \"2013Q4\", \"2014Q1\", \"2014Q2\", \"2014Q3\", \"2014Q4\", \"2015Q1\", \"2015Q2\", \"2015Q3\", \"2015Q4\", \"2016Q1\", \"2016Q2\", \"2016Q3\", \"2016Q4\", \"2017Q1\", \"2017Q2\", \"2017Q3\", \"2017Q4\", \"2018Q1\"], \"y\": [321, 2400, 4900, 5150, 5500, 6892, 6457, 7579, 7785, 9834, 10030, 11507, 11580, 17478, 14820, 18345, 24500, 22200, 25000, 22000, 26150, 29870, 29980], \"name\": \"Tesla Production\", \"text\": \"\", \"line\": {\"color\": \"rgba(27, 7, 58, 1.0)\", \"width\": 1.3, \"dash\": \"solid\", \"shape\": \"linear\"}, \"mode\": \"lines\"}], {\"legend\": {\"bgcolor\": \"#F5F6F9\", \"font\": {\"color\": \"#4D5663\"}}, \"paper_bgcolor\": \"#F5F6F9\", \"plot_bgcolor\": \"#F5F6F9\", \"yaxis1\": {\"tickfont\": {\"color\": \"#4D5663\"}, \"gridcolor\": \"#E1E5ED\", \"titlefont\": {\"color\": \"#4D5663\"}, \"zerolinecolor\": \"#E1E5ED\", \"showgrid\": true, \"title\": \"Car Units Produced\"}, \"xaxis1\": {\"tickfont\": {\"color\": \"#4D5663\"}, \"gridcolor\": \"#E1E5ED\", \"titlefont\": {\"color\": \"#4D5663\"}, \"zerolinecolor\": \"#E1E5ED\", \"showgrid\": true, \"title\": \"\"}, \"titlefont\": {\"color\": \"#4D5663\"}, \"title\": \"Teslas Produced\", \"showlegend\": false}, {\"showLink\": true, \"linkText\": \"Export to plot.ly\"})});</script>"
      ],
      "text/vnd.plotly.v1+html": [
       "<div id=\"f293825b-6816-41d9-b310-5cbfddf3af4d\" style=\"height: 525px; width: 100%;\" class=\"plotly-graph-div\"></div><script type=\"text/javascript\">require([\"plotly\"], function(Plotly) { window.PLOTLYENV=window.PLOTLYENV || {};window.PLOTLYENV.BASE_URL=\"https://plot.ly\";Plotly.newPlot(\"f293825b-6816-41d9-b310-5cbfddf3af4d\", [{\"type\": \"scatter\", \"x\": [\"2012Q3\", \"2012Q4\", \"2013Q1\", \"2013Q2\", \"2013Q3\", \"2013Q4\", \"2014Q1\", \"2014Q2\", \"2014Q3\", \"2014Q4\", \"2015Q1\", \"2015Q2\", \"2015Q3\", \"2015Q4\", \"2016Q1\", \"2016Q2\", \"2016Q3\", \"2016Q4\", \"2017Q1\", \"2017Q2\", \"2017Q3\", \"2017Q4\", \"2018Q1\"], \"y\": [321, 2400, 4900, 5150, 5500, 6892, 6457, 7579, 7785, 9834, 10030, 11507, 11580, 17478, 14820, 18345, 24500, 22200, 25000, 22000, 26150, 29870, 29980], \"name\": \"Tesla Production\", \"text\": \"\", \"line\": {\"color\": \"rgba(27, 7, 58, 1.0)\", \"width\": 1.3, \"dash\": \"solid\", \"shape\": \"linear\"}, \"mode\": \"lines\"}], {\"legend\": {\"bgcolor\": \"#F5F6F9\", \"font\": {\"color\": \"#4D5663\"}}, \"paper_bgcolor\": \"#F5F6F9\", \"plot_bgcolor\": \"#F5F6F9\", \"yaxis1\": {\"tickfont\": {\"color\": \"#4D5663\"}, \"gridcolor\": \"#E1E5ED\", \"titlefont\": {\"color\": \"#4D5663\"}, \"zerolinecolor\": \"#E1E5ED\", \"showgrid\": true, \"title\": \"Car Units Produced\"}, \"xaxis1\": {\"tickfont\": {\"color\": \"#4D5663\"}, \"gridcolor\": \"#E1E5ED\", \"titlefont\": {\"color\": \"#4D5663\"}, \"zerolinecolor\": \"#E1E5ED\", \"showgrid\": true, \"title\": \"\"}, \"titlefont\": {\"color\": \"#4D5663\"}, \"title\": \"Teslas Produced\", \"showlegend\": false}, {\"showLink\": true, \"linkText\": \"Export to plot.ly\"})});</script>"
      ]
     },
     "metadata": {},
     "output_type": "display_data"
    }
   ],
   "source": [
    "fig1 = df.iplot(\n",
    "    columns=['Tesla Production'],\n",
    "    asFigure=True,\n",
    "    kind='scatter', \n",
    "    showlegend=False,\n",
    "    title='Teslas Produced',\n",
    "    yTitle='Car Units Produced',\n",
    "    colors = ('#1b073a'),\n",
    "    x='Date'\n",
    "    )\n",
    "\n",
    "iplot(fig1)"
   ]
  },
  {
   "cell_type": "code",
   "execution_count": 11,
   "metadata": {},
   "outputs": [
    {
     "data": {
      "application/vnd.plotly.v1+json": {
       "data": [
        {
         "line": {
          "color": "rgba(27, 7, 58, 1.0)",
          "dash": "solid",
          "shape": "linear",
          "width": 1.3
         },
         "mode": "lines",
         "name": "Tesla Production",
         "text": "",
         "type": "scatter",
         "x": [
          "2012Q3",
          "2012Q4",
          "2013Q1",
          "2013Q2",
          "2013Q3",
          "2013Q4",
          "2014Q1",
          "2014Q2",
          "2014Q3",
          "2014Q4",
          "2015Q1",
          "2015Q2",
          "2015Q3",
          "2015Q4",
          "2016Q1",
          "2016Q2",
          "2016Q3",
          "2016Q4",
          "2017Q1",
          "2017Q2",
          "2017Q3",
          "2017Q4",
          "2018Q1"
         ],
         "xaxis": "x1",
         "y": [
          321,
          2400,
          4900,
          5150,
          5500,
          6892,
          6457,
          7579,
          7785,
          9834,
          10030,
          11507,
          11580,
          17478,
          14820,
          18345,
          24500,
          22200,
          25000,
          22000,
          26150,
          29870,
          29980
         ],
         "yaxis": "y2"
        },
        {
         "line": {
          "color": "rgba(255, 0, 116, 1.0)",
          "dash": "solid",
          "shape": "linear",
          "width": 1.3
         },
         "mode": "lines",
         "name": "Real Output per Hour",
         "text": "",
         "type": "scatter",
         "x": [
          "2012Q3",
          "2012Q4",
          "2013Q1",
          "2013Q2",
          "2013Q3",
          "2013Q4",
          "2014Q1",
          "2014Q2",
          "2014Q3",
          "2014Q4",
          "2015Q1",
          "2015Q2",
          "2015Q3",
          "2015Q4",
          "2016Q1",
          "2016Q2",
          "2016Q3",
          "2016Q4",
          "2017Q1",
          "2017Q2",
          "2017Q3",
          "2017Q4",
          "2018Q1"
         ],
         "y": [
          104.50299999999999,
          104.059,
          104.304,
          104.147,
          104.57,
          105.634,
          104.78200000000001,
          105.435,
          106.53,
          105.977,
          106.762,
          107.11200000000001,
          107.429,
          106.697,
          106.415,
          106.66799999999999,
          107.305,
          107.618,
          107.68299999999999,
          108.14200000000001,
          108.84899999999999,
          108.943,
          109.05
         ]
        }
       ],
       "layout": {
        "legend": {
         "bgcolor": "#F5F6F9",
         "font": {
          "color": "#4D5663"
         }
        },
        "paper_bgcolor": "#F5F6F9",
        "plot_bgcolor": "#F5F6F9",
        "showlegend": false,
        "title": "Comparitive Time Series",
        "titlefont": {
         "color": "#4D5663"
        },
        "xaxis1": {
         "gridcolor": "#E1E5ED",
         "showgrid": true,
         "tickfont": {
          "color": "#4D5663"
         },
         "title": "",
         "titlefont": {
          "color": "#4D5663"
         },
         "zerolinecolor": "#E1E5ED"
        },
        "yaxis2": {
         "anchor": "x1",
         "gridcolor": "#E1E5ED",
         "overlaying": "y1",
         "showgrid": true,
         "side": "right",
         "tickfont": {
          "color": "#4D5663"
         },
         "title": "Car Units Produced",
         "titlefont": {
          "color": "#4D5663"
         },
         "zerolinecolor": "#E1E5ED"
        }
       }
      },
      "text/html": [
       "<div id=\"2642ea9f-4e52-4ebe-aad9-585cf210165e\" style=\"height: 525px; width: 100%;\" class=\"plotly-graph-div\"></div><script type=\"text/javascript\">require([\"plotly\"], function(Plotly) { window.PLOTLYENV=window.PLOTLYENV || {};window.PLOTLYENV.BASE_URL=\"https://plot.ly\";Plotly.newPlot(\"2642ea9f-4e52-4ebe-aad9-585cf210165e\", [{\"type\": \"scatter\", \"x\": [\"2012Q3\", \"2012Q4\", \"2013Q1\", \"2013Q2\", \"2013Q3\", \"2013Q4\", \"2014Q1\", \"2014Q2\", \"2014Q3\", \"2014Q4\", \"2015Q1\", \"2015Q2\", \"2015Q3\", \"2015Q4\", \"2016Q1\", \"2016Q2\", \"2016Q3\", \"2016Q4\", \"2017Q1\", \"2017Q2\", \"2017Q3\", \"2017Q4\", \"2018Q1\"], \"y\": [321, 2400, 4900, 5150, 5500, 6892, 6457, 7579, 7785, 9834, 10030, 11507, 11580, 17478, 14820, 18345, 24500, 22200, 25000, 22000, 26150, 29870, 29980], \"name\": \"Tesla Production\", \"text\": \"\", \"line\": {\"color\": \"rgba(27, 7, 58, 1.0)\", \"width\": 1.3, \"dash\": \"solid\", \"shape\": \"linear\"}, \"mode\": \"lines\", \"xaxis\": \"x1\", \"yaxis\": \"y2\"}, {\"type\": \"scatter\", \"x\": [\"2012Q3\", \"2012Q4\", \"2013Q1\", \"2013Q2\", \"2013Q3\", \"2013Q4\", \"2014Q1\", \"2014Q2\", \"2014Q3\", \"2014Q4\", \"2015Q1\", \"2015Q2\", \"2015Q3\", \"2015Q4\", \"2016Q1\", \"2016Q2\", \"2016Q3\", \"2016Q4\", \"2017Q1\", \"2017Q2\", \"2017Q3\", \"2017Q4\", \"2018Q1\"], \"y\": [104.50299999999999, 104.059, 104.304, 104.147, 104.57, 105.634, 104.78200000000001, 105.435, 106.53, 105.977, 106.762, 107.11200000000001, 107.429, 106.697, 106.415, 106.66799999999999, 107.305, 107.618, 107.68299999999999, 108.14200000000001, 108.84899999999999, 108.943, 109.05], \"name\": \"Real Output per Hour\", \"text\": \"\", \"line\": {\"color\": \"rgba(255, 0, 116, 1.0)\", \"width\": 1.3, \"dash\": \"solid\", \"shape\": \"linear\"}, \"mode\": \"lines\"}], {\"legend\": {\"bgcolor\": \"#F5F6F9\", \"font\": {\"color\": \"#4D5663\"}}, \"paper_bgcolor\": \"#F5F6F9\", \"plot_bgcolor\": \"#F5F6F9\", \"xaxis1\": {\"tickfont\": {\"color\": \"#4D5663\"}, \"gridcolor\": \"#E1E5ED\", \"titlefont\": {\"color\": \"#4D5663\"}, \"zerolinecolor\": \"#E1E5ED\", \"showgrid\": true, \"title\": \"\"}, \"titlefont\": {\"color\": \"#4D5663\"}, \"title\": \"Comparitive Time Series\", \"showlegend\": false, \"yaxis2\": {\"tickfont\": {\"color\": \"#4D5663\"}, \"gridcolor\": \"#E1E5ED\", \"titlefont\": {\"color\": \"#4D5663\"}, \"zerolinecolor\": \"#E1E5ED\", \"showgrid\": true, \"title\": \"Car Units Produced\", \"overlaying\": \"y1\", \"side\": \"right\", \"anchor\": \"x1\"}}, {\"showLink\": true, \"linkText\": \"Export to plot.ly\"})});</script>"
      ],
      "text/vnd.plotly.v1+html": [
       "<div id=\"2642ea9f-4e52-4ebe-aad9-585cf210165e\" style=\"height: 525px; width: 100%;\" class=\"plotly-graph-div\"></div><script type=\"text/javascript\">require([\"plotly\"], function(Plotly) { window.PLOTLYENV=window.PLOTLYENV || {};window.PLOTLYENV.BASE_URL=\"https://plot.ly\";Plotly.newPlot(\"2642ea9f-4e52-4ebe-aad9-585cf210165e\", [{\"type\": \"scatter\", \"x\": [\"2012Q3\", \"2012Q4\", \"2013Q1\", \"2013Q2\", \"2013Q3\", \"2013Q4\", \"2014Q1\", \"2014Q2\", \"2014Q3\", \"2014Q4\", \"2015Q1\", \"2015Q2\", \"2015Q3\", \"2015Q4\", \"2016Q1\", \"2016Q2\", \"2016Q3\", \"2016Q4\", \"2017Q1\", \"2017Q2\", \"2017Q3\", \"2017Q4\", \"2018Q1\"], \"y\": [321, 2400, 4900, 5150, 5500, 6892, 6457, 7579, 7785, 9834, 10030, 11507, 11580, 17478, 14820, 18345, 24500, 22200, 25000, 22000, 26150, 29870, 29980], \"name\": \"Tesla Production\", \"text\": \"\", \"line\": {\"color\": \"rgba(27, 7, 58, 1.0)\", \"width\": 1.3, \"dash\": \"solid\", \"shape\": \"linear\"}, \"mode\": \"lines\", \"xaxis\": \"x1\", \"yaxis\": \"y2\"}, {\"type\": \"scatter\", \"x\": [\"2012Q3\", \"2012Q4\", \"2013Q1\", \"2013Q2\", \"2013Q3\", \"2013Q4\", \"2014Q1\", \"2014Q2\", \"2014Q3\", \"2014Q4\", \"2015Q1\", \"2015Q2\", \"2015Q3\", \"2015Q4\", \"2016Q1\", \"2016Q2\", \"2016Q3\", \"2016Q4\", \"2017Q1\", \"2017Q2\", \"2017Q3\", \"2017Q4\", \"2018Q1\"], \"y\": [104.50299999999999, 104.059, 104.304, 104.147, 104.57, 105.634, 104.78200000000001, 105.435, 106.53, 105.977, 106.762, 107.11200000000001, 107.429, 106.697, 106.415, 106.66799999999999, 107.305, 107.618, 107.68299999999999, 108.14200000000001, 108.84899999999999, 108.943, 109.05], \"name\": \"Real Output per Hour\", \"text\": \"\", \"line\": {\"color\": \"rgba(255, 0, 116, 1.0)\", \"width\": 1.3, \"dash\": \"solid\", \"shape\": \"linear\"}, \"mode\": \"lines\"}], {\"legend\": {\"bgcolor\": \"#F5F6F9\", \"font\": {\"color\": \"#4D5663\"}}, \"paper_bgcolor\": \"#F5F6F9\", \"plot_bgcolor\": \"#F5F6F9\", \"xaxis1\": {\"tickfont\": {\"color\": \"#4D5663\"}, \"gridcolor\": \"#E1E5ED\", \"titlefont\": {\"color\": \"#4D5663\"}, \"zerolinecolor\": \"#E1E5ED\", \"showgrid\": true, \"title\": \"\"}, \"titlefont\": {\"color\": \"#4D5663\"}, \"title\": \"Comparitive Time Series\", \"showlegend\": false, \"yaxis2\": {\"tickfont\": {\"color\": \"#4D5663\"}, \"gridcolor\": \"#E1E5ED\", \"titlefont\": {\"color\": \"#4D5663\"}, \"zerolinecolor\": \"#E1E5ED\", \"showgrid\": true, \"title\": \"Car Units Produced\", \"overlaying\": \"y1\", \"side\": \"right\", \"anchor\": \"x1\"}}, {\"showLink\": true, \"linkText\": \"Export to plot.ly\"})});</script>"
      ]
     },
     "metadata": {},
     "output_type": "display_data"
    }
   ],
   "source": [
    "fig2 = df.iplot(\n",
    "    columns=['Real Output per Hour'], \n",
    "    asFigure=True, \n",
    "    kind='scatter', \n",
    "    showlegend=False,\n",
    "    colors = ('#ff0074'),\n",
    "    x='Date',    \n",
    "    )\n",
    "fig3 = df.iplot(\n",
    "    columns=['Tesla Production'],\n",
    "    asFigure=True,\n",
    "    kind='scatter', \n",
    "    secondary_y=['Tesla Production'],\n",
    "    showlegend=False,\n",
    "    title='Comparitive Time Series',\n",
    "    yTitle='Real Productivity per Hour ($)',\n",
    "    secondary_y_title = 'Car Units Produced',\n",
    "    colors = ('#1b073a'),\n",
    "    x='Date'\n",
    "    )\n",
    "\n",
    "fig3['data'].extend(fig2['data'])\n",
    "\n",
    "iplot(fig3)"
   ]
  },
  {
   "cell_type": "code",
   "execution_count": 51,
   "metadata": {},
   "outputs": [
    {
     "data": {
      "application/vnd.plotly.v1+json": {
       "data": [
        {
         "line": {
          "color": "rgba(27, 7, 58, 1.0)",
          "dash": "solid",
          "shape": "linear",
          "width": 1.3
         },
         "marker": {
          "size": 12,
          "symbol": "dot"
         },
         "mode": "markers",
         "name": "Tesla Production",
         "text": "",
         "type": "scatter",
         "x": [
          "2012Q3",
          "2012Q4",
          "2013Q1",
          "2013Q2",
          "2013Q3",
          "2013Q4",
          "2014Q1",
          "2014Q2",
          "2014Q3",
          "2014Q4",
          "2015Q1",
          "2015Q2",
          "2015Q3",
          "2015Q4",
          "2016Q1",
          "2016Q2",
          "2016Q3",
          "2016Q4",
          "2017Q1",
          "2017Q2",
          "2017Q3",
          "2017Q4",
          "2018Q1"
         ],
         "xaxis": "x1",
         "y": [
          321,
          2400,
          4900,
          5150,
          5500,
          6892,
          6457,
          7579,
          7785,
          9834,
          10030,
          11507,
          11580,
          17478,
          14820,
          18345,
          24500,
          22200,
          25000,
          22000,
          26150,
          29870,
          29980
         ],
         "yaxis": "y2"
        },
        {
         "line": {
          "color": "rgba(27, 7, 58, 0.8999999999999999)",
          "dash": "solid",
          "shape": "linear",
          "width": 1.3
         },
         "marker": {
          "size": 12,
          "symbol": "dot"
         },
         "mode": "markers",
         "name": "Real Output per Hour",
         "text": "",
         "type": "scatter",
         "x": [
          "2012Q3",
          "2012Q4",
          "2013Q1",
          "2013Q2",
          "2013Q3",
          "2013Q4",
          "2014Q1",
          "2014Q2",
          "2014Q3",
          "2014Q4",
          "2015Q1",
          "2015Q2",
          "2015Q3",
          "2015Q4",
          "2016Q1",
          "2016Q2",
          "2016Q3",
          "2016Q4",
          "2017Q1",
          "2017Q2",
          "2017Q3",
          "2017Q4",
          "2018Q1"
         ],
         "y": [
          104.50299999999999,
          104.059,
          104.304,
          104.147,
          104.57,
          105.634,
          104.78200000000001,
          105.435,
          106.53,
          105.977,
          106.762,
          107.11200000000001,
          107.429,
          106.697,
          106.415,
          106.66799999999999,
          107.305,
          107.618,
          107.68299999999999,
          108.14200000000001,
          108.84899999999999,
          108.943,
          109.05
         ]
        },
        {
         "line": {
          "color": "rgba(255, 0, 116, 1.0)",
          "dash": "solid",
          "shape": "linear",
          "width": 1.3
         },
         "marker": {
          "size": 12,
          "symbol": "diamond"
         },
         "mode": "markers",
         "name": "Real Output per Hour",
         "text": "",
         "type": "scatter",
         "x": [
          "2012Q3",
          "2012Q4",
          "2013Q1",
          "2013Q2",
          "2013Q3",
          "2013Q4",
          "2014Q1",
          "2014Q2",
          "2014Q3",
          "2014Q4",
          "2015Q1",
          "2015Q2",
          "2015Q3",
          "2015Q4",
          "2016Q1",
          "2016Q2",
          "2016Q3",
          "2016Q4",
          "2017Q1",
          "2017Q2",
          "2017Q3",
          "2017Q4",
          "2018Q1"
         ],
         "y": [
          104.50299999999999,
          104.059,
          104.304,
          104.147,
          104.57,
          105.634,
          104.78200000000001,
          105.435,
          106.53,
          105.977,
          106.762,
          107.11200000000001,
          107.429,
          106.697,
          106.415,
          106.66799999999999,
          107.305,
          107.618,
          107.68299999999999,
          108.14200000000001,
          108.84899999999999,
          108.943,
          109.05
         ]
        }
       ],
       "layout": {
        "legend": {
         "bgcolor": "#F5F6F9",
         "font": {
          "color": "#4D5663"
         }
        },
        "paper_bgcolor": "#F5F6F9",
        "plot_bgcolor": "#F5F6F9",
        "showlegend": false,
        "title": "Comparitive Time Series",
        "titlefont": {
         "color": "#4D5663"
        },
        "xaxis1": {
         "gridcolor": "#E1E5ED",
         "showgrid": true,
         "tickfont": {
          "color": "#4D5663"
         },
         "title": "",
         "titlefont": {
          "color": "#4D5663"
         },
         "zerolinecolor": "#E1E5ED"
        },
        "yaxis1": {
         "gridcolor": "#E1E5ED",
         "showgrid": true,
         "tickfont": {
          "color": "#4D5663"
         },
         "title": "Real Productivity per Hour ($)",
         "titlefont": {
          "color": "#4D5663"
         },
         "zerolinecolor": "#E1E5ED"
        },
        "yaxis2": {
         "anchor": "x1",
         "gridcolor": "#E1E5ED",
         "overlaying": "y1",
         "showgrid": true,
         "side": "right",
         "tickfont": {
          "color": "#4D5663"
         },
         "title": "Car Units Produced",
         "titlefont": {
          "color": "#4D5663"
         },
         "zerolinecolor": "#E1E5ED"
        }
       }
      },
      "text/html": [
       "<div id=\"c38ee804-3b9d-4f30-aeb9-c19ada0006af\" style=\"height: 525px; width: 100%;\" class=\"plotly-graph-div\"></div><script type=\"text/javascript\">require([\"plotly\"], function(Plotly) { window.PLOTLYENV=window.PLOTLYENV || {};window.PLOTLYENV.BASE_URL=\"https://plot.ly\";Plotly.newPlot(\"c38ee804-3b9d-4f30-aeb9-c19ada0006af\", [{\"type\": \"scatter\", \"x\": [\"2012Q3\", \"2012Q4\", \"2013Q1\", \"2013Q2\", \"2013Q3\", \"2013Q4\", \"2014Q1\", \"2014Q2\", \"2014Q3\", \"2014Q4\", \"2015Q1\", \"2015Q2\", \"2015Q3\", \"2015Q4\", \"2016Q1\", \"2016Q2\", \"2016Q3\", \"2016Q4\", \"2017Q1\", \"2017Q2\", \"2017Q3\", \"2017Q4\", \"2018Q1\"], \"y\": [321, 2400, 4900, 5150, 5500, 6892, 6457, 7579, 7785, 9834, 10030, 11507, 11580, 17478, 14820, 18345, 24500, 22200, 25000, 22000, 26150, 29870, 29980], \"name\": \"Tesla Production\", \"text\": \"\", \"line\": {\"color\": \"rgba(27, 7, 58, 1.0)\", \"width\": 1.3, \"dash\": \"solid\", \"shape\": \"linear\"}, \"mode\": \"markers\", \"marker\": {\"symbol\": \"dot\", \"size\": 12}, \"xaxis\": \"x1\", \"yaxis\": \"y2\"}, {\"type\": \"scatter\", \"x\": [\"2012Q3\", \"2012Q4\", \"2013Q1\", \"2013Q2\", \"2013Q3\", \"2013Q4\", \"2014Q1\", \"2014Q2\", \"2014Q3\", \"2014Q4\", \"2015Q1\", \"2015Q2\", \"2015Q3\", \"2015Q4\", \"2016Q1\", \"2016Q2\", \"2016Q3\", \"2016Q4\", \"2017Q1\", \"2017Q2\", \"2017Q3\", \"2017Q4\", \"2018Q1\"], \"y\": [104.50299999999999, 104.059, 104.304, 104.147, 104.57, 105.634, 104.78200000000001, 105.435, 106.53, 105.977, 106.762, 107.11200000000001, 107.429, 106.697, 106.415, 106.66799999999999, 107.305, 107.618, 107.68299999999999, 108.14200000000001, 108.84899999999999, 108.943, 109.05], \"name\": \"Real Output per Hour\", \"text\": \"\", \"line\": {\"color\": \"rgba(27, 7, 58, 0.8999999999999999)\", \"width\": 1.3, \"dash\": \"solid\", \"shape\": \"linear\"}, \"mode\": \"markers\", \"marker\": {\"symbol\": \"dot\", \"size\": 12}}, {\"type\": \"scatter\", \"x\": [\"2012Q3\", \"2012Q4\", \"2013Q1\", \"2013Q2\", \"2013Q3\", \"2013Q4\", \"2014Q1\", \"2014Q2\", \"2014Q3\", \"2014Q4\", \"2015Q1\", \"2015Q2\", \"2015Q3\", \"2015Q4\", \"2016Q1\", \"2016Q2\", \"2016Q3\", \"2016Q4\", \"2017Q1\", \"2017Q2\", \"2017Q3\", \"2017Q4\", \"2018Q1\"], \"y\": [104.50299999999999, 104.059, 104.304, 104.147, 104.57, 105.634, 104.78200000000001, 105.435, 106.53, 105.977, 106.762, 107.11200000000001, 107.429, 106.697, 106.415, 106.66799999999999, 107.305, 107.618, 107.68299999999999, 108.14200000000001, 108.84899999999999, 108.943, 109.05], \"name\": \"Real Output per Hour\", \"text\": \"\", \"line\": {\"color\": \"rgba(255, 0, 116, 1.0)\", \"width\": 1.3, \"dash\": \"solid\", \"shape\": \"linear\"}, \"mode\": \"markers\", \"marker\": {\"symbol\": \"diamond\", \"size\": 12}}], {\"legend\": {\"bgcolor\": \"#F5F6F9\", \"font\": {\"color\": \"#4D5663\"}}, \"paper_bgcolor\": \"#F5F6F9\", \"plot_bgcolor\": \"#F5F6F9\", \"yaxis1\": {\"tickfont\": {\"color\": \"#4D5663\"}, \"gridcolor\": \"#E1E5ED\", \"titlefont\": {\"color\": \"#4D5663\"}, \"zerolinecolor\": \"#E1E5ED\", \"showgrid\": true, \"title\": \"Real Productivity per Hour ($)\"}, \"xaxis1\": {\"tickfont\": {\"color\": \"#4D5663\"}, \"gridcolor\": \"#E1E5ED\", \"titlefont\": {\"color\": \"#4D5663\"}, \"zerolinecolor\": \"#E1E5ED\", \"showgrid\": true, \"title\": \"\"}, \"titlefont\": {\"color\": \"#4D5663\"}, \"title\": \"Comparitive Time Series\", \"showlegend\": false, \"yaxis2\": {\"tickfont\": {\"color\": \"#4D5663\"}, \"gridcolor\": \"#E1E5ED\", \"titlefont\": {\"color\": \"#4D5663\"}, \"zerolinecolor\": \"#E1E5ED\", \"showgrid\": true, \"title\": \"Car Units Produced\", \"overlaying\": \"y1\", \"side\": \"right\", \"anchor\": \"x1\"}}, {\"showLink\": true, \"linkText\": \"Export to plot.ly\"})});</script>"
      ],
      "text/vnd.plotly.v1+html": [
       "<div id=\"c38ee804-3b9d-4f30-aeb9-c19ada0006af\" style=\"height: 525px; width: 100%;\" class=\"plotly-graph-div\"></div><script type=\"text/javascript\">require([\"plotly\"], function(Plotly) { window.PLOTLYENV=window.PLOTLYENV || {};window.PLOTLYENV.BASE_URL=\"https://plot.ly\";Plotly.newPlot(\"c38ee804-3b9d-4f30-aeb9-c19ada0006af\", [{\"type\": \"scatter\", \"x\": [\"2012Q3\", \"2012Q4\", \"2013Q1\", \"2013Q2\", \"2013Q3\", \"2013Q4\", \"2014Q1\", \"2014Q2\", \"2014Q3\", \"2014Q4\", \"2015Q1\", \"2015Q2\", \"2015Q3\", \"2015Q4\", \"2016Q1\", \"2016Q2\", \"2016Q3\", \"2016Q4\", \"2017Q1\", \"2017Q2\", \"2017Q3\", \"2017Q4\", \"2018Q1\"], \"y\": [321, 2400, 4900, 5150, 5500, 6892, 6457, 7579, 7785, 9834, 10030, 11507, 11580, 17478, 14820, 18345, 24500, 22200, 25000, 22000, 26150, 29870, 29980], \"name\": \"Tesla Production\", \"text\": \"\", \"line\": {\"color\": \"rgba(27, 7, 58, 1.0)\", \"width\": 1.3, \"dash\": \"solid\", \"shape\": \"linear\"}, \"mode\": \"markers\", \"marker\": {\"symbol\": \"dot\", \"size\": 12}, \"xaxis\": \"x1\", \"yaxis\": \"y2\"}, {\"type\": \"scatter\", \"x\": [\"2012Q3\", \"2012Q4\", \"2013Q1\", \"2013Q2\", \"2013Q3\", \"2013Q4\", \"2014Q1\", \"2014Q2\", \"2014Q3\", \"2014Q4\", \"2015Q1\", \"2015Q2\", \"2015Q3\", \"2015Q4\", \"2016Q1\", \"2016Q2\", \"2016Q3\", \"2016Q4\", \"2017Q1\", \"2017Q2\", \"2017Q3\", \"2017Q4\", \"2018Q1\"], \"y\": [104.50299999999999, 104.059, 104.304, 104.147, 104.57, 105.634, 104.78200000000001, 105.435, 106.53, 105.977, 106.762, 107.11200000000001, 107.429, 106.697, 106.415, 106.66799999999999, 107.305, 107.618, 107.68299999999999, 108.14200000000001, 108.84899999999999, 108.943, 109.05], \"name\": \"Real Output per Hour\", \"text\": \"\", \"line\": {\"color\": \"rgba(27, 7, 58, 0.8999999999999999)\", \"width\": 1.3, \"dash\": \"solid\", \"shape\": \"linear\"}, \"mode\": \"markers\", \"marker\": {\"symbol\": \"dot\", \"size\": 12}}, {\"type\": \"scatter\", \"x\": [\"2012Q3\", \"2012Q4\", \"2013Q1\", \"2013Q2\", \"2013Q3\", \"2013Q4\", \"2014Q1\", \"2014Q2\", \"2014Q3\", \"2014Q4\", \"2015Q1\", \"2015Q2\", \"2015Q3\", \"2015Q4\", \"2016Q1\", \"2016Q2\", \"2016Q3\", \"2016Q4\", \"2017Q1\", \"2017Q2\", \"2017Q3\", \"2017Q4\", \"2018Q1\"], \"y\": [104.50299999999999, 104.059, 104.304, 104.147, 104.57, 105.634, 104.78200000000001, 105.435, 106.53, 105.977, 106.762, 107.11200000000001, 107.429, 106.697, 106.415, 106.66799999999999, 107.305, 107.618, 107.68299999999999, 108.14200000000001, 108.84899999999999, 108.943, 109.05], \"name\": \"Real Output per Hour\", \"text\": \"\", \"line\": {\"color\": \"rgba(255, 0, 116, 1.0)\", \"width\": 1.3, \"dash\": \"solid\", \"shape\": \"linear\"}, \"mode\": \"markers\", \"marker\": {\"symbol\": \"diamond\", \"size\": 12}}], {\"legend\": {\"bgcolor\": \"#F5F6F9\", \"font\": {\"color\": \"#4D5663\"}}, \"paper_bgcolor\": \"#F5F6F9\", \"plot_bgcolor\": \"#F5F6F9\", \"yaxis1\": {\"tickfont\": {\"color\": \"#4D5663\"}, \"gridcolor\": \"#E1E5ED\", \"titlefont\": {\"color\": \"#4D5663\"}, \"zerolinecolor\": \"#E1E5ED\", \"showgrid\": true, \"title\": \"Real Productivity per Hour ($)\"}, \"xaxis1\": {\"tickfont\": {\"color\": \"#4D5663\"}, \"gridcolor\": \"#E1E5ED\", \"titlefont\": {\"color\": \"#4D5663\"}, \"zerolinecolor\": \"#E1E5ED\", \"showgrid\": true, \"title\": \"\"}, \"titlefont\": {\"color\": \"#4D5663\"}, \"title\": \"Comparitive Time Series\", \"showlegend\": false, \"yaxis2\": {\"tickfont\": {\"color\": \"#4D5663\"}, \"gridcolor\": \"#E1E5ED\", \"titlefont\": {\"color\": \"#4D5663\"}, \"zerolinecolor\": \"#E1E5ED\", \"showgrid\": true, \"title\": \"Car Units Produced\", \"overlaying\": \"y1\", \"side\": \"right\", \"anchor\": \"x1\"}}, {\"showLink\": true, \"linkText\": \"Export to plot.ly\"})});</script>"
      ]
     },
     "metadata": {},
     "output_type": "display_data"
    }
   ],
   "source": [
    "fig2 = df.iplot(\n",
    "    columns=['Real Output per Hour'], \n",
    "    asFigure=True, \n",
    "    kind='scatter', \n",
    "    showlegend=False,\n",
    "    colors = ('#ff0074'),\n",
    "    x='Date',\n",
    "    mode='markers',\n",
    "    symbol='diamond'\n",
    "    )\n",
    "fig3 = df.iplot(\n",
    "    asFigure=True,\n",
    "    kind='scatter', \n",
    "    secondary_y=['Tesla Production'],\n",
    "    showlegend=False,\n",
    "    title='Comparitive Time Series',\n",
    "    yTitle='Real Productivity per Hour ($)',\n",
    "    secondary_y_title = 'Car Units Produced',\n",
    "    colors = ('#1b073a'),\n",
    "    x='Date',\n",
    "    mode='markers',\n",
    "    )\n",
    "\n",
    "fig3['data'].extend(fig2['data'])\n",
    "\n",
    "iplot(fig3)"
   ]
  },
  {
   "cell_type": "code",
   "execution_count": 52,
   "metadata": {},
   "outputs": [],
   "source": [
    "model = sm.OLS(df['Tesla Production'],df['Real Output per Hour'])"
   ]
  },
  {
   "cell_type": "code",
   "execution_count": 53,
   "metadata": {},
   "outputs": [],
   "source": [
    "results = model.fit()"
   ]
  },
  {
   "cell_type": "code",
   "execution_count": 54,
   "metadata": {
    "scrolled": false
   },
   "outputs": [
    {
     "name": "stdout",
     "output_type": "stream",
     "text": [
      "                            OLS Regression Results                            \n",
      "==============================================================================\n",
      "Dep. Variable:       Tesla Production   R-squared:                       0.720\n",
      "Model:                            OLS   Adj. R-squared:                  0.708\n",
      "Method:                 Least Squares   F-statistic:                     56.64\n",
      "Date:                Mon, 25 Jun 2018   Prob (F-statistic):           1.60e-07\n",
      "Time:                        11:44:34   Log-Likelihood:                -241.41\n",
      "No. Observations:                  23   AIC:                             484.8\n",
      "Df Residuals:                      22   BIC:                             485.9\n",
      "Df Model:                           1                                         \n",
      "Covariance Type:            nonrobust                                         \n",
      "========================================================================================\n",
      "                           coef    std err          t      P>|t|      [0.025      0.975]\n",
      "----------------------------------------------------------------------------------------\n",
      "Real Output per Hour   131.8811     17.523      7.526      0.000      95.540     168.222\n",
      "==============================================================================\n",
      "Omnibus:                        3.981   Durbin-Watson:                   0.094\n",
      "Prob(Omnibus):                  0.137   Jarque-Bera (JB):                1.895\n",
      "Skew:                           0.391   Prob(JB):                        0.388\n",
      "Kurtosis:                       1.831   Cond. No.                         1.00\n",
      "==============================================================================\n",
      "\n",
      "Warnings:\n",
      "[1] Standard Errors assume that the covariance matrix of the errors is correctly specified.\n"
     ]
    }
   ],
   "source": [
    "print(results.summary())"
   ]
  },
  {
   "cell_type": "code",
   "execution_count": null,
   "metadata": {},
   "outputs": [],
   "source": []
  },
  {
   "cell_type": "code",
   "execution_count": 55,
   "metadata": {},
   "outputs": [],
   "source": [
    "df_model=df"
   ]
  },
  {
   "cell_type": "code",
   "execution_count": 56,
   "metadata": {},
   "outputs": [],
   "source": [
    "df['Fitted Values']=results.fittedvalues"
   ]
  },
  {
   "cell_type": "code",
   "execution_count": 57,
   "metadata": {},
   "outputs": [],
   "source": [
    "df['Residuals']=results.resid"
   ]
  },
  {
   "cell_type": "code",
   "execution_count": 58,
   "metadata": {},
   "outputs": [
    {
     "data": {
      "text/html": [
       "<div>\n",
       "<style scoped>\n",
       "    .dataframe tbody tr th:only-of-type {\n",
       "        vertical-align: middle;\n",
       "    }\n",
       "\n",
       "    .dataframe tbody tr th {\n",
       "        vertical-align: top;\n",
       "    }\n",
       "\n",
       "    .dataframe thead th {\n",
       "        text-align: right;\n",
       "    }\n",
       "</style>\n",
       "<table border=\"1\" class=\"dataframe\">\n",
       "  <thead>\n",
       "    <tr style=\"text-align: right;\">\n",
       "      <th></th>\n",
       "      <th>Date</th>\n",
       "      <th>Tesla Production</th>\n",
       "      <th>Real Output per Hour</th>\n",
       "      <th>Fitted Values</th>\n",
       "      <th>Residuals</th>\n",
       "    </tr>\n",
       "  </thead>\n",
       "  <tbody>\n",
       "    <tr>\n",
       "      <th>0</th>\n",
       "      <td>2012Q3</td>\n",
       "      <td>321</td>\n",
       "      <td>104.503</td>\n",
       "      <td>13781.970852</td>\n",
       "      <td>-13460.970852</td>\n",
       "    </tr>\n",
       "    <tr>\n",
       "      <th>1</th>\n",
       "      <td>2012Q4</td>\n",
       "      <td>2400</td>\n",
       "      <td>104.059</td>\n",
       "      <td>13723.415643</td>\n",
       "      <td>-11323.415643</td>\n",
       "    </tr>\n",
       "    <tr>\n",
       "      <th>2</th>\n",
       "      <td>2013Q1</td>\n",
       "      <td>4900</td>\n",
       "      <td>104.304</td>\n",
       "      <td>13755.726513</td>\n",
       "      <td>-8855.726513</td>\n",
       "    </tr>\n",
       "    <tr>\n",
       "      <th>3</th>\n",
       "      <td>2013Q2</td>\n",
       "      <td>5150</td>\n",
       "      <td>104.147</td>\n",
       "      <td>13735.021180</td>\n",
       "      <td>-8585.021180</td>\n",
       "    </tr>\n",
       "    <tr>\n",
       "      <th>4</th>\n",
       "      <td>2013Q3</td>\n",
       "      <td>5500</td>\n",
       "      <td>104.570</td>\n",
       "      <td>13790.806886</td>\n",
       "      <td>-8290.806886</td>\n",
       "    </tr>\n",
       "    <tr>\n",
       "      <th>5</th>\n",
       "      <td>2013Q4</td>\n",
       "      <td>6892</td>\n",
       "      <td>105.634</td>\n",
       "      <td>13931.128379</td>\n",
       "      <td>-7039.128379</td>\n",
       "    </tr>\n",
       "    <tr>\n",
       "      <th>6</th>\n",
       "      <td>2014Q1</td>\n",
       "      <td>6457</td>\n",
       "      <td>104.782</td>\n",
       "      <td>13818.765680</td>\n",
       "      <td>-7361.765680</td>\n",
       "    </tr>\n",
       "    <tr>\n",
       "      <th>7</th>\n",
       "      <td>2014Q2</td>\n",
       "      <td>7579</td>\n",
       "      <td>105.435</td>\n",
       "      <td>13904.884040</td>\n",
       "      <td>-6325.884040</td>\n",
       "    </tr>\n",
       "    <tr>\n",
       "      <th>8</th>\n",
       "      <td>2014Q3</td>\n",
       "      <td>7785</td>\n",
       "      <td>106.530</td>\n",
       "      <td>14049.293847</td>\n",
       "      <td>-6264.293847</td>\n",
       "    </tr>\n",
       "    <tr>\n",
       "      <th>9</th>\n",
       "      <td>2014Q4</td>\n",
       "      <td>9834</td>\n",
       "      <td>105.977</td>\n",
       "      <td>13976.363597</td>\n",
       "      <td>-4142.363597</td>\n",
       "    </tr>\n",
       "    <tr>\n",
       "      <th>10</th>\n",
       "      <td>2015Q1</td>\n",
       "      <td>10030</td>\n",
       "      <td>106.762</td>\n",
       "      <td>14079.890263</td>\n",
       "      <td>-4049.890263</td>\n",
       "    </tr>\n",
       "    <tr>\n",
       "      <th>11</th>\n",
       "      <td>2015Q2</td>\n",
       "      <td>11507</td>\n",
       "      <td>107.112</td>\n",
       "      <td>14126.048649</td>\n",
       "      <td>-2619.048649</td>\n",
       "    </tr>\n",
       "    <tr>\n",
       "      <th>12</th>\n",
       "      <td>2015Q3</td>\n",
       "      <td>11580</td>\n",
       "      <td>107.429</td>\n",
       "      <td>14167.854958</td>\n",
       "      <td>-2587.854958</td>\n",
       "    </tr>\n",
       "    <tr>\n",
       "      <th>13</th>\n",
       "      <td>2015Q4</td>\n",
       "      <td>17478</td>\n",
       "      <td>106.697</td>\n",
       "      <td>14071.317991</td>\n",
       "      <td>3406.682009</td>\n",
       "    </tr>\n",
       "    <tr>\n",
       "      <th>14</th>\n",
       "      <td>2016Q1</td>\n",
       "      <td>14820</td>\n",
       "      <td>106.415</td>\n",
       "      <td>14034.127520</td>\n",
       "      <td>785.872480</td>\n",
       "    </tr>\n",
       "    <tr>\n",
       "      <th>15</th>\n",
       "      <td>2016Q2</td>\n",
       "      <td>18345</td>\n",
       "      <td>106.668</td>\n",
       "      <td>14067.493439</td>\n",
       "      <td>4277.506561</td>\n",
       "    </tr>\n",
       "    <tr>\n",
       "      <th>16</th>\n",
       "      <td>2016Q3</td>\n",
       "      <td>24500</td>\n",
       "      <td>107.305</td>\n",
       "      <td>14151.501701</td>\n",
       "      <td>10348.498299</td>\n",
       "    </tr>\n",
       "    <tr>\n",
       "      <th>17</th>\n",
       "      <td>2016Q4</td>\n",
       "      <td>22200</td>\n",
       "      <td>107.618</td>\n",
       "      <td>14192.780486</td>\n",
       "      <td>8007.219514</td>\n",
       "    </tr>\n",
       "    <tr>\n",
       "      <th>18</th>\n",
       "      <td>2017Q1</td>\n",
       "      <td>25000</td>\n",
       "      <td>107.683</td>\n",
       "      <td>14201.352758</td>\n",
       "      <td>10798.647242</td>\n",
       "    </tr>\n",
       "    <tr>\n",
       "      <th>19</th>\n",
       "      <td>2017Q2</td>\n",
       "      <td>22000</td>\n",
       "      <td>108.142</td>\n",
       "      <td>14261.886184</td>\n",
       "      <td>7738.113816</td>\n",
       "    </tr>\n",
       "    <tr>\n",
       "      <th>20</th>\n",
       "      <td>2017Q3</td>\n",
       "      <td>26150</td>\n",
       "      <td>108.849</td>\n",
       "      <td>14355.126124</td>\n",
       "      <td>11794.873876</td>\n",
       "    </tr>\n",
       "    <tr>\n",
       "      <th>21</th>\n",
       "      <td>2017Q4</td>\n",
       "      <td>29870</td>\n",
       "      <td>108.943</td>\n",
       "      <td>14367.522947</td>\n",
       "      <td>15502.477053</td>\n",
       "    </tr>\n",
       "    <tr>\n",
       "      <th>22</th>\n",
       "      <td>2018Q1</td>\n",
       "      <td>29980</td>\n",
       "      <td>109.050</td>\n",
       "      <td>14381.634225</td>\n",
       "      <td>15598.365775</td>\n",
       "    </tr>\n",
       "  </tbody>\n",
       "</table>\n",
       "</div>"
      ],
      "text/plain": [
       "      Date  Tesla Production  Real Output per Hour  Fitted Values  \\\n",
       "0   2012Q3               321               104.503   13781.970852   \n",
       "1   2012Q4              2400               104.059   13723.415643   \n",
       "2   2013Q1              4900               104.304   13755.726513   \n",
       "3   2013Q2              5150               104.147   13735.021180   \n",
       "4   2013Q3              5500               104.570   13790.806886   \n",
       "5   2013Q4              6892               105.634   13931.128379   \n",
       "6   2014Q1              6457               104.782   13818.765680   \n",
       "7   2014Q2              7579               105.435   13904.884040   \n",
       "8   2014Q3              7785               106.530   14049.293847   \n",
       "9   2014Q4              9834               105.977   13976.363597   \n",
       "10  2015Q1             10030               106.762   14079.890263   \n",
       "11  2015Q2             11507               107.112   14126.048649   \n",
       "12  2015Q3             11580               107.429   14167.854958   \n",
       "13  2015Q4             17478               106.697   14071.317991   \n",
       "14  2016Q1             14820               106.415   14034.127520   \n",
       "15  2016Q2             18345               106.668   14067.493439   \n",
       "16  2016Q3             24500               107.305   14151.501701   \n",
       "17  2016Q4             22200               107.618   14192.780486   \n",
       "18  2017Q1             25000               107.683   14201.352758   \n",
       "19  2017Q2             22000               108.142   14261.886184   \n",
       "20  2017Q3             26150               108.849   14355.126124   \n",
       "21  2017Q4             29870               108.943   14367.522947   \n",
       "22  2018Q1             29980               109.050   14381.634225   \n",
       "\n",
       "       Residuals  \n",
       "0  -13460.970852  \n",
       "1  -11323.415643  \n",
       "2   -8855.726513  \n",
       "3   -8585.021180  \n",
       "4   -8290.806886  \n",
       "5   -7039.128379  \n",
       "6   -7361.765680  \n",
       "7   -6325.884040  \n",
       "8   -6264.293847  \n",
       "9   -4142.363597  \n",
       "10  -4049.890263  \n",
       "11  -2619.048649  \n",
       "12  -2587.854958  \n",
       "13   3406.682009  \n",
       "14    785.872480  \n",
       "15   4277.506561  \n",
       "16  10348.498299  \n",
       "17   8007.219514  \n",
       "18  10798.647242  \n",
       "19   7738.113816  \n",
       "20  11794.873876  \n",
       "21  15502.477053  \n",
       "22  15598.365775  "
      ]
     },
     "execution_count": 58,
     "metadata": {},
     "output_type": "execute_result"
    }
   ],
   "source": [
    "df"
   ]
  },
  {
   "cell_type": "code",
   "execution_count": 59,
   "metadata": {},
   "outputs": [
    {
     "data": {
      "text/plain": [
       "320278"
      ]
     },
     "execution_count": 59,
     "metadata": {},
     "output_type": "execute_result"
    }
   ],
   "source": [
    "df['Tesla Production'].sum()"
   ]
  },
  {
   "cell_type": "code",
   "execution_count": 60,
   "metadata": {},
   "outputs": [
    {
     "data": {
      "text/plain": [
       "0.9140488377327192"
      ]
     },
     "execution_count": 60,
     "metadata": {},
     "output_type": "execute_result"
    }
   ],
   "source": [
    "df['Tesla Production'].corr(df['Real Output per Hour'])"
   ]
  },
  {
   "cell_type": "code",
   "execution_count": 64,
   "metadata": {},
   "outputs": [
    {
     "data": {
      "application/vnd.plotly.v1+json": {
       "data": [
        {
         "line": {
          "color": "rgba(255, 0, 116, 1.0)",
          "dash": "solid",
          "shape": "linear",
          "width": 1.3
         },
         "mode": "lines",
         "name": "Fitted Values",
         "text": "",
         "type": "scatter",
         "x": [
          "2012Q3",
          "2012Q4",
          "2013Q1",
          "2013Q2",
          "2013Q3",
          "2013Q4",
          "2014Q1",
          "2014Q2",
          "2014Q3",
          "2014Q4",
          "2015Q1",
          "2015Q2",
          "2015Q3",
          "2015Q4",
          "2016Q1",
          "2016Q2",
          "2016Q3",
          "2016Q4",
          "2017Q1",
          "2017Q2",
          "2017Q3",
          "2017Q4",
          "2018Q1"
         ],
         "y": [
          13781.970852262537,
          13723.41564276229,
          13755.726512869409,
          13735.021179780359,
          13790.806886128566,
          13931.128379165202,
          13818.765679853914,
          13904.884039772072,
          14049.293846985525,
          13976.363597315169,
          14079.89026276043,
          14126.048648627744,
          14167.854958113283,
          14071.317991099357,
          14034.12752020055,
          14067.493439127493,
          14151.501701406007,
          14192.78048648163,
          14201.352758142702,
          14261.886184180124,
          14355.126123632097,
          14367.522947265034,
          14381.634225230184
         ]
        }
       ],
       "layout": {
        "legend": {
         "bgcolor": "#F5F6F9",
         "font": {
          "color": "#4D5663"
         }
        },
        "paper_bgcolor": "#F5F6F9",
        "plot_bgcolor": "#F5F6F9",
        "showlegend": false,
        "title": "OLS Fitted Values",
        "titlefont": {
         "color": "#4D5663"
        },
        "xaxis1": {
         "gridcolor": "#E1E5ED",
         "showgrid": true,
         "tickfont": {
          "color": "#4D5663"
         },
         "title": "",
         "titlefont": {
          "color": "#4D5663"
         },
         "zerolinecolor": "#E1E5ED"
        },
        "yaxis1": {
         "gridcolor": "#E1E5ED",
         "showgrid": true,
         "tickfont": {
          "color": "#4D5663"
         },
         "title": "Residuals",
         "titlefont": {
          "color": "#4D5663"
         },
         "zerolinecolor": "#E1E5ED"
        }
       }
      },
      "text/html": [
       "<div id=\"54a9f21e-43f3-461d-aec4-af67b1347eea\" style=\"height: 525px; width: 100%;\" class=\"plotly-graph-div\"></div><script type=\"text/javascript\">require([\"plotly\"], function(Plotly) { window.PLOTLYENV=window.PLOTLYENV || {};window.PLOTLYENV.BASE_URL=\"https://plot.ly\";Plotly.newPlot(\"54a9f21e-43f3-461d-aec4-af67b1347eea\", [{\"type\": \"scatter\", \"x\": [\"2012Q3\", \"2012Q4\", \"2013Q1\", \"2013Q2\", \"2013Q3\", \"2013Q4\", \"2014Q1\", \"2014Q2\", \"2014Q3\", \"2014Q4\", \"2015Q1\", \"2015Q2\", \"2015Q3\", \"2015Q4\", \"2016Q1\", \"2016Q2\", \"2016Q3\", \"2016Q4\", \"2017Q1\", \"2017Q2\", \"2017Q3\", \"2017Q4\", \"2018Q1\"], \"y\": [13781.970852262537, 13723.41564276229, 13755.726512869409, 13735.021179780359, 13790.806886128566, 13931.128379165202, 13818.765679853914, 13904.884039772072, 14049.293846985525, 13976.363597315169, 14079.89026276043, 14126.048648627744, 14167.854958113283, 14071.317991099357, 14034.12752020055, 14067.493439127493, 14151.501701406007, 14192.78048648163, 14201.352758142702, 14261.886184180124, 14355.126123632097, 14367.522947265034, 14381.634225230184], \"name\": \"Fitted Values\", \"text\": \"\", \"line\": {\"color\": \"rgba(255, 0, 116, 1.0)\", \"width\": 1.3, \"dash\": \"solid\", \"shape\": \"linear\"}, \"mode\": \"lines\"}], {\"legend\": {\"bgcolor\": \"#F5F6F9\", \"font\": {\"color\": \"#4D5663\"}}, \"paper_bgcolor\": \"#F5F6F9\", \"plot_bgcolor\": \"#F5F6F9\", \"yaxis1\": {\"tickfont\": {\"color\": \"#4D5663\"}, \"gridcolor\": \"#E1E5ED\", \"titlefont\": {\"color\": \"#4D5663\"}, \"zerolinecolor\": \"#E1E5ED\", \"showgrid\": true, \"title\": \"Residuals\"}, \"xaxis1\": {\"tickfont\": {\"color\": \"#4D5663\"}, \"gridcolor\": \"#E1E5ED\", \"titlefont\": {\"color\": \"#4D5663\"}, \"zerolinecolor\": \"#E1E5ED\", \"showgrid\": true, \"title\": \"\"}, \"titlefont\": {\"color\": \"#4D5663\"}, \"title\": \"OLS Fitted Values\", \"showlegend\": false}, {\"showLink\": true, \"linkText\": \"Export to plot.ly\"})});</script>"
      ],
      "text/vnd.plotly.v1+html": [
       "<div id=\"54a9f21e-43f3-461d-aec4-af67b1347eea\" style=\"height: 525px; width: 100%;\" class=\"plotly-graph-div\"></div><script type=\"text/javascript\">require([\"plotly\"], function(Plotly) { window.PLOTLYENV=window.PLOTLYENV || {};window.PLOTLYENV.BASE_URL=\"https://plot.ly\";Plotly.newPlot(\"54a9f21e-43f3-461d-aec4-af67b1347eea\", [{\"type\": \"scatter\", \"x\": [\"2012Q3\", \"2012Q4\", \"2013Q1\", \"2013Q2\", \"2013Q3\", \"2013Q4\", \"2014Q1\", \"2014Q2\", \"2014Q3\", \"2014Q4\", \"2015Q1\", \"2015Q2\", \"2015Q3\", \"2015Q4\", \"2016Q1\", \"2016Q2\", \"2016Q3\", \"2016Q4\", \"2017Q1\", \"2017Q2\", \"2017Q3\", \"2017Q4\", \"2018Q1\"], \"y\": [13781.970852262537, 13723.41564276229, 13755.726512869409, 13735.021179780359, 13790.806886128566, 13931.128379165202, 13818.765679853914, 13904.884039772072, 14049.293846985525, 13976.363597315169, 14079.89026276043, 14126.048648627744, 14167.854958113283, 14071.317991099357, 14034.12752020055, 14067.493439127493, 14151.501701406007, 14192.78048648163, 14201.352758142702, 14261.886184180124, 14355.126123632097, 14367.522947265034, 14381.634225230184], \"name\": \"Fitted Values\", \"text\": \"\", \"line\": {\"color\": \"rgba(255, 0, 116, 1.0)\", \"width\": 1.3, \"dash\": \"solid\", \"shape\": \"linear\"}, \"mode\": \"lines\"}], {\"legend\": {\"bgcolor\": \"#F5F6F9\", \"font\": {\"color\": \"#4D5663\"}}, \"paper_bgcolor\": \"#F5F6F9\", \"plot_bgcolor\": \"#F5F6F9\", \"yaxis1\": {\"tickfont\": {\"color\": \"#4D5663\"}, \"gridcolor\": \"#E1E5ED\", \"titlefont\": {\"color\": \"#4D5663\"}, \"zerolinecolor\": \"#E1E5ED\", \"showgrid\": true, \"title\": \"Residuals\"}, \"xaxis1\": {\"tickfont\": {\"color\": \"#4D5663\"}, \"gridcolor\": \"#E1E5ED\", \"titlefont\": {\"color\": \"#4D5663\"}, \"zerolinecolor\": \"#E1E5ED\", \"showgrid\": true, \"title\": \"\"}, \"titlefont\": {\"color\": \"#4D5663\"}, \"title\": \"OLS Fitted Values\", \"showlegend\": false}, {\"showLink\": true, \"linkText\": \"Export to plot.ly\"})});</script>"
      ]
     },
     "metadata": {},
     "output_type": "display_data"
    }
   ],
   "source": [
    "fig0 = df.iplot(\n",
    "    columns=['Fitted Values'], \n",
    "    asFigure=True, \n",
    "    kind='scatter', \n",
    "    showlegend=False,\n",
    "    colors = ('#ff0074'),\n",
    "    yTitle='Residuals',\n",
    "    x='Date',\n",
    "    title='OLS Fitted Values'\n",
    "    )\n",
    "\n",
    "iplot(fig0)"
   ]
  },
  {
   "cell_type": "code",
   "execution_count": 63,
   "metadata": {},
   "outputs": [
    {
     "data": {
      "application/vnd.plotly.v1+json": {
       "data": [
        {
         "line": {
          "color": "rgba(255, 0, 116, 1.0)",
          "dash": "solid",
          "shape": "linear",
          "width": 1.3
         },
         "mode": "lines",
         "name": "Residuals",
         "text": "",
         "type": "scatter",
         "x": [
          "2012Q3",
          "2012Q4",
          "2013Q1",
          "2013Q2",
          "2013Q3",
          "2013Q4",
          "2014Q1",
          "2014Q2",
          "2014Q3",
          "2014Q4",
          "2015Q1",
          "2015Q2",
          "2015Q3",
          "2015Q4",
          "2016Q1",
          "2016Q2",
          "2016Q3",
          "2016Q4",
          "2017Q1",
          "2017Q2",
          "2017Q3",
          "2017Q4",
          "2018Q1"
         ],
         "y": [
          -13460.970852262537,
          -11323.41564276229,
          -8855.726512869409,
          -8585.021179780359,
          -8290.806886128566,
          -7039.128379165202,
          -7361.765679853914,
          -6325.884039772072,
          -6264.293846985525,
          -4142.363597315169,
          -4049.8902627604293,
          -2619.048648627744,
          -2587.854958113283,
          3406.6820089006433,
          785.8724797994491,
          4277.506560872507,
          10348.498298593993,
          8007.21951351837,
          10798.647241857298,
          7738.1138158198755,
          11794.873876367903,
          15502.477052734966,
          15598.365774769816
         ]
        }
       ],
       "layout": {
        "legend": {
         "bgcolor": "#F5F6F9",
         "font": {
          "color": "#4D5663"
         }
        },
        "paper_bgcolor": "#F5F6F9",
        "plot_bgcolor": "#F5F6F9",
        "showlegend": false,
        "title": "OLS Residuals",
        "titlefont": {
         "color": "#4D5663"
        },
        "xaxis1": {
         "gridcolor": "#E1E5ED",
         "showgrid": true,
         "tickfont": {
          "color": "#4D5663"
         },
         "title": "",
         "titlefont": {
          "color": "#4D5663"
         },
         "zerolinecolor": "#E1E5ED"
        },
        "yaxis1": {
         "gridcolor": "#E1E5ED",
         "showgrid": true,
         "tickfont": {
          "color": "#4D5663"
         },
         "title": "Residuals",
         "titlefont": {
          "color": "#4D5663"
         },
         "zerolinecolor": "#E1E5ED"
        }
       }
      },
      "text/html": [
       "<div id=\"79ed09b4-ce9a-4cde-9ae4-1444d8f627e9\" style=\"height: 525px; width: 100%;\" class=\"plotly-graph-div\"></div><script type=\"text/javascript\">require([\"plotly\"], function(Plotly) { window.PLOTLYENV=window.PLOTLYENV || {};window.PLOTLYENV.BASE_URL=\"https://plot.ly\";Plotly.newPlot(\"79ed09b4-ce9a-4cde-9ae4-1444d8f627e9\", [{\"type\": \"scatter\", \"x\": [\"2012Q3\", \"2012Q4\", \"2013Q1\", \"2013Q2\", \"2013Q3\", \"2013Q4\", \"2014Q1\", \"2014Q2\", \"2014Q3\", \"2014Q4\", \"2015Q1\", \"2015Q2\", \"2015Q3\", \"2015Q4\", \"2016Q1\", \"2016Q2\", \"2016Q3\", \"2016Q4\", \"2017Q1\", \"2017Q2\", \"2017Q3\", \"2017Q4\", \"2018Q1\"], \"y\": [-13460.970852262537, -11323.41564276229, -8855.726512869409, -8585.021179780359, -8290.806886128566, -7039.128379165202, -7361.765679853914, -6325.884039772072, -6264.293846985525, -4142.363597315169, -4049.8902627604293, -2619.048648627744, -2587.854958113283, 3406.6820089006433, 785.8724797994491, 4277.506560872507, 10348.498298593993, 8007.21951351837, 10798.647241857298, 7738.1138158198755, 11794.873876367903, 15502.477052734966, 15598.365774769816], \"name\": \"Residuals\", \"text\": \"\", \"line\": {\"color\": \"rgba(255, 0, 116, 1.0)\", \"width\": 1.3, \"dash\": \"solid\", \"shape\": \"linear\"}, \"mode\": \"lines\"}], {\"legend\": {\"bgcolor\": \"#F5F6F9\", \"font\": {\"color\": \"#4D5663\"}}, \"paper_bgcolor\": \"#F5F6F9\", \"plot_bgcolor\": \"#F5F6F9\", \"yaxis1\": {\"tickfont\": {\"color\": \"#4D5663\"}, \"gridcolor\": \"#E1E5ED\", \"titlefont\": {\"color\": \"#4D5663\"}, \"zerolinecolor\": \"#E1E5ED\", \"showgrid\": true, \"title\": \"Residuals\"}, \"xaxis1\": {\"tickfont\": {\"color\": \"#4D5663\"}, \"gridcolor\": \"#E1E5ED\", \"titlefont\": {\"color\": \"#4D5663\"}, \"zerolinecolor\": \"#E1E5ED\", \"showgrid\": true, \"title\": \"\"}, \"titlefont\": {\"color\": \"#4D5663\"}, \"title\": \"OLS Residuals\", \"showlegend\": false}, {\"showLink\": true, \"linkText\": \"Export to plot.ly\"})});</script>"
      ],
      "text/vnd.plotly.v1+html": [
       "<div id=\"79ed09b4-ce9a-4cde-9ae4-1444d8f627e9\" style=\"height: 525px; width: 100%;\" class=\"plotly-graph-div\"></div><script type=\"text/javascript\">require([\"plotly\"], function(Plotly) { window.PLOTLYENV=window.PLOTLYENV || {};window.PLOTLYENV.BASE_URL=\"https://plot.ly\";Plotly.newPlot(\"79ed09b4-ce9a-4cde-9ae4-1444d8f627e9\", [{\"type\": \"scatter\", \"x\": [\"2012Q3\", \"2012Q4\", \"2013Q1\", \"2013Q2\", \"2013Q3\", \"2013Q4\", \"2014Q1\", \"2014Q2\", \"2014Q3\", \"2014Q4\", \"2015Q1\", \"2015Q2\", \"2015Q3\", \"2015Q4\", \"2016Q1\", \"2016Q2\", \"2016Q3\", \"2016Q4\", \"2017Q1\", \"2017Q2\", \"2017Q3\", \"2017Q4\", \"2018Q1\"], \"y\": [-13460.970852262537, -11323.41564276229, -8855.726512869409, -8585.021179780359, -8290.806886128566, -7039.128379165202, -7361.765679853914, -6325.884039772072, -6264.293846985525, -4142.363597315169, -4049.8902627604293, -2619.048648627744, -2587.854958113283, 3406.6820089006433, 785.8724797994491, 4277.506560872507, 10348.498298593993, 8007.21951351837, 10798.647241857298, 7738.1138158198755, 11794.873876367903, 15502.477052734966, 15598.365774769816], \"name\": \"Residuals\", \"text\": \"\", \"line\": {\"color\": \"rgba(255, 0, 116, 1.0)\", \"width\": 1.3, \"dash\": \"solid\", \"shape\": \"linear\"}, \"mode\": \"lines\"}], {\"legend\": {\"bgcolor\": \"#F5F6F9\", \"font\": {\"color\": \"#4D5663\"}}, \"paper_bgcolor\": \"#F5F6F9\", \"plot_bgcolor\": \"#F5F6F9\", \"yaxis1\": {\"tickfont\": {\"color\": \"#4D5663\"}, \"gridcolor\": \"#E1E5ED\", \"titlefont\": {\"color\": \"#4D5663\"}, \"zerolinecolor\": \"#E1E5ED\", \"showgrid\": true, \"title\": \"Residuals\"}, \"xaxis1\": {\"tickfont\": {\"color\": \"#4D5663\"}, \"gridcolor\": \"#E1E5ED\", \"titlefont\": {\"color\": \"#4D5663\"}, \"zerolinecolor\": \"#E1E5ED\", \"showgrid\": true, \"title\": \"\"}, \"titlefont\": {\"color\": \"#4D5663\"}, \"title\": \"OLS Residuals\", \"showlegend\": false}, {\"showLink\": true, \"linkText\": \"Export to plot.ly\"})});</script>"
      ]
     },
     "metadata": {},
     "output_type": "display_data"
    }
   ],
   "source": [
    "fig0 = df.iplot(\n",
    "    columns=['Residuals'], \n",
    "    asFigure=True, \n",
    "    kind='scatter', \n",
    "    showlegend=False,\n",
    "    colors = ('#ff0074'),\n",
    "    yTitle='Residuals',\n",
    "    x='Date',\n",
    "    title='OLS Residuals'\n",
    "    )\n",
    "\n",
    "iplot(fig0)"
   ]
  },
  {
   "cell_type": "markdown",
   "metadata": {},
   "source": [
    "# TODO \n",
    "* Cacluate line of best fit (OLS), add to df\n",
    "* distribution\n",
    "* R \n",
    "* adj. R \n",
    "* Pearsons Correlation \n",
    "* heteroskedasticity robust \n",
    "* Skewness\n",
    "* Kurtosis\n",
    "* ones and talk about areas to move on with this stuff"
   ]
  },
  {
   "cell_type": "code",
   "execution_count": null,
   "metadata": {},
   "outputs": [],
   "source": []
  }
 ],
 "metadata": {
  "kernelspec": {
   "display_name": "Python 3",
   "language": "python",
   "name": "python3"
  },
  "language_info": {
   "codemirror_mode": {
    "name": "ipython",
    "version": 3
   },
   "file_extension": ".py",
   "mimetype": "text/x-python",
   "name": "python",
   "nbconvert_exporter": "python",
   "pygments_lexer": "ipython3",
   "version": "3.6.5"
  }
 },
 "nbformat": 4,
 "nbformat_minor": 2
}
