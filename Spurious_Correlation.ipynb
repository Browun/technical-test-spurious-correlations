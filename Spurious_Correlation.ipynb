{
 "cells": [
  {
   "cell_type": "markdown",
   "metadata": {},
   "source": [
    "# Spurious Correlations\n",
    "***\n",
    "## Introduction\n",
    "This is a **short** *exploratory data analysis (EDA)* and *visualisation* of two random datasets. Even from this brief analysis, it is apparent that there are underlying issues within the datasets that would need further analysis and cleansing before serious, meaningful insights **could** and/or **should** be inferred. For further discussion on this see [Statistical Disclaimer Section](##statistical-disclaimer)\n",
    "\n",
    "Ofcourse, these data series are not completely random. I wanted them to have:\n",
    " 1. Interesting narrative potential\n",
    " 2. Minimize the need for data cleansing\n",
    " \n",
    "Which led me to picking:\n",
    "- Tesla Production\n",
    "    - [Available as estimates from Statista](https://www.statista.com/statistics/715421/tesla-quarterly-vehicle-production/)\n",
    "    - Total number of units sold\n",
    "- Nonfarm Business Sector: Real Output Per Hour of All Persons\n",
    "    - [Available from Federal Reserve Bank of St. Louis](https://fred.stlouisfed.org/series/OPHNFB)\n",
    "    - Taken as an index (100 being 2012 Q3)\n",
    "***    \n",
    "## Data\n",
    "Both time series datasets are exclusively in the range of 2012 Q3 to 2018 Q1.\n",
    "\n",
    "###   Tesla Production\n",
    "Given Elon Musk's tendency for secrecy around the inner-workings of Tesla, ([even after a press tour around a section of the manufacturing plant](https://www.cbsnews.com/news/elon-musk-tesla-model-3-problems-interview-today-2018-04-13/)) any specific data for Tesla is hard to come buy. Excluding the publically available financial information.\n",
    "\n",
    "For this reason my data source is based on estimates calculated from this financial information and fact-checked against Tesla press releases.\n",
    "    \n",
    "It represents the *Number of Produced Teslas* of any model since 2012 Q3.\n",
    "\n",
    "### Real Output per Hour\n",
    "Based on the measure from \"Nonfarm Business Sector: Real Output Per Hour of All Persons\", **Nonfarm** is defined by the U.S. Bureau of Labour Statistics (BLS) as:\n",
    "\n",
    ">... a subset of the domestic economy and excludes the economic activities of the following: general government, private households, nonprofit organizations serving individuals, and farms. \n",
    "\n",
    "In general then and in line with the exceptions stated above, it can be taken to be representative of *productivity per hour* in the U.S. economy.\n",
    "\n",
    "## Statistical Disclaimer\n",
    "As stated above, this exploratory analysis is by no means complete and still leaves questions unanswered in these datasets. When this task was given to me, I was told to: \n",
    "> - select two random data sets\n",
    "- undertake a correlation comparison and visualisation [on them]\n",
    "- add some brief documentation\n",
    "- spend no more than a few minor hours\n",
    "\n",
    "In light of the last point in particular, I have stopped myself from carrying out further tests in areas that I believe would require following for these insights to \"hold water\". This would include tests/solutions for:\n",
    "- The presence of unit roots within the data, which is common in many time series datasets. A good source of information can be found on [Wikipedia](https://en.wikipedia.org/wiki/Unit_root) or [Michael's/Patrick's](https://stats.stackexchange.com/questions/29121/intuitive-explanation-of-unit-root) answers should help for anywone interested in Unit Roots.\n",
    "- The presence of Heteroskedasticity within the data, shown in the *OLS Residuals* graph at the bottom of this document. This is non-constant variance across a time series, more information at [StatsMakeMeCry.com](http://www.statsmakemecry.com/smmctheblog/confusing-stats-terms-explained-heteroscedasticity-heteroske.html)\n",
    "- Non-Linear relationship will be fitted poorly by OLS, testing Non-Linear Regression model [alternatives](http://blog.minitab.com/blog/adventures-in-statistics-2/what-is-the-difference-between-linear-and-nonlinear-equations-in-regression-analysis)\n",
    "- Sum of Squared Errors (RSS) could also be fitting the model poorly even if the data is linear in its dispersion, more information on the OLS [Error Function](http://www.clockbackward.com/2009/06/18/ordinary-least-squares-linear-regression-flaws-problems-and-pitfalls/)\n",
    "- Presence of Autocorrelation within either datasets or their produced regression model, a simple explanation of which can be [found here](https://www.quora.com/What-is-autocorrelation)\n",
    "\n",
    "Given the data being utilised and inspite of these statistical shortfalls, there are plausible relationships to be found in the data. These can be found in the [Conclusion](##conclusion) section at the end of this notebook.\n",
    "\n",
    "## Tools\n",
    "This notebooks stack is Python 3 and is being run inside of a virtual environment locally; specifically utilising virtualenv and virtualenvwrapper. Because of this there is no virtualenv file in this repo, instead I have created a requirements.txt file that can be used to install all dependancies required to run this notebook locally!\n",
    "\n",
    "In this EDA I have utilised *Cufflinks*, *Jupyter Notebooks* (no surprise!), *Pandas*, *Plotly*, and *Statsmodels*.\n",
    "\n",
    "Jupyter Notebooks was utilised to bring this style of interactive presentation, whilst  still allowing use of Markdown and code snippets. Pandas allows easy and powerful data utilisation and Statsmodels (perhaps not surprisingly) allowed for the running of **OLS** (Ordinary Least Squares) regression and neat presentation of standard output statistics. Cufflinks and Poltly are both visualisation packages which make utilisation of multiple other Python visualisation libraries much easier; such as Matplotlib and Seaborn."
   ]
  },
  {
   "cell_type": "code",
   "execution_count": 1,
   "metadata": {},
   "outputs": [
    {
     "data": {
      "text/html": [
       "<script>requirejs.config({paths: { 'plotly': ['https://cdn.plot.ly/plotly-latest.min']},});if(!window.Plotly) {{require(['plotly'],function(plotly) {window.Plotly=plotly;});}}</script>"
      ],
      "text/vnd.plotly.v1+html": [
       "<script>requirejs.config({paths: { 'plotly': ['https://cdn.plot.ly/plotly-latest.min']},});if(!window.Plotly) {{require(['plotly'],function(plotly) {window.Plotly=plotly;});}}</script>"
      ]
     },
     "metadata": {},
     "output_type": "display_data"
    }
   ],
   "source": [
    "# import matplotlib.pyplot as plt\n",
    "import pandas as pd\n",
    "import plotly.plotly as py\n",
    "import plotly.graph_objs as go\n",
    "import cufflinks as cf\n",
    "import statsmodels.api as sm\n",
    "\n",
    "from plotly import __version__\n",
    "from plotly.offline import download_plotlyjs, init_notebook_mode, plot, iplot\n",
    "\n",
    "init_notebook_mode(connected=True)"
   ]
  },
  {
   "cell_type": "markdown",
   "metadata": {},
   "source": [
    "## Imports\n",
    "As described above in [Tools](#tools), these are the modules I have imported for the use throughout the rest of this Jupyter Notebook. Furthermore, there is a requirements.txt file that will allow you to install and run the notebook locally.\n",
    "\n",
    "I also have defined options within Plotly that allow for the graphs to be saved and manipulated locally for portability."
   ]
  },
  {
   "cell_type": "code",
   "execution_count": 65,
   "metadata": {},
   "outputs": [
    {
     "data": {
      "text/plain": [
       "(23, 3)"
      ]
     },
     "execution_count": 65,
     "metadata": {},
     "output_type": "execute_result"
    }
   ],
   "source": [
    "df = pd.read_csv(\"TeslaProduction-BusinessProductivity.csv\")\n",
    "df.shape"
   ]
  },
  {
   "cell_type": "markdown",
   "metadata": {},
   "source": [
    "## Dataframe and Shape\n",
    "Initially I import my collected data from **TeslaProduction-BusinessProductivity.csv** into a Pandas dataframe for easy data storage, manipulation and later easy referencing. \n",
    "\n",
    "I also defined the structure of thi data, with 23 instances in each dataset, of which there are 3 in total.\n",
    "***"
   ]
  },
  {
   "cell_type": "code",
   "execution_count": 67,
   "metadata": {
    "scrolled": true
   },
   "outputs": [
    {
     "data": {
      "text/html": [
       "<div>\n",
       "<style scoped>\n",
       "    .dataframe tbody tr th:only-of-type {\n",
       "        vertical-align: middle;\n",
       "    }\n",
       "\n",
       "    .dataframe tbody tr th {\n",
       "        vertical-align: top;\n",
       "    }\n",
       "\n",
       "    .dataframe thead th {\n",
       "        text-align: right;\n",
       "    }\n",
       "</style>\n",
       "<table border=\"1\" class=\"dataframe\">\n",
       "  <thead>\n",
       "    <tr style=\"text-align: right;\">\n",
       "      <th></th>\n",
       "      <th>Date</th>\n",
       "      <th>Tesla Production</th>\n",
       "      <th>Real Output per Hour</th>\n",
       "    </tr>\n",
       "  </thead>\n",
       "  <tbody>\n",
       "    <tr>\n",
       "      <th>0</th>\n",
       "      <td>2012Q3</td>\n",
       "      <td>321</td>\n",
       "      <td>104.503</td>\n",
       "    </tr>\n",
       "    <tr>\n",
       "      <th>1</th>\n",
       "      <td>2012Q4</td>\n",
       "      <td>2400</td>\n",
       "      <td>104.059</td>\n",
       "    </tr>\n",
       "    <tr>\n",
       "      <th>2</th>\n",
       "      <td>2013Q1</td>\n",
       "      <td>4900</td>\n",
       "      <td>104.304</td>\n",
       "    </tr>\n",
       "    <tr>\n",
       "      <th>3</th>\n",
       "      <td>2013Q2</td>\n",
       "      <td>5150</td>\n",
       "      <td>104.147</td>\n",
       "    </tr>\n",
       "    <tr>\n",
       "      <th>4</th>\n",
       "      <td>2013Q3</td>\n",
       "      <td>5500</td>\n",
       "      <td>104.570</td>\n",
       "    </tr>\n",
       "  </tbody>\n",
       "</table>\n",
       "</div>"
      ],
      "text/plain": [
       "     Date  Tesla Production  Real Output per Hour\n",
       "0  2012Q3               321               104.503\n",
       "1  2012Q4              2400               104.059\n",
       "2  2013Q1              4900               104.304\n",
       "3  2013Q2              5150               104.147\n",
       "4  2013Q3              5500               104.570"
      ]
     },
     "execution_count": 67,
     "metadata": {},
     "output_type": "execute_result"
    }
   ],
   "source": [
    "df.head()"
   ]
  },
  {
   "cell_type": "code",
   "execution_count": 6,
   "metadata": {},
   "outputs": [
    {
     "data": {
      "text/html": [
       "<div>\n",
       "<style scoped>\n",
       "    .dataframe tbody tr th:only-of-type {\n",
       "        vertical-align: middle;\n",
       "    }\n",
       "\n",
       "    .dataframe tbody tr th {\n",
       "        vertical-align: top;\n",
       "    }\n",
       "\n",
       "    .dataframe thead th {\n",
       "        text-align: right;\n",
       "    }\n",
       "</style>\n",
       "<table border=\"1\" class=\"dataframe\">\n",
       "  <thead>\n",
       "    <tr style=\"text-align: right;\">\n",
       "      <th></th>\n",
       "      <th>Date</th>\n",
       "      <th>Tesla Production</th>\n",
       "      <th>Real Output per Hour</th>\n",
       "    </tr>\n",
       "  </thead>\n",
       "  <tbody>\n",
       "    <tr>\n",
       "      <th>18</th>\n",
       "      <td>2017Q1</td>\n",
       "      <td>25000</td>\n",
       "      <td>107.683</td>\n",
       "    </tr>\n",
       "    <tr>\n",
       "      <th>19</th>\n",
       "      <td>2017Q2</td>\n",
       "      <td>22000</td>\n",
       "      <td>108.142</td>\n",
       "    </tr>\n",
       "    <tr>\n",
       "      <th>20</th>\n",
       "      <td>2017Q3</td>\n",
       "      <td>26150</td>\n",
       "      <td>108.849</td>\n",
       "    </tr>\n",
       "    <tr>\n",
       "      <th>21</th>\n",
       "      <td>2017Q4</td>\n",
       "      <td>29870</td>\n",
       "      <td>108.943</td>\n",
       "    </tr>\n",
       "    <tr>\n",
       "      <th>22</th>\n",
       "      <td>2018Q1</td>\n",
       "      <td>29980</td>\n",
       "      <td>109.050</td>\n",
       "    </tr>\n",
       "  </tbody>\n",
       "</table>\n",
       "</div>"
      ],
      "text/plain": [
       "      Date  Tesla Production  Real Output per Hour\n",
       "18  2017Q1             25000               107.683\n",
       "19  2017Q2             22000               108.142\n",
       "20  2017Q3             26150               108.849\n",
       "21  2017Q4             29870               108.943\n",
       "22  2018Q1             29980               109.050"
      ]
     },
     "execution_count": 6,
     "metadata": {},
     "output_type": "execute_result"
    }
   ],
   "source": [
    "df.tail()"
   ]
  },
  {
   "cell_type": "markdown",
   "metadata": {},
   "source": [
    "## Head and Tail\n",
    "Now that the data is held within a dataframe, I can have an initial peruse of the information present within it. Given that I picked out the data myself I have already seen the data, but in case I have forgotten!\n",
    "\n",
    "From this it's clear the **Date** column is in Quarter format, starting in 2012Q3 and ending in 2018Q1. \n",
    "**Tesla Production** and **Real Output per Hour** are both numeric data types as Ratio and Index respecitvely.\n",
    "***"
   ]
  },
  {
   "cell_type": "code",
   "execution_count": 91,
   "metadata": {
    "scrolled": false
   },
   "outputs": [
    {
     "data": {
      "text/html": [
       "<div>\n",
       "<style scoped>\n",
       "    .dataframe tbody tr th:only-of-type {\n",
       "        vertical-align: middle;\n",
       "    }\n",
       "\n",
       "    .dataframe tbody tr th {\n",
       "        vertical-align: top;\n",
       "    }\n",
       "\n",
       "    .dataframe thead th {\n",
       "        text-align: right;\n",
       "    }\n",
       "</style>\n",
       "<table border=\"1\" class=\"dataframe\">\n",
       "  <thead>\n",
       "    <tr style=\"text-align: right;\">\n",
       "      <th></th>\n",
       "      <th>Tesla Production</th>\n",
       "      <th>Real Output per Hour</th>\n",
       "    </tr>\n",
       "  </thead>\n",
       "  <tbody>\n",
       "    <tr>\n",
       "      <th>count</th>\n",
       "      <td>23.000000</td>\n",
       "      <td>23.000000</td>\n",
       "    </tr>\n",
       "    <tr>\n",
       "      <th>mean</th>\n",
       "      <td>13925.130435</td>\n",
       "      <td>106.461478</td>\n",
       "    </tr>\n",
       "    <tr>\n",
       "      <th>std</th>\n",
       "      <td>9136.266914</td>\n",
       "      <td>1.573489</td>\n",
       "    </tr>\n",
       "    <tr>\n",
       "      <th>min</th>\n",
       "      <td>321.000000</td>\n",
       "      <td>104.059000</td>\n",
       "    </tr>\n",
       "    <tr>\n",
       "      <th>25%</th>\n",
       "      <td>6674.500000</td>\n",
       "      <td>105.108500</td>\n",
       "    </tr>\n",
       "    <tr>\n",
       "      <th>50%</th>\n",
       "      <td>11507.000000</td>\n",
       "      <td>106.668000</td>\n",
       "    </tr>\n",
       "    <tr>\n",
       "      <th>75%</th>\n",
       "      <td>22100.000000</td>\n",
       "      <td>107.523500</td>\n",
       "    </tr>\n",
       "    <tr>\n",
       "      <th>max</th>\n",
       "      <td>29980.000000</td>\n",
       "      <td>109.050000</td>\n",
       "    </tr>\n",
       "  </tbody>\n",
       "</table>\n",
       "</div>"
      ],
      "text/plain": [
       "       Tesla Production  Real Output per Hour\n",
       "count         23.000000             23.000000\n",
       "mean       13925.130435            106.461478\n",
       "std         9136.266914              1.573489\n",
       "min          321.000000            104.059000\n",
       "25%         6674.500000            105.108500\n",
       "50%        11507.000000            106.668000\n",
       "75%        22100.000000            107.523500\n",
       "max        29980.000000            109.050000"
      ]
     },
     "execution_count": 91,
     "metadata": {},
     "output_type": "execute_result"
    }
   ],
   "source": [
    "df.describe()"
   ]
  },
  {
   "cell_type": "markdown",
   "metadata": {},
   "source": [
    "## Quick Descriptive Statistics\n",
    "With this simplistic data, only cursory descriptive statistics need to be sought, as they're: \n",
    "* Few in number, no need to sample from the collected data\n",
    "* Scalar in values, not categorical or ordinal\n",
    "\n",
    "Even though we don't need to sample, it's best to remember that this is still assumed to be a representative sample of the true distributions of each individual dataset.\n",
    "\n",
    "From this table, we can see that **Tesla Prodcution** handles larger observations than **Real Output per Hour** in all measures. This will become important later when trying to visualize this data, due to the need for multiple axis to plot against.\n",
    "Inline with this initial observation, **Tesla Production** has a much larger standard deviation and spread when compared to **Real Output per Hour**.\n",
    "Both series exhibit a positive growth pattern across time, so are likely to be correlated to some degree.\n",
    "\n",
    "It should be noted that the 50th Percentile (**50%**) marker here is equivalent to the median value of both series respectively.\n",
    "***"
   ]
  },
  {
   "cell_type": "code",
   "execution_count": 88,
   "metadata": {},
   "outputs": [
    {
     "data": {
      "application/vnd.plotly.v1+json": {
       "data": [
        {
         "marker": {
          "color": "#1b073a"
         },
         "name": "Tesla Production",
         "type": "box",
         "y": [
          321,
          2400,
          4900,
          5150,
          5500,
          6892,
          6457,
          7579,
          7785,
          9834,
          10030,
          11507,
          11580,
          17478,
          14820,
          18345,
          24500,
          22200,
          25000,
          22000,
          26150,
          29870,
          29980
         ]
        },
        {
         "marker": {
          "color": "#ff0074"
         },
         "name": "Real Output per Hour",
         "type": "box",
         "y": [
          104.50299999999999,
          104.059,
          104.304,
          104.147,
          104.57,
          105.634,
          104.78200000000001,
          105.435,
          106.53,
          105.977,
          106.762,
          107.11200000000001,
          107.429,
          106.697,
          106.415,
          106.66799999999999,
          107.305,
          107.618,
          107.68299999999999,
          108.14200000000001,
          108.84899999999999,
          108.943,
          109.05
         ]
        }
       ],
       "layout": {
        "title": "Broken Box Plots"
       }
      },
      "text/html": [
       "<div id=\"c5acf6e6-d980-4147-a714-de9294bda3db\" style=\"height: 525px; width: 100%;\" class=\"plotly-graph-div\"></div><script type=\"text/javascript\">require([\"plotly\"], function(Plotly) { window.PLOTLYENV=window.PLOTLYENV || {};window.PLOTLYENV.BASE_URL=\"https://plot.ly\";Plotly.newPlot(\"c5acf6e6-d980-4147-a714-de9294bda3db\", [{\"type\": \"box\", \"y\": [321, 2400, 4900, 5150, 5500, 6892, 6457, 7579, 7785, 9834, 10030, 11507, 11580, 17478, 14820, 18345, 24500, 22200, 25000, 22000, 26150, 29870, 29980], \"name\": \"Tesla Production\", \"marker\": {\"color\": \"#1b073a\"}}, {\"type\": \"box\", \"y\": [104.50299999999999, 104.059, 104.304, 104.147, 104.57, 105.634, 104.78200000000001, 105.435, 106.53, 105.977, 106.762, 107.11200000000001, 107.429, 106.697, 106.415, 106.66799999999999, 107.305, 107.618, 107.68299999999999, 108.14200000000001, 108.84899999999999, 108.943, 109.05], \"name\": \"Real Output per Hour\", \"marker\": {\"color\": \"#ff0074\"}}], {\"title\": \"Broken Box Plots\"}, {\"showLink\": true, \"linkText\": \"Export to plot.ly\"})});</script>"
      ],
      "text/vnd.plotly.v1+html": [
       "<div id=\"c5acf6e6-d980-4147-a714-de9294bda3db\" style=\"height: 525px; width: 100%;\" class=\"plotly-graph-div\"></div><script type=\"text/javascript\">require([\"plotly\"], function(Plotly) { window.PLOTLYENV=window.PLOTLYENV || {};window.PLOTLYENV.BASE_URL=\"https://plot.ly\";Plotly.newPlot(\"c5acf6e6-d980-4147-a714-de9294bda3db\", [{\"type\": \"box\", \"y\": [321, 2400, 4900, 5150, 5500, 6892, 6457, 7579, 7785, 9834, 10030, 11507, 11580, 17478, 14820, 18345, 24500, 22200, 25000, 22000, 26150, 29870, 29980], \"name\": \"Tesla Production\", \"marker\": {\"color\": \"#1b073a\"}}, {\"type\": \"box\", \"y\": [104.50299999999999, 104.059, 104.304, 104.147, 104.57, 105.634, 104.78200000000001, 105.435, 106.53, 105.977, 106.762, 107.11200000000001, 107.429, 106.697, 106.415, 106.66799999999999, 107.305, 107.618, 107.68299999999999, 108.14200000000001, 108.84899999999999, 108.943, 109.05], \"name\": \"Real Output per Hour\", \"marker\": {\"color\": \"#ff0074\"}}], {\"title\": \"Broken Box Plots\"}, {\"showLink\": true, \"linkText\": \"Export to plot.ly\"})});</script>"
      ]
     },
     "metadata": {},
     "output_type": "display_data"
    }
   ],
   "source": [
    "y0 = df['Tesla Production']\n",
    "y1 = df['Real Output per Hour']\n",
    "\n",
    "trace0 = go.Box(\n",
    "    y=y0,\n",
    "    name = 'Tesla Production',\n",
    "    marker = dict(\n",
    "        color = '#1b073a',\n",
    "        )\n",
    "    )\n",
    "trace1 = go.Box(\n",
    "    y=y1,\n",
    "    name = 'Real Output per Hour',\n",
    "    marker = dict(\n",
    "        color = '#ff0074',\n",
    "        )\n",
    "    )\n",
    "layout = go.Layout(\n",
    "            title = 'Broken Box Plots'\n",
    "        )\n",
    "\n",
    "data = [trace0, trace1]\n",
    "\n",
    "fig = dict(data=data, layout=layout)\n",
    "\n",
    "iplot(fig)"
   ]
  },
  {
   "cell_type": "markdown",
   "metadata": {},
   "source": [
    "## Mistakes were made ...\n",
    "In my intitial visualization (the box plot above) I assumed that the plots would be created relative to each other and without concern to their specific values.\n",
    "\n",
    "However, what is clear from the above graph is that this is a feature yet to be brought to Plotly. Instead resulting in a neatly labelled line in-place of what should have been the **Real Output per Hour** plot.\n",
    "\n",
    "This was included to hopefully warn others of following the same fate and also as a reminder for myself in future Plotly related work!\n",
    "\n",
    "P.S. if you click on the purple box in the legend, next to \"**Tesla Production**\", the **Real Output per Hour** line becomes a **Real Output per Hour** box-plot.\n",
    "\n",
    "P.S.S. potentially found a solution to this problem [**here**](https://plot.ly/python/multiple-axes/) but don't have time yet to try it!"
   ]
  },
  {
   "cell_type": "code",
   "execution_count": 103,
   "metadata": {
    "scrolled": false
   },
   "outputs": [
    {
     "data": {
      "application/vnd.plotly.v1+json": {
       "data": [
        {
         "boxpoints": "all",
         "line": {
          "width": 1.3
         },
         "marker": {
          "color": "rgba(27, 7, 58, 0.8999999999999999)"
         },
         "name": "Tesla Production",
         "orientation": "v",
         "type": "box",
         "xaxis": "x1",
         "y": [
          321,
          2400,
          4900,
          5150,
          5500,
          6892,
          6457,
          7579,
          7785,
          9834,
          10030,
          11507,
          11580,
          17478,
          14820,
          18345,
          24500,
          22200,
          25000,
          22000,
          26150,
          29870,
          29980
         ],
         "yaxis": "y2"
        },
        {
         "boxpoints": "all",
         "line": {
          "width": 1.3
         },
         "marker": {
          "color": "rgba(255, 0, 116, 0.7999999999999998)"
         },
         "name": "Real Output per Hour",
         "orientation": "v",
         "type": "box",
         "y": [
          104.50299999999999,
          104.059,
          104.304,
          104.147,
          104.57,
          105.634,
          104.78200000000001,
          105.435,
          106.53,
          105.977,
          106.762,
          107.11200000000001,
          107.429,
          106.697,
          106.415,
          106.66799999999999,
          107.305,
          107.618,
          107.68299999999999,
          108.14200000000001,
          108.84899999999999,
          108.943,
          109.05
         ]
        }
       ],
       "layout": {
        "legend": {
         "bgcolor": "#F5F6F9",
         "font": {
          "color": "#4D5663"
         }
        },
        "paper_bgcolor": "#F5F6F9",
        "plot_bgcolor": "#F5F6F9",
        "showlegend": false,
        "title": "Comparitive Box Plots",
        "titlefont": {
         "color": "#4D5663"
        },
        "xaxis1": {
         "gridcolor": "#E1E5ED",
         "showgrid": true,
         "tickfont": {
          "color": "#4D5663"
         },
         "title": "",
         "titlefont": {
          "color": "#4D5663"
         },
         "zerolinecolor": "#E1E5ED"
        },
        "yaxis2": {
         "anchor": "x1",
         "gridcolor": "#E1E5ED",
         "overlaying": "y1",
         "showgrid": true,
         "side": "right",
         "tickfont": {
          "color": "#4D5663"
         },
         "title": "Car Units Produced",
         "titlefont": {
          "color": "#4D5663"
         },
         "zerolinecolor": "#E1E5ED"
        }
       }
      },
      "text/html": [
       "<div id=\"e824844b-e41c-4555-b19d-82ad18c04b09\" style=\"height: 525px; width: 100%;\" class=\"plotly-graph-div\"></div><script type=\"text/javascript\">require([\"plotly\"], function(Plotly) { window.PLOTLYENV=window.PLOTLYENV || {};window.PLOTLYENV.BASE_URL=\"https://plot.ly\";Plotly.newPlot(\"e824844b-e41c-4555-b19d-82ad18c04b09\", [{\"type\": \"box\", \"y\": [321, 2400, 4900, 5150, 5500, 6892, 6457, 7579, 7785, 9834, 10030, 11507, 11580, 17478, 14820, 18345, 24500, 22200, 25000, 22000, 26150, 29870, 29980], \"marker\": {\"color\": \"rgba(27, 7, 58, 0.8999999999999999)\"}, \"name\": \"Tesla Production\", \"line\": {\"width\": 1.3}, \"boxpoints\": \"all\", \"orientation\": \"v\", \"xaxis\": \"x1\", \"yaxis\": \"y2\"}, {\"type\": \"box\", \"y\": [104.50299999999999, 104.059, 104.304, 104.147, 104.57, 105.634, 104.78200000000001, 105.435, 106.53, 105.977, 106.762, 107.11200000000001, 107.429, 106.697, 106.415, 106.66799999999999, 107.305, 107.618, 107.68299999999999, 108.14200000000001, 108.84899999999999, 108.943, 109.05], \"marker\": {\"color\": \"rgba(255, 0, 116, 0.7999999999999998)\"}, \"name\": \"Real Output per Hour\", \"line\": {\"width\": 1.3}, \"boxpoints\": \"all\", \"orientation\": \"v\"}], {\"legend\": {\"bgcolor\": \"#F5F6F9\", \"font\": {\"color\": \"#4D5663\"}}, \"paper_bgcolor\": \"#F5F6F9\", \"plot_bgcolor\": \"#F5F6F9\", \"xaxis1\": {\"tickfont\": {\"color\": \"#4D5663\"}, \"gridcolor\": \"#E1E5ED\", \"titlefont\": {\"color\": \"#4D5663\"}, \"zerolinecolor\": \"#E1E5ED\", \"showgrid\": true, \"title\": \"\"}, \"titlefont\": {\"color\": \"#4D5663\"}, \"title\": \"Comparitive Box Plots\", \"showlegend\": false, \"yaxis2\": {\"tickfont\": {\"color\": \"#4D5663\"}, \"gridcolor\": \"#E1E5ED\", \"titlefont\": {\"color\": \"#4D5663\"}, \"zerolinecolor\": \"#E1E5ED\", \"showgrid\": true, \"title\": \"Car Units Produced\", \"overlaying\": \"y1\", \"side\": \"right\", \"anchor\": \"x1\"}}, {\"showLink\": true, \"linkText\": \"Export to plot.ly\"})});</script>"
      ],
      "text/vnd.plotly.v1+html": [
       "<div id=\"e824844b-e41c-4555-b19d-82ad18c04b09\" style=\"height: 525px; width: 100%;\" class=\"plotly-graph-div\"></div><script type=\"text/javascript\">require([\"plotly\"], function(Plotly) { window.PLOTLYENV=window.PLOTLYENV || {};window.PLOTLYENV.BASE_URL=\"https://plot.ly\";Plotly.newPlot(\"e824844b-e41c-4555-b19d-82ad18c04b09\", [{\"type\": \"box\", \"y\": [321, 2400, 4900, 5150, 5500, 6892, 6457, 7579, 7785, 9834, 10030, 11507, 11580, 17478, 14820, 18345, 24500, 22200, 25000, 22000, 26150, 29870, 29980], \"marker\": {\"color\": \"rgba(27, 7, 58, 0.8999999999999999)\"}, \"name\": \"Tesla Production\", \"line\": {\"width\": 1.3}, \"boxpoints\": \"all\", \"orientation\": \"v\", \"xaxis\": \"x1\", \"yaxis\": \"y2\"}, {\"type\": \"box\", \"y\": [104.50299999999999, 104.059, 104.304, 104.147, 104.57, 105.634, 104.78200000000001, 105.435, 106.53, 105.977, 106.762, 107.11200000000001, 107.429, 106.697, 106.415, 106.66799999999999, 107.305, 107.618, 107.68299999999999, 108.14200000000001, 108.84899999999999, 108.943, 109.05], \"marker\": {\"color\": \"rgba(255, 0, 116, 0.7999999999999998)\"}, \"name\": \"Real Output per Hour\", \"line\": {\"width\": 1.3}, \"boxpoints\": \"all\", \"orientation\": \"v\"}], {\"legend\": {\"bgcolor\": \"#F5F6F9\", \"font\": {\"color\": \"#4D5663\"}}, \"paper_bgcolor\": \"#F5F6F9\", \"plot_bgcolor\": \"#F5F6F9\", \"xaxis1\": {\"tickfont\": {\"color\": \"#4D5663\"}, \"gridcolor\": \"#E1E5ED\", \"titlefont\": {\"color\": \"#4D5663\"}, \"zerolinecolor\": \"#E1E5ED\", \"showgrid\": true, \"title\": \"\"}, \"titlefont\": {\"color\": \"#4D5663\"}, \"title\": \"Comparitive Box Plots\", \"showlegend\": false, \"yaxis2\": {\"tickfont\": {\"color\": \"#4D5663\"}, \"gridcolor\": \"#E1E5ED\", \"titlefont\": {\"color\": \"#4D5663\"}, \"zerolinecolor\": \"#E1E5ED\", \"showgrid\": true, \"title\": \"Car Units Produced\", \"overlaying\": \"y1\", \"side\": \"right\", \"anchor\": \"x1\"}}, {\"showLink\": true, \"linkText\": \"Export to plot.ly\"})});</script>"
      ]
     },
     "metadata": {},
     "output_type": "display_data"
    }
   ],
   "source": [
    "fig0 = df.iplot(\n",
    "    columns=['Real Output per Hour'], \n",
    "    asFigure=True, \n",
    "    kind='box', \n",
    "    showlegend=False,\n",
    "    colors = ('#ff0074'),\n",
    "    boxpoints = 'all',\n",
    "    )\n",
    "fig1 = df.iplot(\n",
    "    columns=['Tesla Production'],\n",
    "    asFigure=True,\n",
    "    kind='box', \n",
    "    secondary_y=['Tesla Production'],\n",
    "    showlegend=False,\n",
    "    title='Comparitive Box Plots',\n",
    "    yTitle='Real Productivity per Hour ($)',\n",
    "    secondary_y_title = 'Car Units Produced',\n",
    "    colors = ('#1b073a'),\n",
    "    boxpoints = 'all',\n",
    ")\n",
    "\n",
    "fig1['data'].extend(fig0['data'])\n",
    "\n",
    "iplot(fig1)"
   ]
  },
  {
   "cell_type": "markdown",
   "metadata": {},
   "source": [
    "## Mistakes were corrected ...\n",
    "After my previous shenanigans with box plots, I revisited the plotly documentatin and found how to draw diagrams directly from a Dataframe with ```df.iplot```.\n",
    "This completes most of the formatting automatically and so only requried me to input the names of the datasets I desired and join them together.\n",
    "\n",
    "These echo the findings from before within the [Quick Descriptive Statistics](#quick-descriptive-statistics) section. \n",
    "It also becomes apparent within these diagrams that **Tesla Production** has a median tending towards the lower values as **Real Output per Hour** median tends toward the higher values within their respective datasets. Due to both datasets having positive sloping characteristics, it can be inferred that they have outliers at the upper-end and lower-end of their distributions respectively.\n",
    "***"
   ]
  },
  {
   "cell_type": "code",
   "execution_count": 131,
   "metadata": {
    "scrolled": false
   },
   "outputs": [
    {
     "data": {
      "application/vnd.plotly.v1+json": {
       "data": [
        {
         "histfunc": "count",
         "histnorm": "probability",
         "marker": {
          "color": "#1b073a",
          "line": {
           "color": "#4D5663",
           "width": 1.3
          }
         },
         "name": "Tesla Production",
         "nbinsx": 6,
         "opacity": 0.8,
         "orientation": "v",
         "type": "histogram",
         "x": [
          321,
          2400,
          4900,
          5150,
          5500,
          6892,
          6457,
          7579,
          7785,
          9834,
          10030,
          11507,
          11580,
          17478,
          14820,
          18345,
          24500,
          22200,
          25000,
          22000,
          26150,
          29870,
          29980
         ],
         "xaxis": "x1",
         "yaxis": "y1"
        },
        {
         "histfunc": "count",
         "histnorm": "probability",
         "marker": {
          "color": "#ff0074",
          "line": {
           "color": "#4D5663",
           "width": 1.3
          }
         },
         "name": "Real Output per Hour",
         "nbinsx": 6,
         "opacity": 0.8,
         "orientation": "v",
         "type": "histogram",
         "x": [
          104.50299999999999,
          104.059,
          104.304,
          104.147,
          104.57,
          105.634,
          104.78200000000001,
          105.435,
          106.53,
          105.977,
          106.762,
          107.11200000000001,
          107.429,
          106.697,
          106.415,
          106.66799999999999,
          107.305,
          107.618,
          107.68299999999999,
          108.14200000000001,
          108.84899999999999,
          108.943,
          109.05
         ],
         "xaxis": "x2",
         "yaxis": "y2"
        }
       ],
       "layout": {
        "annotations": [
         {
          "font": {
           "size": 16
          },
          "showarrow": false,
          "text": "Tesla Production",
          "x": 0.5,
          "xanchor": "center",
          "xref": "paper",
          "y": 1,
          "yanchor": "bottom",
          "yref": "paper"
         },
         {
          "font": {
           "size": 16
          },
          "showarrow": false,
          "text": "Real Output per Hour",
          "x": 0.5,
          "xanchor": "center",
          "xref": "paper",
          "y": 0.375,
          "yanchor": "bottom",
          "yref": "paper"
         }
        ],
        "barmode": "overlay",
        "legend": {
         "bgcolor": "#F5F6F9",
         "font": {
          "color": "#4D5663"
         }
        },
        "paper_bgcolor": "#F5F6F9",
        "plot_bgcolor": "#F5F6F9",
        "showlegend": true,
        "title": "Distributions",
        "titlefont": {
         "color": "#4D5663"
        },
        "xaxis1": {
         "anchor": "y1",
         "domain": [
          0,
          1
         ],
         "gridcolor": "#E1E5ED",
         "showgrid": true,
         "tickfont": {
          "color": "#4D5663"
         },
         "title": "",
         "titlefont": {
          "color": "#4D5663"
         },
         "zerolinecolor": "#E1E5ED"
        },
        "xaxis2": {
         "anchor": "y2",
         "domain": [
          0,
          1
         ]
        },
        "yaxis1": {
         "anchor": "x1",
         "domain": [
          0.625,
          1
         ],
         "gridcolor": "#E1E5ED",
         "showgrid": true,
         "tickfont": {
          "color": "#4D5663"
         },
         "title": "Frequency",
         "titlefont": {
          "color": "#4D5663"
         },
         "zerolinecolor": "#E1E5ED"
        },
        "yaxis2": {
         "anchor": "x2",
         "domain": [
          0,
          0.375
         ]
        }
       }
      },
      "text/html": [
       "<div id=\"7000edac-e0e7-46da-8bf9-c53b57ea9e27\" style=\"height: 525px; width: 100%;\" class=\"plotly-graph-div\"></div><script type=\"text/javascript\">require([\"plotly\"], function(Plotly) { window.PLOTLYENV=window.PLOTLYENV || {};window.PLOTLYENV.BASE_URL=\"https://plot.ly\";Plotly.newPlot(\"7000edac-e0e7-46da-8bf9-c53b57ea9e27\", [{\"type\": \"histogram\", \"x\": [321, 2400, 4900, 5150, 5500, 6892, 6457, 7579, 7785, 9834, 10030, 11507, 11580, 17478, 14820, 18345, 24500, 22200, 25000, 22000, 26150, 29870, 29980], \"name\": \"Tesla Production\", \"marker\": {\"color\": \"#1b073a\", \"line\": {\"width\": 1.3, \"color\": \"#4D5663\"}}, \"orientation\": \"v\", \"opacity\": 0.8, \"histfunc\": \"count\", \"histnorm\": \"probability\", \"nbinsx\": 6, \"xaxis\": \"x1\", \"yaxis\": \"y1\"}, {\"type\": \"histogram\", \"x\": [104.50299999999999, 104.059, 104.304, 104.147, 104.57, 105.634, 104.78200000000001, 105.435, 106.53, 105.977, 106.762, 107.11200000000001, 107.429, 106.697, 106.415, 106.66799999999999, 107.305, 107.618, 107.68299999999999, 108.14200000000001, 108.84899999999999, 108.943, 109.05], \"name\": \"Real Output per Hour\", \"marker\": {\"color\": \"#ff0074\", \"line\": {\"width\": 1.3, \"color\": \"#4D5663\"}}, \"orientation\": \"v\", \"opacity\": 0.8, \"histfunc\": \"count\", \"histnorm\": \"probability\", \"nbinsx\": 6, \"xaxis\": \"x2\", \"yaxis\": \"y2\"}], {\"xaxis1\": {\"domain\": [0.0, 1.0], \"anchor\": \"y1\", \"tickfont\": {\"color\": \"#4D5663\"}, \"gridcolor\": \"#E1E5ED\", \"titlefont\": {\"color\": \"#4D5663\"}, \"zerolinecolor\": \"#E1E5ED\", \"showgrid\": true, \"title\": \"\"}, \"yaxis1\": {\"domain\": [0.625, 1.0], \"anchor\": \"x1\", \"tickfont\": {\"color\": \"#4D5663\"}, \"gridcolor\": \"#E1E5ED\", \"titlefont\": {\"color\": \"#4D5663\"}, \"zerolinecolor\": \"#E1E5ED\", \"showgrid\": true, \"title\": \"Frequency\"}, \"xaxis2\": {\"domain\": [0.0, 1.0], \"anchor\": \"y2\"}, \"yaxis2\": {\"domain\": [0.0, 0.375], \"anchor\": \"x2\"}, \"annotations\": [{\"y\": 1.0, \"xref\": \"paper\", \"x\": 0.5, \"yref\": \"paper\", \"text\": \"Tesla Production\", \"showarrow\": false, \"font\": {\"size\": 16}, \"xanchor\": \"center\", \"yanchor\": \"bottom\"}, {\"y\": 0.375, \"xref\": \"paper\", \"x\": 0.5, \"yref\": \"paper\", \"text\": \"Real Output per Hour\", \"showarrow\": false, \"font\": {\"size\": 16}, \"xanchor\": \"center\", \"yanchor\": \"bottom\"}], \"legend\": {\"bgcolor\": \"#F5F6F9\", \"font\": {\"color\": \"#4D5663\"}}, \"paper_bgcolor\": \"#F5F6F9\", \"plot_bgcolor\": \"#F5F6F9\", \"titlefont\": {\"color\": \"#4D5663\"}, \"title\": \"Distributions\", \"showlegend\": true, \"barmode\": \"overlay\"}, {\"showLink\": true, \"linkText\": \"Export to plot.ly\"})});</script>"
      ],
      "text/vnd.plotly.v1+html": [
       "<div id=\"7000edac-e0e7-46da-8bf9-c53b57ea9e27\" style=\"height: 525px; width: 100%;\" class=\"plotly-graph-div\"></div><script type=\"text/javascript\">require([\"plotly\"], function(Plotly) { window.PLOTLYENV=window.PLOTLYENV || {};window.PLOTLYENV.BASE_URL=\"https://plot.ly\";Plotly.newPlot(\"7000edac-e0e7-46da-8bf9-c53b57ea9e27\", [{\"type\": \"histogram\", \"x\": [321, 2400, 4900, 5150, 5500, 6892, 6457, 7579, 7785, 9834, 10030, 11507, 11580, 17478, 14820, 18345, 24500, 22200, 25000, 22000, 26150, 29870, 29980], \"name\": \"Tesla Production\", \"marker\": {\"color\": \"#1b073a\", \"line\": {\"width\": 1.3, \"color\": \"#4D5663\"}}, \"orientation\": \"v\", \"opacity\": 0.8, \"histfunc\": \"count\", \"histnorm\": \"probability\", \"nbinsx\": 6, \"xaxis\": \"x1\", \"yaxis\": \"y1\"}, {\"type\": \"histogram\", \"x\": [104.50299999999999, 104.059, 104.304, 104.147, 104.57, 105.634, 104.78200000000001, 105.435, 106.53, 105.977, 106.762, 107.11200000000001, 107.429, 106.697, 106.415, 106.66799999999999, 107.305, 107.618, 107.68299999999999, 108.14200000000001, 108.84899999999999, 108.943, 109.05], \"name\": \"Real Output per Hour\", \"marker\": {\"color\": \"#ff0074\", \"line\": {\"width\": 1.3, \"color\": \"#4D5663\"}}, \"orientation\": \"v\", \"opacity\": 0.8, \"histfunc\": \"count\", \"histnorm\": \"probability\", \"nbinsx\": 6, \"xaxis\": \"x2\", \"yaxis\": \"y2\"}], {\"xaxis1\": {\"domain\": [0.0, 1.0], \"anchor\": \"y1\", \"tickfont\": {\"color\": \"#4D5663\"}, \"gridcolor\": \"#E1E5ED\", \"titlefont\": {\"color\": \"#4D5663\"}, \"zerolinecolor\": \"#E1E5ED\", \"showgrid\": true, \"title\": \"\"}, \"yaxis1\": {\"domain\": [0.625, 1.0], \"anchor\": \"x1\", \"tickfont\": {\"color\": \"#4D5663\"}, \"gridcolor\": \"#E1E5ED\", \"titlefont\": {\"color\": \"#4D5663\"}, \"zerolinecolor\": \"#E1E5ED\", \"showgrid\": true, \"title\": \"Frequency\"}, \"xaxis2\": {\"domain\": [0.0, 1.0], \"anchor\": \"y2\"}, \"yaxis2\": {\"domain\": [0.0, 0.375], \"anchor\": \"x2\"}, \"annotations\": [{\"y\": 1.0, \"xref\": \"paper\", \"x\": 0.5, \"yref\": \"paper\", \"text\": \"Tesla Production\", \"showarrow\": false, \"font\": {\"size\": 16}, \"xanchor\": \"center\", \"yanchor\": \"bottom\"}, {\"y\": 0.375, \"xref\": \"paper\", \"x\": 0.5, \"yref\": \"paper\", \"text\": \"Real Output per Hour\", \"showarrow\": false, \"font\": {\"size\": 16}, \"xanchor\": \"center\", \"yanchor\": \"bottom\"}], \"legend\": {\"bgcolor\": \"#F5F6F9\", \"font\": {\"color\": \"#4D5663\"}}, \"paper_bgcolor\": \"#F5F6F9\", \"plot_bgcolor\": \"#F5F6F9\", \"titlefont\": {\"color\": \"#4D5663\"}, \"title\": \"Distributions\", \"showlegend\": true, \"barmode\": \"overlay\"}, {\"showLink\": true, \"linkText\": \"Export to plot.ly\"})});</script>"
      ]
     },
     "metadata": {},
     "output_type": "display_data"
    }
   ],
   "source": [
    "fig0 = df.iplot(\n",
    "    columns=['Tesla Production','Real Output per Hour'], \n",
    "    asFigure=True, \n",
    "    kind='histogram', \n",
    "    showlegend=True,\n",
    "    colors = {'Real Output per Hour':'#ff0074',\n",
    "              'Tesla Production':'#1b073a'},\n",
    "    title='Distributions',\n",
    "    yTitle='Frequency',\n",
    "    histnorm='probability',\n",
    "    subplots=True,\n",
    "    shape=(2,1),\n",
    "    subplot_titles = True,\n",
    "    bins=6\n",
    "    )\n",
    "\n",
    "iplot(fig0)"
   ]
  },
  {
   "cell_type": "markdown",
   "metadata": {},
   "source": [
    "## Distributions\n",
    "Above **Tesla Production** and **Real Output per Hour** are shown as distributions on their respective graphs. This re-iterates the previously stated gaps between their *mean* and *median* values.\n",
    "\n",
    "It also emphasizes the clustering of observations at the lower end of both datasets, which is a characteristic that will need to be accomodated for within later statistical modelling.\n",
    "***"
   ]
  },
  {
   "cell_type": "code",
   "execution_count": 136,
   "metadata": {},
   "outputs": [
    {
     "data": {
      "application/vnd.plotly.v1+json": {
       "data": [
        {
         "line": {
          "color": "#1b073a",
          "dash": "solid",
          "shape": "linear",
          "width": 1.3
         },
         "mode": "lines",
         "name": "Tesla Production",
         "text": "",
         "type": "scatter",
         "x": [
          "2012Q3",
          "2012Q4",
          "2013Q1",
          "2013Q2",
          "2013Q3",
          "2013Q4",
          "2014Q1",
          "2014Q2",
          "2014Q3",
          "2014Q4",
          "2015Q1",
          "2015Q2",
          "2015Q3",
          "2015Q4",
          "2016Q1",
          "2016Q2",
          "2016Q3",
          "2016Q4",
          "2017Q1",
          "2017Q2",
          "2017Q3",
          "2017Q4",
          "2018Q1"
         ],
         "xaxis": "x1",
         "y": [
          321,
          2400,
          4900,
          5150,
          5500,
          6892,
          6457,
          7579,
          7785,
          9834,
          10030,
          11507,
          11580,
          17478,
          14820,
          18345,
          24500,
          22200,
          25000,
          22000,
          26150,
          29870,
          29980
         ],
         "yaxis": "y1"
        },
        {
         "line": {
          "color": "#ff0074",
          "dash": "solid",
          "shape": "linear",
          "width": 1.3
         },
         "mode": "lines",
         "name": "Real Output per Hour",
         "text": "",
         "type": "scatter",
         "x": [
          "2012Q3",
          "2012Q4",
          "2013Q1",
          "2013Q2",
          "2013Q3",
          "2013Q4",
          "2014Q1",
          "2014Q2",
          "2014Q3",
          "2014Q4",
          "2015Q1",
          "2015Q2",
          "2015Q3",
          "2015Q4",
          "2016Q1",
          "2016Q2",
          "2016Q3",
          "2016Q4",
          "2017Q1",
          "2017Q2",
          "2017Q3",
          "2017Q4",
          "2018Q1"
         ],
         "xaxis": "x2",
         "y": [
          104.50299999999999,
          104.059,
          104.304,
          104.147,
          104.57,
          105.634,
          104.78200000000001,
          105.435,
          106.53,
          105.977,
          106.762,
          107.11200000000001,
          107.429,
          106.697,
          106.415,
          106.66799999999999,
          107.305,
          107.618,
          107.68299999999999,
          108.14200000000001,
          108.84899999999999,
          108.943,
          109.05
         ],
         "yaxis": "y2"
        }
       ],
       "layout": {
        "annotations": [
         {
          "font": {
           "size": 16
          },
          "showarrow": false,
          "text": "Tesla Production",
          "x": 0.5,
          "xanchor": "center",
          "xref": "paper",
          "y": 1,
          "yanchor": "bottom",
          "yref": "paper"
         },
         {
          "font": {
           "size": 16
          },
          "showarrow": false,
          "text": "Real Output per Hour",
          "x": 0.5,
          "xanchor": "center",
          "xref": "paper",
          "y": 0.375,
          "yanchor": "bottom",
          "yref": "paper"
         }
        ],
        "legend": {
         "bgcolor": "#F5F6F9",
         "font": {
          "color": "#4D5663"
         }
        },
        "paper_bgcolor": "#F5F6F9",
        "plot_bgcolor": "#F5F6F9",
        "showlegend": false,
        "title": "Distributions",
        "titlefont": {
         "color": "#4D5663"
        },
        "xaxis1": {
         "anchor": "y1",
         "domain": [
          0,
          1
         ],
         "gridcolor": "#E1E5ED",
         "showgrid": true,
         "tickfont": {
          "color": "#4D5663"
         },
         "title": "",
         "titlefont": {
          "color": "#4D5663"
         },
         "zerolinecolor": "#E1E5ED"
        },
        "xaxis2": {
         "anchor": "y2",
         "domain": [
          0,
          1
         ]
        },
        "yaxis1": {
         "anchor": "x1",
         "domain": [
          0.625,
          1
         ],
         "gridcolor": "#E1E5ED",
         "showgrid": true,
         "tickfont": {
          "color": "#4D5663"
         },
         "title": "Frequency",
         "titlefont": {
          "color": "#4D5663"
         },
         "zerolinecolor": "#E1E5ED"
        },
        "yaxis2": {
         "anchor": "x2",
         "domain": [
          0,
          0.375
         ]
        }
       }
      },
      "text/html": [
       "<div id=\"c1d49623-b1ee-4895-be2a-dfa1053f754b\" style=\"height: 525px; width: 100%;\" class=\"plotly-graph-div\"></div><script type=\"text/javascript\">require([\"plotly\"], function(Plotly) { window.PLOTLYENV=window.PLOTLYENV || {};window.PLOTLYENV.BASE_URL=\"https://plot.ly\";Plotly.newPlot(\"c1d49623-b1ee-4895-be2a-dfa1053f754b\", [{\"type\": \"scatter\", \"x\": [\"2012Q3\", \"2012Q4\", \"2013Q1\", \"2013Q2\", \"2013Q3\", \"2013Q4\", \"2014Q1\", \"2014Q2\", \"2014Q3\", \"2014Q4\", \"2015Q1\", \"2015Q2\", \"2015Q3\", \"2015Q4\", \"2016Q1\", \"2016Q2\", \"2016Q3\", \"2016Q4\", \"2017Q1\", \"2017Q2\", \"2017Q3\", \"2017Q4\", \"2018Q1\"], \"y\": [321, 2400, 4900, 5150, 5500, 6892, 6457, 7579, 7785, 9834, 10030, 11507, 11580, 17478, 14820, 18345, 24500, 22200, 25000, 22000, 26150, 29870, 29980], \"name\": \"Tesla Production\", \"text\": \"\", \"line\": {\"color\": \"#1b073a\", \"width\": 1.3, \"dash\": \"solid\", \"shape\": \"linear\"}, \"mode\": \"lines\", \"xaxis\": \"x1\", \"yaxis\": \"y1\"}, {\"type\": \"scatter\", \"x\": [\"2012Q3\", \"2012Q4\", \"2013Q1\", \"2013Q2\", \"2013Q3\", \"2013Q4\", \"2014Q1\", \"2014Q2\", \"2014Q3\", \"2014Q4\", \"2015Q1\", \"2015Q2\", \"2015Q3\", \"2015Q4\", \"2016Q1\", \"2016Q2\", \"2016Q3\", \"2016Q4\", \"2017Q1\", \"2017Q2\", \"2017Q3\", \"2017Q4\", \"2018Q1\"], \"y\": [104.50299999999999, 104.059, 104.304, 104.147, 104.57, 105.634, 104.78200000000001, 105.435, 106.53, 105.977, 106.762, 107.11200000000001, 107.429, 106.697, 106.415, 106.66799999999999, 107.305, 107.618, 107.68299999999999, 108.14200000000001, 108.84899999999999, 108.943, 109.05], \"name\": \"Real Output per Hour\", \"text\": \"\", \"line\": {\"color\": \"#ff0074\", \"width\": 1.3, \"dash\": \"solid\", \"shape\": \"linear\"}, \"mode\": \"lines\", \"xaxis\": \"x2\", \"yaxis\": \"y2\"}], {\"xaxis1\": {\"domain\": [0.0, 1.0], \"anchor\": \"y1\", \"tickfont\": {\"color\": \"#4D5663\"}, \"gridcolor\": \"#E1E5ED\", \"titlefont\": {\"color\": \"#4D5663\"}, \"zerolinecolor\": \"#E1E5ED\", \"showgrid\": true, \"title\": \"\"}, \"yaxis1\": {\"domain\": [0.625, 1.0], \"anchor\": \"x1\", \"tickfont\": {\"color\": \"#4D5663\"}, \"gridcolor\": \"#E1E5ED\", \"titlefont\": {\"color\": \"#4D5663\"}, \"zerolinecolor\": \"#E1E5ED\", \"showgrid\": true, \"title\": \"Frequency\"}, \"xaxis2\": {\"domain\": [0.0, 1.0], \"anchor\": \"y2\"}, \"yaxis2\": {\"domain\": [0.0, 0.375], \"anchor\": \"x2\"}, \"annotations\": [{\"y\": 1.0, \"xref\": \"paper\", \"x\": 0.5, \"yref\": \"paper\", \"text\": \"Tesla Production\", \"showarrow\": false, \"font\": {\"size\": 16}, \"xanchor\": \"center\", \"yanchor\": \"bottom\"}, {\"y\": 0.375, \"xref\": \"paper\", \"x\": 0.5, \"yref\": \"paper\", \"text\": \"Real Output per Hour\", \"showarrow\": false, \"font\": {\"size\": 16}, \"xanchor\": \"center\", \"yanchor\": \"bottom\"}], \"legend\": {\"bgcolor\": \"#F5F6F9\", \"font\": {\"color\": \"#4D5663\"}}, \"paper_bgcolor\": \"#F5F6F9\", \"plot_bgcolor\": \"#F5F6F9\", \"titlefont\": {\"color\": \"#4D5663\"}, \"title\": \"Distributions\", \"showlegend\": false}, {\"showLink\": true, \"linkText\": \"Export to plot.ly\"})});</script>"
      ],
      "text/vnd.plotly.v1+html": [
       "<div id=\"c1d49623-b1ee-4895-be2a-dfa1053f754b\" style=\"height: 525px; width: 100%;\" class=\"plotly-graph-div\"></div><script type=\"text/javascript\">require([\"plotly\"], function(Plotly) { window.PLOTLYENV=window.PLOTLYENV || {};window.PLOTLYENV.BASE_URL=\"https://plot.ly\";Plotly.newPlot(\"c1d49623-b1ee-4895-be2a-dfa1053f754b\", [{\"type\": \"scatter\", \"x\": [\"2012Q3\", \"2012Q4\", \"2013Q1\", \"2013Q2\", \"2013Q3\", \"2013Q4\", \"2014Q1\", \"2014Q2\", \"2014Q3\", \"2014Q4\", \"2015Q1\", \"2015Q2\", \"2015Q3\", \"2015Q4\", \"2016Q1\", \"2016Q2\", \"2016Q3\", \"2016Q4\", \"2017Q1\", \"2017Q2\", \"2017Q3\", \"2017Q4\", \"2018Q1\"], \"y\": [321, 2400, 4900, 5150, 5500, 6892, 6457, 7579, 7785, 9834, 10030, 11507, 11580, 17478, 14820, 18345, 24500, 22200, 25000, 22000, 26150, 29870, 29980], \"name\": \"Tesla Production\", \"text\": \"\", \"line\": {\"color\": \"#1b073a\", \"width\": 1.3, \"dash\": \"solid\", \"shape\": \"linear\"}, \"mode\": \"lines\", \"xaxis\": \"x1\", \"yaxis\": \"y1\"}, {\"type\": \"scatter\", \"x\": [\"2012Q3\", \"2012Q4\", \"2013Q1\", \"2013Q2\", \"2013Q3\", \"2013Q4\", \"2014Q1\", \"2014Q2\", \"2014Q3\", \"2014Q4\", \"2015Q1\", \"2015Q2\", \"2015Q3\", \"2015Q4\", \"2016Q1\", \"2016Q2\", \"2016Q3\", \"2016Q4\", \"2017Q1\", \"2017Q2\", \"2017Q3\", \"2017Q4\", \"2018Q1\"], \"y\": [104.50299999999999, 104.059, 104.304, 104.147, 104.57, 105.634, 104.78200000000001, 105.435, 106.53, 105.977, 106.762, 107.11200000000001, 107.429, 106.697, 106.415, 106.66799999999999, 107.305, 107.618, 107.68299999999999, 108.14200000000001, 108.84899999999999, 108.943, 109.05], \"name\": \"Real Output per Hour\", \"text\": \"\", \"line\": {\"color\": \"#ff0074\", \"width\": 1.3, \"dash\": \"solid\", \"shape\": \"linear\"}, \"mode\": \"lines\", \"xaxis\": \"x2\", \"yaxis\": \"y2\"}], {\"xaxis1\": {\"domain\": [0.0, 1.0], \"anchor\": \"y1\", \"tickfont\": {\"color\": \"#4D5663\"}, \"gridcolor\": \"#E1E5ED\", \"titlefont\": {\"color\": \"#4D5663\"}, \"zerolinecolor\": \"#E1E5ED\", \"showgrid\": true, \"title\": \"\"}, \"yaxis1\": {\"domain\": [0.625, 1.0], \"anchor\": \"x1\", \"tickfont\": {\"color\": \"#4D5663\"}, \"gridcolor\": \"#E1E5ED\", \"titlefont\": {\"color\": \"#4D5663\"}, \"zerolinecolor\": \"#E1E5ED\", \"showgrid\": true, \"title\": \"Frequency\"}, \"xaxis2\": {\"domain\": [0.0, 1.0], \"anchor\": \"y2\"}, \"yaxis2\": {\"domain\": [0.0, 0.375], \"anchor\": \"x2\"}, \"annotations\": [{\"y\": 1.0, \"xref\": \"paper\", \"x\": 0.5, \"yref\": \"paper\", \"text\": \"Tesla Production\", \"showarrow\": false, \"font\": {\"size\": 16}, \"xanchor\": \"center\", \"yanchor\": \"bottom\"}, {\"y\": 0.375, \"xref\": \"paper\", \"x\": 0.5, \"yref\": \"paper\", \"text\": \"Real Output per Hour\", \"showarrow\": false, \"font\": {\"size\": 16}, \"xanchor\": \"center\", \"yanchor\": \"bottom\"}], \"legend\": {\"bgcolor\": \"#F5F6F9\", \"font\": {\"color\": \"#4D5663\"}}, \"paper_bgcolor\": \"#F5F6F9\", \"plot_bgcolor\": \"#F5F6F9\", \"titlefont\": {\"color\": \"#4D5663\"}, \"title\": \"Distributions\", \"showlegend\": false}, {\"showLink\": true, \"linkText\": \"Export to plot.ly\"})});</script>"
      ]
     },
     "metadata": {},
     "output_type": "display_data"
    }
   ],
   "source": [
    "fig0 = df.iplot(\n",
    "    columns=['Tesla Production','Real Output per Hour'], \n",
    "    asFigure=True, \n",
    "    kind='scatter', \n",
    "    showlegend=False,\n",
    "    colors = {'Real Output per Hour':'#ff0074',\n",
    "              'Tesla Production':'#1b073a'},\n",
    "    title='Distributions',\n",
    "    yTitle='Frequency',\n",
    "    subplots=True,\n",
    "    shape=(2,1),\n",
    "    subplot_titles = True,\n",
    "    x='Date'\n",
    "    )\n",
    "\n",
    "iplot(fig0)"
   ]
  },
  {
   "cell_type": "markdown",
   "metadata": {},
   "source": [
    "## Scatter Graphs\n",
    "These highlight the periods of flux and calm in both series being at opposite ends of the time line. \n",
    "\n",
    "Furthermore, it highlights the larger growth of the **Tesla Production** in comparison to **Real Output per Hour**, sitting at ~9330% and ~4.3% respectively. The datas peaks and troughs also become highlighted at this point.\n",
    "***"
   ]
  },
  {
   "cell_type": "code",
   "execution_count": 133,
   "metadata": {},
   "outputs": [
    {
     "data": {
      "application/vnd.plotly.v1+json": {
       "data": [
        {
         "line": {
          "color": "rgba(27, 7, 58, 1.0)",
          "dash": "solid",
          "shape": "linear",
          "width": 1.3
         },
         "mode": "lines",
         "name": "Tesla Production",
         "text": "",
         "type": "scatter",
         "x": [
          "2012Q3",
          "2012Q4",
          "2013Q1",
          "2013Q2",
          "2013Q3",
          "2013Q4",
          "2014Q1",
          "2014Q2",
          "2014Q3",
          "2014Q4",
          "2015Q1",
          "2015Q2",
          "2015Q3",
          "2015Q4",
          "2016Q1",
          "2016Q2",
          "2016Q3",
          "2016Q4",
          "2017Q1",
          "2017Q2",
          "2017Q3",
          "2017Q4",
          "2018Q1"
         ],
         "xaxis": "x1",
         "y": [
          321,
          2400,
          4900,
          5150,
          5500,
          6892,
          6457,
          7579,
          7785,
          9834,
          10030,
          11507,
          11580,
          17478,
          14820,
          18345,
          24500,
          22200,
          25000,
          22000,
          26150,
          29870,
          29980
         ],
         "yaxis": "y2"
        },
        {
         "line": {
          "color": "rgba(255, 0, 116, 1.0)",
          "dash": "solid",
          "shape": "linear",
          "width": 1.3
         },
         "mode": "lines",
         "name": "Real Output per Hour",
         "text": "",
         "type": "scatter",
         "x": [
          "2012Q3",
          "2012Q4",
          "2013Q1",
          "2013Q2",
          "2013Q3",
          "2013Q4",
          "2014Q1",
          "2014Q2",
          "2014Q3",
          "2014Q4",
          "2015Q1",
          "2015Q2",
          "2015Q3",
          "2015Q4",
          "2016Q1",
          "2016Q2",
          "2016Q3",
          "2016Q4",
          "2017Q1",
          "2017Q2",
          "2017Q3",
          "2017Q4",
          "2018Q1"
         ],
         "y": [
          104.50299999999999,
          104.059,
          104.304,
          104.147,
          104.57,
          105.634,
          104.78200000000001,
          105.435,
          106.53,
          105.977,
          106.762,
          107.11200000000001,
          107.429,
          106.697,
          106.415,
          106.66799999999999,
          107.305,
          107.618,
          107.68299999999999,
          108.14200000000001,
          108.84899999999999,
          108.943,
          109.05
         ]
        }
       ],
       "layout": {
        "legend": {
         "bgcolor": "#F5F6F9",
         "font": {
          "color": "#4D5663"
         }
        },
        "paper_bgcolor": "#F5F6F9",
        "plot_bgcolor": "#F5F6F9",
        "title": "Comparitive Time Series",
        "titlefont": {
         "color": "#4D5663"
        },
        "xaxis1": {
         "gridcolor": "#E1E5ED",
         "showgrid": true,
         "tickfont": {
          "color": "#4D5663"
         },
         "title": "",
         "titlefont": {
          "color": "#4D5663"
         },
         "zerolinecolor": "#E1E5ED"
        },
        "yaxis2": {
         "anchor": "x1",
         "gridcolor": "#E1E5ED",
         "overlaying": "y1",
         "showgrid": true,
         "side": "right",
         "tickfont": {
          "color": "#4D5663"
         },
         "title": "Car Units Produced",
         "titlefont": {
          "color": "#4D5663"
         },
         "zerolinecolor": "#E1E5ED"
        }
       }
      },
      "text/html": [
       "<div id=\"932c23bc-03ad-4ea0-88e5-1695fd09feac\" style=\"height: 525px; width: 100%;\" class=\"plotly-graph-div\"></div><script type=\"text/javascript\">require([\"plotly\"], function(Plotly) { window.PLOTLYENV=window.PLOTLYENV || {};window.PLOTLYENV.BASE_URL=\"https://plot.ly\";Plotly.newPlot(\"932c23bc-03ad-4ea0-88e5-1695fd09feac\", [{\"type\": \"scatter\", \"x\": [\"2012Q3\", \"2012Q4\", \"2013Q1\", \"2013Q2\", \"2013Q3\", \"2013Q4\", \"2014Q1\", \"2014Q2\", \"2014Q3\", \"2014Q4\", \"2015Q1\", \"2015Q2\", \"2015Q3\", \"2015Q4\", \"2016Q1\", \"2016Q2\", \"2016Q3\", \"2016Q4\", \"2017Q1\", \"2017Q2\", \"2017Q3\", \"2017Q4\", \"2018Q1\"], \"y\": [321, 2400, 4900, 5150, 5500, 6892, 6457, 7579, 7785, 9834, 10030, 11507, 11580, 17478, 14820, 18345, 24500, 22200, 25000, 22000, 26150, 29870, 29980], \"name\": \"Tesla Production\", \"text\": \"\", \"line\": {\"color\": \"rgba(27, 7, 58, 1.0)\", \"width\": 1.3, \"dash\": \"solid\", \"shape\": \"linear\"}, \"mode\": \"lines\", \"xaxis\": \"x1\", \"yaxis\": \"y2\"}, {\"type\": \"scatter\", \"x\": [\"2012Q3\", \"2012Q4\", \"2013Q1\", \"2013Q2\", \"2013Q3\", \"2013Q4\", \"2014Q1\", \"2014Q2\", \"2014Q3\", \"2014Q4\", \"2015Q1\", \"2015Q2\", \"2015Q3\", \"2015Q4\", \"2016Q1\", \"2016Q2\", \"2016Q3\", \"2016Q4\", \"2017Q1\", \"2017Q2\", \"2017Q3\", \"2017Q4\", \"2018Q1\"], \"y\": [104.50299999999999, 104.059, 104.304, 104.147, 104.57, 105.634, 104.78200000000001, 105.435, 106.53, 105.977, 106.762, 107.11200000000001, 107.429, 106.697, 106.415, 106.66799999999999, 107.305, 107.618, 107.68299999999999, 108.14200000000001, 108.84899999999999, 108.943, 109.05], \"name\": \"Real Output per Hour\", \"text\": \"\", \"line\": {\"color\": \"rgba(255, 0, 116, 1.0)\", \"width\": 1.3, \"dash\": \"solid\", \"shape\": \"linear\"}, \"mode\": \"lines\"}], {\"legend\": {\"bgcolor\": \"#F5F6F9\", \"font\": {\"color\": \"#4D5663\"}}, \"paper_bgcolor\": \"#F5F6F9\", \"plot_bgcolor\": \"#F5F6F9\", \"xaxis1\": {\"tickfont\": {\"color\": \"#4D5663\"}, \"gridcolor\": \"#E1E5ED\", \"titlefont\": {\"color\": \"#4D5663\"}, \"zerolinecolor\": \"#E1E5ED\", \"showgrid\": true, \"title\": \"\"}, \"titlefont\": {\"color\": \"#4D5663\"}, \"title\": \"Comparitive Time Series\", \"yaxis2\": {\"tickfont\": {\"color\": \"#4D5663\"}, \"gridcolor\": \"#E1E5ED\", \"titlefont\": {\"color\": \"#4D5663\"}, \"zerolinecolor\": \"#E1E5ED\", \"showgrid\": true, \"title\": \"Car Units Produced\", \"overlaying\": \"y1\", \"side\": \"right\", \"anchor\": \"x1\"}}, {\"showLink\": true, \"linkText\": \"Export to plot.ly\"})});</script>"
      ],
      "text/vnd.plotly.v1+html": [
       "<div id=\"932c23bc-03ad-4ea0-88e5-1695fd09feac\" style=\"height: 525px; width: 100%;\" class=\"plotly-graph-div\"></div><script type=\"text/javascript\">require([\"plotly\"], function(Plotly) { window.PLOTLYENV=window.PLOTLYENV || {};window.PLOTLYENV.BASE_URL=\"https://plot.ly\";Plotly.newPlot(\"932c23bc-03ad-4ea0-88e5-1695fd09feac\", [{\"type\": \"scatter\", \"x\": [\"2012Q3\", \"2012Q4\", \"2013Q1\", \"2013Q2\", \"2013Q3\", \"2013Q4\", \"2014Q1\", \"2014Q2\", \"2014Q3\", \"2014Q4\", \"2015Q1\", \"2015Q2\", \"2015Q3\", \"2015Q4\", \"2016Q1\", \"2016Q2\", \"2016Q3\", \"2016Q4\", \"2017Q1\", \"2017Q2\", \"2017Q3\", \"2017Q4\", \"2018Q1\"], \"y\": [321, 2400, 4900, 5150, 5500, 6892, 6457, 7579, 7785, 9834, 10030, 11507, 11580, 17478, 14820, 18345, 24500, 22200, 25000, 22000, 26150, 29870, 29980], \"name\": \"Tesla Production\", \"text\": \"\", \"line\": {\"color\": \"rgba(27, 7, 58, 1.0)\", \"width\": 1.3, \"dash\": \"solid\", \"shape\": \"linear\"}, \"mode\": \"lines\", \"xaxis\": \"x1\", \"yaxis\": \"y2\"}, {\"type\": \"scatter\", \"x\": [\"2012Q3\", \"2012Q4\", \"2013Q1\", \"2013Q2\", \"2013Q3\", \"2013Q4\", \"2014Q1\", \"2014Q2\", \"2014Q3\", \"2014Q4\", \"2015Q1\", \"2015Q2\", \"2015Q3\", \"2015Q4\", \"2016Q1\", \"2016Q2\", \"2016Q3\", \"2016Q4\", \"2017Q1\", \"2017Q2\", \"2017Q3\", \"2017Q4\", \"2018Q1\"], \"y\": [104.50299999999999, 104.059, 104.304, 104.147, 104.57, 105.634, 104.78200000000001, 105.435, 106.53, 105.977, 106.762, 107.11200000000001, 107.429, 106.697, 106.415, 106.66799999999999, 107.305, 107.618, 107.68299999999999, 108.14200000000001, 108.84899999999999, 108.943, 109.05], \"name\": \"Real Output per Hour\", \"text\": \"\", \"line\": {\"color\": \"rgba(255, 0, 116, 1.0)\", \"width\": 1.3, \"dash\": \"solid\", \"shape\": \"linear\"}, \"mode\": \"lines\"}], {\"legend\": {\"bgcolor\": \"#F5F6F9\", \"font\": {\"color\": \"#4D5663\"}}, \"paper_bgcolor\": \"#F5F6F9\", \"plot_bgcolor\": \"#F5F6F9\", \"xaxis1\": {\"tickfont\": {\"color\": \"#4D5663\"}, \"gridcolor\": \"#E1E5ED\", \"titlefont\": {\"color\": \"#4D5663\"}, \"zerolinecolor\": \"#E1E5ED\", \"showgrid\": true, \"title\": \"\"}, \"titlefont\": {\"color\": \"#4D5663\"}, \"title\": \"Comparitive Time Series\", \"yaxis2\": {\"tickfont\": {\"color\": \"#4D5663\"}, \"gridcolor\": \"#E1E5ED\", \"titlefont\": {\"color\": \"#4D5663\"}, \"zerolinecolor\": \"#E1E5ED\", \"showgrid\": true, \"title\": \"Car Units Produced\", \"overlaying\": \"y1\", \"side\": \"right\", \"anchor\": \"x1\"}}, {\"showLink\": true, \"linkText\": \"Export to plot.ly\"})});</script>"
      ]
     },
     "metadata": {},
     "output_type": "display_data"
    }
   ],
   "source": [
    "fig2 = df.iplot(\n",
    "    columns=['Real Output per Hour'], \n",
    "    asFigure=True, \n",
    "    kind='scatter', \n",
    "    showlegend=False,\n",
    "    colors = ('#ff0074'),\n",
    "    x='Date',    \n",
    "    )\n",
    "fig3 = df.iplot(\n",
    "    columns=['Tesla Production'],\n",
    "    asFigure=True,\n",
    "    kind='scatter', \n",
    "    secondary_y=['Tesla Production'],\n",
    "    title='Comparitive Time Series',\n",
    "    yTitle='Real Productivity per Hour ($)',\n",
    "    secondary_y_title = 'Car Units Produced',\n",
    "    colors = ('#1b073a'),\n",
    "    x='Date'\n",
    "    )\n",
    "\n",
    "fig3['data'].extend(fig2['data'])\n",
    "\n",
    "iplot(fig3)"
   ]
  },
  {
   "cell_type": "markdown",
   "metadata": {},
   "source": [
    "## Combined Time Series\n",
    "Further comparison between the two time series and their similarities.\n",
    "***"
   ]
  },
  {
   "cell_type": "code",
   "execution_count": 256,
   "metadata": {},
   "outputs": [
    {
     "name": "stdout",
     "output_type": "stream",
     "text": [
      "                            OLS Regression Results                            \n",
      "==============================================================================\n",
      "Dep. Variable:       Tesla Production   R-squared:                       0.835\n",
      "Model:                            OLS   Adj. R-squared:                  0.828\n",
      "Method:                 Least Squares   F-statistic:                     106.6\n",
      "Date:                Mon, 25 Jun 2018   Prob (F-statistic):           1.10e-09\n",
      "Time:                        19:53:04   Log-Likelihood:                -221.13\n",
      "No. Observations:                  23   AIC:                             446.3\n",
      "Df Residuals:                      21   BIC:                             448.5\n",
      "Df Model:                           1                                         \n",
      "Covariance Type:            nonrobust                                         \n",
      "========================================================================================\n",
      "                           coef    std err          t      P>|t|      [0.025      0.975]\n",
      "----------------------------------------------------------------------------------------\n",
      "const                -5.511e+05   5.47e+04    -10.071      0.000   -6.65e+05   -4.37e+05\n",
      "Real Output per Hour  5307.3116    513.923     10.327      0.000    4238.551    6376.073\n",
      "==============================================================================\n",
      "Omnibus:                        1.892   Durbin-Watson:                   1.034\n",
      "Prob(Omnibus):                  0.388   Jarque-Bera (JB):                1.647\n",
      "Skew:                          -0.579   Prob(JB):                        0.439\n",
      "Kurtosis:                       2.385   Cond. No.                     7.37e+03\n",
      "==============================================================================\n",
      "\n",
      "Warnings:\n",
      "[1] Standard Errors assume that the covariance matrix of the errors is correctly specified.\n",
      "[2] The condition number is large, 7.37e+03. This might indicate that there are\n",
      "strong multicollinearity or other numerical problems.\n"
     ]
    }
   ],
   "source": [
    "ROpH=sm.add_constant(df['Real Output per Hour'])\n",
    "model = sm.OLS(df['Tesla Production'],ROpH)\n",
    "results = model.fit()\n",
    "df['Fitted Values']=results.fittedvalues\n",
    "df['Residuals']=results.resid\n",
    "print(results.summary())"
   ]
  },
  {
   "cell_type": "markdown",
   "metadata": {},
   "source": [
    "## OLS Regression\n",
    "Above I utilise Ordinary Least Squares (**OLS**), a classic linear regression technique to evaluate the correlation between **Tesla Production** and **Real Output per Hour** and provide its standard statistical output. This is utilising the ```statsmodels``` package, which includes many other useful statistical tools and models.\n",
    "\n",
    "I chose OLS as it is, simple, fast and easy to interpret with regards to its output. Given the parameters of my task which I defined in my [Statistical Disclaimer](#statistical-disclaimer) I believed OLS to be a solid choice for cursory Exploratory Data Analysis. OLS does come with some caveats which I have discussed in my [Statistical Disclaimer](#statistical-disclaimer) as it tries to obey the assumptions of the **Classic Linear Regression Model**.\n",
    "\n",
    "Given the small number of observations (23) this model will be susceptible to bias in both our observed data and the residuals produced by it; since it won't be representative of the true population it's attempting to estimate.\n",
    "Inspite of this, the R-squared and adjusted R-squared value is 83.5% and 82.8% respectively, with the latter accounting for the number of dependant variables.\n",
    "The other associatted values around there of F-statistic, Prob(F-statistic), Log-Likelihood, AIC and BIC would be useful for comparing the fits of different model specifications between each other. But due to only running a single test, will be useless in this example.\n",
    "\n",
    "The **const** represents the point at which the regression line crosses the y-axis and helps to collect some of the noise from a regression. It has few practical applications for inference and is predominately included to improve model performance, which is always good to work on!\n",
    "\n",
    "The coefficient of 5307.3116 for **Tesla Production** shows that for a every 1 unit increase in **Real Output per Hour**, there would be an extra 5307.3116 Tesla Vehicles produced. This is stated with a standard error of 512.923 is one standard deviation away from the estimate of the coefficient and a t-statistic of 10.071. This value with 22 Degrees of Freedom results in the coefficient being statistically significant for > p = 0.001, which is of a confidence interval greater than 0.1%.\n",
    "\n",
    "The Skew value of -0.579 shows that the regressions peak tends towards infinity, which is intuitive in this example given the previously discussed positive growth and fluctutations. Kurtosis of 2.385 shows how much of the variance is the result of infrequent extreme variations, but has not upper limit and so cannot be inferred from directly.\n",
    "So similar to Skew, Kurtosis is best used when compared relatively to other datasets or models.\n",
    "\n",
    "Finally, the Durbin-Watson statistic is a measure of autocorrelation from the residuals of a regression. It is measured between 0 and 4, where 2 would represent no autocorrelation, 0 and 4 representing autocorrelation in their positive and negative slopes respectively. Autocorrelation was previously discussed as a potential problem in my [Statistical Disclaimer](#statistical-disclaimer) and has turned out to be true. With a value of 1.034, the resultant model has strong positive autocorrelation which will have invalidated the previious findings I discussed.\n",
    "This can be accomodated for by utilising more complex models such as **ARMA**. A **ARIMA** model may be more pertinent though as this would also help to elimate the issues with heteroskedasticity and possible unit roots.\n",
    "\n",
    "The last two commands in the output save the models **'Fitted Values'** and **'Residuals'** into my pandas dataframe with their respective column names.\n",
    "***"
   ]
  },
  {
   "cell_type": "code",
   "execution_count": 257,
   "metadata": {
    "scrolled": false
   },
   "outputs": [
    {
     "data": {
      "application/vnd.plotly.v1+json": {
       "data": [
        {
         "line": {
          "color": "#1b073a",
          "dash": "solid",
          "shape": "linear",
          "width": 1.3
         },
         "mode": "lines",
         "name": "Tesla Production",
         "text": "",
         "type": "scatter",
         "x": [
          "2012Q3",
          "2012Q4",
          "2013Q1",
          "2013Q2",
          "2013Q3",
          "2013Q4",
          "2014Q1",
          "2014Q2",
          "2014Q3",
          "2014Q4",
          "2015Q1",
          "2015Q2",
          "2015Q3",
          "2015Q4",
          "2016Q1",
          "2016Q2",
          "2016Q3",
          "2016Q4",
          "2017Q1",
          "2017Q2",
          "2017Q3",
          "2017Q4",
          "2018Q1"
         ],
         "xaxis": "x1",
         "y": [
          321,
          2400,
          4900,
          5150,
          5500,
          6892,
          6457,
          7579,
          7785,
          9834,
          10030,
          11507,
          11580,
          17478,
          14820,
          18345,
          24500,
          22200,
          25000,
          22000,
          26150,
          29870,
          29980
         ],
         "yaxis": "y1"
        },
        {
         "line": {
          "color": "#ff0074",
          "dash": "solid",
          "shape": "linear",
          "width": 1.3
         },
         "mode": "lines",
         "name": "Real Output per Hour",
         "text": "",
         "type": "scatter",
         "x": [
          "2012Q3",
          "2012Q4",
          "2013Q1",
          "2013Q2",
          "2013Q3",
          "2013Q4",
          "2014Q1",
          "2014Q2",
          "2014Q3",
          "2014Q4",
          "2015Q1",
          "2015Q2",
          "2015Q3",
          "2015Q4",
          "2016Q1",
          "2016Q2",
          "2016Q3",
          "2016Q4",
          "2017Q1",
          "2017Q2",
          "2017Q3",
          "2017Q4",
          "2018Q1"
         ],
         "xaxis": "x2",
         "y": [
          104.50299999999999,
          104.059,
          104.304,
          104.147,
          104.57,
          105.634,
          104.78200000000001,
          105.435,
          106.53,
          105.977,
          106.762,
          107.11200000000001,
          107.429,
          106.697,
          106.415,
          106.66799999999999,
          107.305,
          107.618,
          107.68299999999999,
          108.14200000000001,
          108.84899999999999,
          108.943,
          109.05
         ],
         "yaxis": "y2"
        },
        {
         "line": {
          "color": "black",
          "dash": "solid",
          "shape": "linear",
          "width": 1.3
         },
         "mode": "lines",
         "name": "Fitted Values",
         "text": "",
         "type": "scatter",
         "x": [
          "2012Q3",
          "2012Q4",
          "2013Q1",
          "2013Q2",
          "2013Q3",
          "2013Q4",
          "2014Q1",
          "2014Q2",
          "2014Q3",
          "2014Q4",
          "2015Q1",
          "2015Q2",
          "2015Q3",
          "2015Q4",
          "2016Q1",
          "2016Q2",
          "2016Q3",
          "2016Q4",
          "2017Q1",
          "2017Q2",
          "2017Q3",
          "2017Q4",
          "2018Q1"
         ],
         "xaxis": "x3",
         "y": [
          3530.8759855224052,
          1174.4296222003177,
          2474.7209713307675,
          1641.473045561579,
          3886.465864672442,
          9533.445438038907,
          5011.615930042462,
          8477.29042384727,
          14288.79665771604,
          11353.853326821583,
          15520.092955668108,
          17377.652025854448,
          19060.06981228036,
          15175.11769977631,
          13678.455820369069,
          15021.205662532244,
          18401.963170271483,
          20063.15171018103,
          20408.126966072712,
          22844.18300383154,
          26596.452325607766,
          27095.33961874363,
          27663.22196305776
         ],
         "yaxis": "y3"
        },
        {
         "line": {
          "color": "red",
          "dash": "solid",
          "shape": "linear",
          "width": 1.3
         },
         "mode": "lines",
         "name": "Residuals",
         "text": "",
         "type": "scatter",
         "x": [
          "2012Q3",
          "2012Q4",
          "2013Q1",
          "2013Q2",
          "2013Q3",
          "2013Q4",
          "2014Q1",
          "2014Q2",
          "2014Q3",
          "2014Q4",
          "2015Q1",
          "2015Q2",
          "2015Q3",
          "2015Q4",
          "2016Q1",
          "2016Q2",
          "2016Q3",
          "2016Q4",
          "2017Q1",
          "2017Q2",
          "2017Q3",
          "2017Q4",
          "2018Q1"
         ],
         "xaxis": "x4",
         "y": [
          -3209.8759855224052,
          1225.5703777996823,
          2425.2790286692325,
          3508.526954438421,
          1613.534135327558,
          -2641.445438038907,
          1445.3840699575376,
          -898.2904238472693,
          -6503.7966577160405,
          -1519.8533268215833,
          -5490.092955668108,
          -5870.652025854448,
          -7480.069812280359,
          2302.8823002236895,
          1141.5441796309315,
          3323.794337467756,
          6098.036829728517,
          2136.8482898189686,
          4591.873033927288,
          -844.1830038315384,
          -446.4523256077664,
          2774.66038125637,
          2316.77803694224
         ],
         "yaxis": "y4"
        }
       ],
       "layout": {
        "annotations": [
         {
          "font": {
           "size": 16
          },
          "showarrow": false,
          "text": "Tesla Production",
          "x": 0.225,
          "xanchor": "center",
          "xref": "paper",
          "y": 1,
          "yanchor": "bottom",
          "yref": "paper"
         },
         {
          "font": {
           "size": 16
          },
          "showarrow": false,
          "text": "Real Output per Hour",
          "x": 0.775,
          "xanchor": "center",
          "xref": "paper",
          "y": 1,
          "yanchor": "bottom",
          "yref": "paper"
         },
         {
          "font": {
           "size": 16
          },
          "showarrow": false,
          "text": "Fitted Values",
          "x": 0.225,
          "xanchor": "center",
          "xref": "paper",
          "y": 0.375,
          "yanchor": "bottom",
          "yref": "paper"
         },
         {
          "font": {
           "size": 16
          },
          "showarrow": false,
          "text": "Residuals",
          "x": 0.775,
          "xanchor": "center",
          "xref": "paper",
          "y": 0.375,
          "yanchor": "bottom",
          "yref": "paper"
         }
        ],
        "legend": {
         "bgcolor": "#F5F6F9",
         "font": {
          "color": "#4D5663"
         }
        },
        "paper_bgcolor": "#F5F6F9",
        "plot_bgcolor": "#F5F6F9",
        "title": "OLS Fitted Values Comparison",
        "titlefont": {
         "color": "#4D5663"
        },
        "xaxis1": {
         "anchor": "y1",
         "domain": [
          0,
          0.45
         ],
         "gridcolor": "#E1E5ED",
         "showgrid": true,
         "tickfont": {
          "color": "#4D5663"
         },
         "title": "",
         "titlefont": {
          "color": "#4D5663"
         },
         "zerolinecolor": "#E1E5ED"
        },
        "xaxis2": {
         "anchor": "y2",
         "domain": [
          0.55,
          1
         ]
        },
        "xaxis3": {
         "anchor": "y3",
         "domain": [
          0,
          0.45
         ]
        },
        "xaxis4": {
         "anchor": "y4",
         "domain": [
          0.55,
          1
         ]
        },
        "yaxis1": {
         "anchor": "x1",
         "domain": [
          0.625,
          1
         ],
         "gridcolor": "#E1E5ED",
         "showgrid": true,
         "tickfont": {
          "color": "#4D5663"
         },
         "title": "",
         "titlefont": {
          "color": "#4D5663"
         },
         "zerolinecolor": "#E1E5ED"
        },
        "yaxis2": {
         "anchor": "x2",
         "domain": [
          0.625,
          1
         ]
        },
        "yaxis3": {
         "anchor": "x3",
         "domain": [
          0,
          0.375
         ]
        },
        "yaxis4": {
         "anchor": "x4",
         "domain": [
          0,
          0.375
         ]
        }
       }
      },
      "text/html": [
       "<div id=\"b339f44a-f65b-4346-9860-ab2be439854a\" style=\"height: 525px; width: 100%;\" class=\"plotly-graph-div\"></div><script type=\"text/javascript\">require([\"plotly\"], function(Plotly) { window.PLOTLYENV=window.PLOTLYENV || {};window.PLOTLYENV.BASE_URL=\"https://plot.ly\";Plotly.newPlot(\"b339f44a-f65b-4346-9860-ab2be439854a\", [{\"type\": \"scatter\", \"x\": [\"2012Q3\", \"2012Q4\", \"2013Q1\", \"2013Q2\", \"2013Q3\", \"2013Q4\", \"2014Q1\", \"2014Q2\", \"2014Q3\", \"2014Q4\", \"2015Q1\", \"2015Q2\", \"2015Q3\", \"2015Q4\", \"2016Q1\", \"2016Q2\", \"2016Q3\", \"2016Q4\", \"2017Q1\", \"2017Q2\", \"2017Q3\", \"2017Q4\", \"2018Q1\"], \"y\": [321, 2400, 4900, 5150, 5500, 6892, 6457, 7579, 7785, 9834, 10030, 11507, 11580, 17478, 14820, 18345, 24500, 22200, 25000, 22000, 26150, 29870, 29980], \"name\": \"Tesla Production\", \"text\": \"\", \"line\": {\"color\": \"#1b073a\", \"width\": 1.3, \"dash\": \"solid\", \"shape\": \"linear\"}, \"mode\": \"lines\", \"xaxis\": \"x1\", \"yaxis\": \"y1\"}, {\"type\": \"scatter\", \"x\": [\"2012Q3\", \"2012Q4\", \"2013Q1\", \"2013Q2\", \"2013Q3\", \"2013Q4\", \"2014Q1\", \"2014Q2\", \"2014Q3\", \"2014Q4\", \"2015Q1\", \"2015Q2\", \"2015Q3\", \"2015Q4\", \"2016Q1\", \"2016Q2\", \"2016Q3\", \"2016Q4\", \"2017Q1\", \"2017Q2\", \"2017Q3\", \"2017Q4\", \"2018Q1\"], \"y\": [104.50299999999999, 104.059, 104.304, 104.147, 104.57, 105.634, 104.78200000000001, 105.435, 106.53, 105.977, 106.762, 107.11200000000001, 107.429, 106.697, 106.415, 106.66799999999999, 107.305, 107.618, 107.68299999999999, 108.14200000000001, 108.84899999999999, 108.943, 109.05], \"name\": \"Real Output per Hour\", \"text\": \"\", \"line\": {\"color\": \"#ff0074\", \"width\": 1.3, \"dash\": \"solid\", \"shape\": \"linear\"}, \"mode\": \"lines\", \"xaxis\": \"x2\", \"yaxis\": \"y2\"}, {\"type\": \"scatter\", \"x\": [\"2012Q3\", \"2012Q4\", \"2013Q1\", \"2013Q2\", \"2013Q3\", \"2013Q4\", \"2014Q1\", \"2014Q2\", \"2014Q3\", \"2014Q4\", \"2015Q1\", \"2015Q2\", \"2015Q3\", \"2015Q4\", \"2016Q1\", \"2016Q2\", \"2016Q3\", \"2016Q4\", \"2017Q1\", \"2017Q2\", \"2017Q3\", \"2017Q4\", \"2018Q1\"], \"y\": [3530.8759855224052, 1174.4296222003177, 2474.7209713307675, 1641.473045561579, 3886.465864672442, 9533.445438038907, 5011.615930042462, 8477.29042384727, 14288.79665771604, 11353.853326821583, 15520.092955668108, 17377.652025854448, 19060.06981228036, 15175.11769977631, 13678.455820369069, 15021.205662532244, 18401.963170271483, 20063.15171018103, 20408.126966072712, 22844.18300383154, 26596.452325607766, 27095.33961874363, 27663.22196305776], \"name\": \"Fitted Values\", \"text\": \"\", \"line\": {\"color\": \"black\", \"width\": 1.3, \"dash\": \"solid\", \"shape\": \"linear\"}, \"mode\": \"lines\", \"xaxis\": \"x3\", \"yaxis\": \"y3\"}, {\"type\": \"scatter\", \"x\": [\"2012Q3\", \"2012Q4\", \"2013Q1\", \"2013Q2\", \"2013Q3\", \"2013Q4\", \"2014Q1\", \"2014Q2\", \"2014Q3\", \"2014Q4\", \"2015Q1\", \"2015Q2\", \"2015Q3\", \"2015Q4\", \"2016Q1\", \"2016Q2\", \"2016Q3\", \"2016Q4\", \"2017Q1\", \"2017Q2\", \"2017Q3\", \"2017Q4\", \"2018Q1\"], \"y\": [-3209.8759855224052, 1225.5703777996823, 2425.2790286692325, 3508.526954438421, 1613.534135327558, -2641.445438038907, 1445.3840699575376, -898.2904238472693, -6503.7966577160405, -1519.8533268215833, -5490.092955668108, -5870.652025854448, -7480.069812280359, 2302.8823002236895, 1141.5441796309315, 3323.794337467756, 6098.036829728517, 2136.8482898189686, 4591.873033927288, -844.1830038315384, -446.4523256077664, 2774.66038125637, 2316.77803694224], \"name\": \"Residuals\", \"text\": \"\", \"line\": {\"color\": \"red\", \"width\": 1.3, \"dash\": \"solid\", \"shape\": \"linear\"}, \"mode\": \"lines\", \"xaxis\": \"x4\", \"yaxis\": \"y4\"}], {\"xaxis1\": {\"domain\": [0.0, 0.45], \"anchor\": \"y1\", \"tickfont\": {\"color\": \"#4D5663\"}, \"gridcolor\": \"#E1E5ED\", \"titlefont\": {\"color\": \"#4D5663\"}, \"zerolinecolor\": \"#E1E5ED\", \"showgrid\": true, \"title\": \"\"}, \"yaxis1\": {\"domain\": [0.625, 1.0], \"anchor\": \"x1\", \"tickfont\": {\"color\": \"#4D5663\"}, \"gridcolor\": \"#E1E5ED\", \"titlefont\": {\"color\": \"#4D5663\"}, \"zerolinecolor\": \"#E1E5ED\", \"showgrid\": true, \"title\": \"\"}, \"xaxis2\": {\"domain\": [0.55, 1.0], \"anchor\": \"y2\"}, \"yaxis2\": {\"domain\": [0.625, 1.0], \"anchor\": \"x2\"}, \"xaxis3\": {\"domain\": [0.0, 0.45], \"anchor\": \"y3\"}, \"yaxis3\": {\"domain\": [0.0, 0.375], \"anchor\": \"x3\"}, \"xaxis4\": {\"domain\": [0.55, 1.0], \"anchor\": \"y4\"}, \"yaxis4\": {\"domain\": [0.0, 0.375], \"anchor\": \"x4\"}, \"annotations\": [{\"y\": 1.0, \"xref\": \"paper\", \"x\": 0.225, \"yref\": \"paper\", \"text\": \"Tesla Production\", \"showarrow\": false, \"font\": {\"size\": 16}, \"xanchor\": \"center\", \"yanchor\": \"bottom\"}, {\"y\": 1.0, \"xref\": \"paper\", \"x\": 0.775, \"yref\": \"paper\", \"text\": \"Real Output per Hour\", \"showarrow\": false, \"font\": {\"size\": 16}, \"xanchor\": \"center\", \"yanchor\": \"bottom\"}, {\"y\": 0.375, \"xref\": \"paper\", \"x\": 0.225, \"yref\": \"paper\", \"text\": \"Fitted Values\", \"showarrow\": false, \"font\": {\"size\": 16}, \"xanchor\": \"center\", \"yanchor\": \"bottom\"}, {\"y\": 0.375, \"xref\": \"paper\", \"x\": 0.775, \"yref\": \"paper\", \"text\": \"Residuals\", \"showarrow\": false, \"font\": {\"size\": 16}, \"xanchor\": \"center\", \"yanchor\": \"bottom\"}], \"legend\": {\"bgcolor\": \"#F5F6F9\", \"font\": {\"color\": \"#4D5663\"}}, \"paper_bgcolor\": \"#F5F6F9\", \"plot_bgcolor\": \"#F5F6F9\", \"titlefont\": {\"color\": \"#4D5663\"}, \"title\": \"OLS Fitted Values Comparison\"}, {\"showLink\": true, \"linkText\": \"Export to plot.ly\"})});</script>"
      ],
      "text/vnd.plotly.v1+html": [
       "<div id=\"b339f44a-f65b-4346-9860-ab2be439854a\" style=\"height: 525px; width: 100%;\" class=\"plotly-graph-div\"></div><script type=\"text/javascript\">require([\"plotly\"], function(Plotly) { window.PLOTLYENV=window.PLOTLYENV || {};window.PLOTLYENV.BASE_URL=\"https://plot.ly\";Plotly.newPlot(\"b339f44a-f65b-4346-9860-ab2be439854a\", [{\"type\": \"scatter\", \"x\": [\"2012Q3\", \"2012Q4\", \"2013Q1\", \"2013Q2\", \"2013Q3\", \"2013Q4\", \"2014Q1\", \"2014Q2\", \"2014Q3\", \"2014Q4\", \"2015Q1\", \"2015Q2\", \"2015Q3\", \"2015Q4\", \"2016Q1\", \"2016Q2\", \"2016Q3\", \"2016Q4\", \"2017Q1\", \"2017Q2\", \"2017Q3\", \"2017Q4\", \"2018Q1\"], \"y\": [321, 2400, 4900, 5150, 5500, 6892, 6457, 7579, 7785, 9834, 10030, 11507, 11580, 17478, 14820, 18345, 24500, 22200, 25000, 22000, 26150, 29870, 29980], \"name\": \"Tesla Production\", \"text\": \"\", \"line\": {\"color\": \"#1b073a\", \"width\": 1.3, \"dash\": \"solid\", \"shape\": \"linear\"}, \"mode\": \"lines\", \"xaxis\": \"x1\", \"yaxis\": \"y1\"}, {\"type\": \"scatter\", \"x\": [\"2012Q3\", \"2012Q4\", \"2013Q1\", \"2013Q2\", \"2013Q3\", \"2013Q4\", \"2014Q1\", \"2014Q2\", \"2014Q3\", \"2014Q4\", \"2015Q1\", \"2015Q2\", \"2015Q3\", \"2015Q4\", \"2016Q1\", \"2016Q2\", \"2016Q3\", \"2016Q4\", \"2017Q1\", \"2017Q2\", \"2017Q3\", \"2017Q4\", \"2018Q1\"], \"y\": [104.50299999999999, 104.059, 104.304, 104.147, 104.57, 105.634, 104.78200000000001, 105.435, 106.53, 105.977, 106.762, 107.11200000000001, 107.429, 106.697, 106.415, 106.66799999999999, 107.305, 107.618, 107.68299999999999, 108.14200000000001, 108.84899999999999, 108.943, 109.05], \"name\": \"Real Output per Hour\", \"text\": \"\", \"line\": {\"color\": \"#ff0074\", \"width\": 1.3, \"dash\": \"solid\", \"shape\": \"linear\"}, \"mode\": \"lines\", \"xaxis\": \"x2\", \"yaxis\": \"y2\"}, {\"type\": \"scatter\", \"x\": [\"2012Q3\", \"2012Q4\", \"2013Q1\", \"2013Q2\", \"2013Q3\", \"2013Q4\", \"2014Q1\", \"2014Q2\", \"2014Q3\", \"2014Q4\", \"2015Q1\", \"2015Q2\", \"2015Q3\", \"2015Q4\", \"2016Q1\", \"2016Q2\", \"2016Q3\", \"2016Q4\", \"2017Q1\", \"2017Q2\", \"2017Q3\", \"2017Q4\", \"2018Q1\"], \"y\": [3530.8759855224052, 1174.4296222003177, 2474.7209713307675, 1641.473045561579, 3886.465864672442, 9533.445438038907, 5011.615930042462, 8477.29042384727, 14288.79665771604, 11353.853326821583, 15520.092955668108, 17377.652025854448, 19060.06981228036, 15175.11769977631, 13678.455820369069, 15021.205662532244, 18401.963170271483, 20063.15171018103, 20408.126966072712, 22844.18300383154, 26596.452325607766, 27095.33961874363, 27663.22196305776], \"name\": \"Fitted Values\", \"text\": \"\", \"line\": {\"color\": \"black\", \"width\": 1.3, \"dash\": \"solid\", \"shape\": \"linear\"}, \"mode\": \"lines\", \"xaxis\": \"x3\", \"yaxis\": \"y3\"}, {\"type\": \"scatter\", \"x\": [\"2012Q3\", \"2012Q4\", \"2013Q1\", \"2013Q2\", \"2013Q3\", \"2013Q4\", \"2014Q1\", \"2014Q2\", \"2014Q3\", \"2014Q4\", \"2015Q1\", \"2015Q2\", \"2015Q3\", \"2015Q4\", \"2016Q1\", \"2016Q2\", \"2016Q3\", \"2016Q4\", \"2017Q1\", \"2017Q2\", \"2017Q3\", \"2017Q4\", \"2018Q1\"], \"y\": [-3209.8759855224052, 1225.5703777996823, 2425.2790286692325, 3508.526954438421, 1613.534135327558, -2641.445438038907, 1445.3840699575376, -898.2904238472693, -6503.7966577160405, -1519.8533268215833, -5490.092955668108, -5870.652025854448, -7480.069812280359, 2302.8823002236895, 1141.5441796309315, 3323.794337467756, 6098.036829728517, 2136.8482898189686, 4591.873033927288, -844.1830038315384, -446.4523256077664, 2774.66038125637, 2316.77803694224], \"name\": \"Residuals\", \"text\": \"\", \"line\": {\"color\": \"red\", \"width\": 1.3, \"dash\": \"solid\", \"shape\": \"linear\"}, \"mode\": \"lines\", \"xaxis\": \"x4\", \"yaxis\": \"y4\"}], {\"xaxis1\": {\"domain\": [0.0, 0.45], \"anchor\": \"y1\", \"tickfont\": {\"color\": \"#4D5663\"}, \"gridcolor\": \"#E1E5ED\", \"titlefont\": {\"color\": \"#4D5663\"}, \"zerolinecolor\": \"#E1E5ED\", \"showgrid\": true, \"title\": \"\"}, \"yaxis1\": {\"domain\": [0.625, 1.0], \"anchor\": \"x1\", \"tickfont\": {\"color\": \"#4D5663\"}, \"gridcolor\": \"#E1E5ED\", \"titlefont\": {\"color\": \"#4D5663\"}, \"zerolinecolor\": \"#E1E5ED\", \"showgrid\": true, \"title\": \"\"}, \"xaxis2\": {\"domain\": [0.55, 1.0], \"anchor\": \"y2\"}, \"yaxis2\": {\"domain\": [0.625, 1.0], \"anchor\": \"x2\"}, \"xaxis3\": {\"domain\": [0.0, 0.45], \"anchor\": \"y3\"}, \"yaxis3\": {\"domain\": [0.0, 0.375], \"anchor\": \"x3\"}, \"xaxis4\": {\"domain\": [0.55, 1.0], \"anchor\": \"y4\"}, \"yaxis4\": {\"domain\": [0.0, 0.375], \"anchor\": \"x4\"}, \"annotations\": [{\"y\": 1.0, \"xref\": \"paper\", \"x\": 0.225, \"yref\": \"paper\", \"text\": \"Tesla Production\", \"showarrow\": false, \"font\": {\"size\": 16}, \"xanchor\": \"center\", \"yanchor\": \"bottom\"}, {\"y\": 1.0, \"xref\": \"paper\", \"x\": 0.775, \"yref\": \"paper\", \"text\": \"Real Output per Hour\", \"showarrow\": false, \"font\": {\"size\": 16}, \"xanchor\": \"center\", \"yanchor\": \"bottom\"}, {\"y\": 0.375, \"xref\": \"paper\", \"x\": 0.225, \"yref\": \"paper\", \"text\": \"Fitted Values\", \"showarrow\": false, \"font\": {\"size\": 16}, \"xanchor\": \"center\", \"yanchor\": \"bottom\"}, {\"y\": 0.375, \"xref\": \"paper\", \"x\": 0.775, \"yref\": \"paper\", \"text\": \"Residuals\", \"showarrow\": false, \"font\": {\"size\": 16}, \"xanchor\": \"center\", \"yanchor\": \"bottom\"}], \"legend\": {\"bgcolor\": \"#F5F6F9\", \"font\": {\"color\": \"#4D5663\"}}, \"paper_bgcolor\": \"#F5F6F9\", \"plot_bgcolor\": \"#F5F6F9\", \"titlefont\": {\"color\": \"#4D5663\"}, \"title\": \"OLS Fitted Values Comparison\"}, {\"showLink\": true, \"linkText\": \"Export to plot.ly\"})});</script>"
      ]
     },
     "metadata": {},
     "output_type": "display_data"
    }
   ],
   "source": [
    "fig0 = df.iplot(\n",
    "    columns=['Tesla Production', 'Real Output per Hour', 'Fitted Values', 'Residuals'], \n",
    "    asFigure=True, \n",
    "    kind='scatter', \n",
    "    colors = {'Real Output per Hour':'#ff0074',\n",
    "          'Tesla Production':'#1b073a',\n",
    "          'Fitted Values': 'black',\n",
    "          'Residuals': 'red',\n",
    "         },\n",
    "    x='Date',\n",
    "    title='OLS Fitted Values Comparison',\n",
    "    subplots= True,\n",
    "    shape = (2,2),\n",
    "    subplot_titles = True,\n",
    "    )\n",
    "\n",
    "iplot(fig0)"
   ]
  },
  {
   "cell_type": "markdown",
   "metadata": {},
   "source": [
    "## OLS Fitted Values - Scatter Graph\n",
    "These are a collection of graphs representing the input and output data of OLS.\n",
    "\n",
    "In the bottom left graph are plotted the **Fitted Values** from the OLS regression. This represents the data input to the model and the relationship they both share, from the OLS perspective.\n",
    "\n",
    "In the bottom right graph are the plotted **Residuals** from the OLS regression. These can be seen to *generally* orbiting around the origin, so to be \"stationary\". However, there does seem to be an oscillating trend over the range of the data and so would still need to be investigated thoroughly.\n",
    "These **Residuals** would also indicate that the model on the whole is not of a good fit, due to an error in places being *>7,000*. Again, this further adds weight to utilising non-parametric models to allow for this non-linear relationship.\n",
    "***"
   ]
  },
  {
   "cell_type": "code",
   "execution_count": 258,
   "metadata": {},
   "outputs": [
    {
     "data": {
      "application/vnd.plotly.v1+json": {
       "data": [
        {
         "histfunc": "count",
         "histnorm": "probability",
         "marker": {
          "color": "#1b073a",
          "line": {
           "color": "#4D5663",
           "width": 1.3
          }
         },
         "name": "Tesla Production",
         "nbinsx": 6,
         "opacity": 0.8,
         "orientation": "v",
         "type": "histogram",
         "x": [
          321,
          2400,
          4900,
          5150,
          5500,
          6892,
          6457,
          7579,
          7785,
          9834,
          10030,
          11507,
          11580,
          17478,
          14820,
          18345,
          24500,
          22200,
          25000,
          22000,
          26150,
          29870,
          29980
         ],
         "xaxis": "x1",
         "yaxis": "y1"
        },
        {
         "histfunc": "count",
         "histnorm": "probability",
         "marker": {
          "color": "#ff0074",
          "line": {
           "color": "#4D5663",
           "width": 1.3
          }
         },
         "name": "Real Output per Hour",
         "nbinsx": 6,
         "opacity": 0.8,
         "orientation": "v",
         "type": "histogram",
         "x": [
          104.50299999999999,
          104.059,
          104.304,
          104.147,
          104.57,
          105.634,
          104.78200000000001,
          105.435,
          106.53,
          105.977,
          106.762,
          107.11200000000001,
          107.429,
          106.697,
          106.415,
          106.66799999999999,
          107.305,
          107.618,
          107.68299999999999,
          108.14200000000001,
          108.84899999999999,
          108.943,
          109.05
         ],
         "xaxis": "x2",
         "yaxis": "y2"
        },
        {
         "histfunc": "count",
         "histnorm": "probability",
         "marker": {
          "color": "black",
          "line": {
           "color": "#4D5663",
           "width": 1.3
          }
         },
         "name": "Fitted Values",
         "nbinsx": 6,
         "opacity": 0.8,
         "orientation": "v",
         "type": "histogram",
         "x": [
          3530.8759855224052,
          1174.4296222003177,
          2474.7209713307675,
          1641.473045561579,
          3886.465864672442,
          9533.445438038907,
          5011.615930042462,
          8477.29042384727,
          14288.79665771604,
          11353.853326821583,
          15520.092955668108,
          17377.652025854448,
          19060.06981228036,
          15175.11769977631,
          13678.455820369069,
          15021.205662532244,
          18401.963170271483,
          20063.15171018103,
          20408.126966072712,
          22844.18300383154,
          26596.452325607766,
          27095.33961874363,
          27663.22196305776
         ],
         "xaxis": "x3",
         "yaxis": "y3"
        },
        {
         "histfunc": "count",
         "histnorm": "probability",
         "marker": {
          "color": "red",
          "line": {
           "color": "#4D5663",
           "width": 1.3
          }
         },
         "name": "Residuals",
         "nbinsx": 6,
         "opacity": 0.8,
         "orientation": "v",
         "type": "histogram",
         "x": [
          -3209.8759855224052,
          1225.5703777996823,
          2425.2790286692325,
          3508.526954438421,
          1613.534135327558,
          -2641.445438038907,
          1445.3840699575376,
          -898.2904238472693,
          -6503.7966577160405,
          -1519.8533268215833,
          -5490.092955668108,
          -5870.652025854448,
          -7480.069812280359,
          2302.8823002236895,
          1141.5441796309315,
          3323.794337467756,
          6098.036829728517,
          2136.8482898189686,
          4591.873033927288,
          -844.1830038315384,
          -446.4523256077664,
          2774.66038125637,
          2316.77803694224
         ],
         "xaxis": "x4",
         "yaxis": "y4"
        }
       ],
       "layout": {
        "annotations": [
         {
          "font": {
           "size": 16
          },
          "showarrow": false,
          "text": "Tesla Production",
          "x": 0.225,
          "xanchor": "center",
          "xref": "paper",
          "y": 1,
          "yanchor": "bottom",
          "yref": "paper"
         },
         {
          "font": {
           "size": 16
          },
          "showarrow": false,
          "text": "Real Output per Hour",
          "x": 0.775,
          "xanchor": "center",
          "xref": "paper",
          "y": 1,
          "yanchor": "bottom",
          "yref": "paper"
         },
         {
          "font": {
           "size": 16
          },
          "showarrow": false,
          "text": "Fitted Values",
          "x": 0.225,
          "xanchor": "center",
          "xref": "paper",
          "y": 0.375,
          "yanchor": "bottom",
          "yref": "paper"
         },
         {
          "font": {
           "size": 16
          },
          "showarrow": false,
          "text": "Residuals",
          "x": 0.775,
          "xanchor": "center",
          "xref": "paper",
          "y": 0.375,
          "yanchor": "bottom",
          "yref": "paper"
         }
        ],
        "barmode": "overlay",
        "legend": {
         "bgcolor": "#F5F6F9",
         "font": {
          "color": "#4D5663"
         }
        },
        "paper_bgcolor": "#F5F6F9",
        "plot_bgcolor": "#F5F6F9",
        "showlegend": true,
        "title": "Distributions",
        "titlefont": {
         "color": "#4D5663"
        },
        "xaxis1": {
         "anchor": "y1",
         "domain": [
          0,
          0.45
         ],
         "gridcolor": "#E1E5ED",
         "showgrid": true,
         "tickfont": {
          "color": "#4D5663"
         },
         "title": "",
         "titlefont": {
          "color": "#4D5663"
         },
         "zerolinecolor": "#E1E5ED"
        },
        "xaxis2": {
         "anchor": "y2",
         "domain": [
          0.55,
          1
         ]
        },
        "xaxis3": {
         "anchor": "y3",
         "domain": [
          0,
          0.45
         ]
        },
        "xaxis4": {
         "anchor": "y4",
         "domain": [
          0.55,
          1
         ]
        },
        "yaxis1": {
         "anchor": "x1",
         "domain": [
          0.625,
          1
         ],
         "gridcolor": "#E1E5ED",
         "showgrid": true,
         "tickfont": {
          "color": "#4D5663"
         },
         "title": "Frequency",
         "titlefont": {
          "color": "#4D5663"
         },
         "zerolinecolor": "#E1E5ED"
        },
        "yaxis2": {
         "anchor": "x2",
         "domain": [
          0.625,
          1
         ]
        },
        "yaxis3": {
         "anchor": "x3",
         "domain": [
          0,
          0.375
         ]
        },
        "yaxis4": {
         "anchor": "x4",
         "domain": [
          0,
          0.375
         ]
        }
       }
      },
      "text/html": [
       "<div id=\"f24212e0-bdfc-4f87-a94e-c8491b26782d\" style=\"height: 525px; width: 100%;\" class=\"plotly-graph-div\"></div><script type=\"text/javascript\">require([\"plotly\"], function(Plotly) { window.PLOTLYENV=window.PLOTLYENV || {};window.PLOTLYENV.BASE_URL=\"https://plot.ly\";Plotly.newPlot(\"f24212e0-bdfc-4f87-a94e-c8491b26782d\", [{\"type\": \"histogram\", \"x\": [321, 2400, 4900, 5150, 5500, 6892, 6457, 7579, 7785, 9834, 10030, 11507, 11580, 17478, 14820, 18345, 24500, 22200, 25000, 22000, 26150, 29870, 29980], \"name\": \"Tesla Production\", \"marker\": {\"color\": \"#1b073a\", \"line\": {\"width\": 1.3, \"color\": \"#4D5663\"}}, \"orientation\": \"v\", \"opacity\": 0.8, \"histfunc\": \"count\", \"histnorm\": \"probability\", \"nbinsx\": 6, \"xaxis\": \"x1\", \"yaxis\": \"y1\"}, {\"type\": \"histogram\", \"x\": [104.50299999999999, 104.059, 104.304, 104.147, 104.57, 105.634, 104.78200000000001, 105.435, 106.53, 105.977, 106.762, 107.11200000000001, 107.429, 106.697, 106.415, 106.66799999999999, 107.305, 107.618, 107.68299999999999, 108.14200000000001, 108.84899999999999, 108.943, 109.05], \"name\": \"Real Output per Hour\", \"marker\": {\"color\": \"#ff0074\", \"line\": {\"width\": 1.3, \"color\": \"#4D5663\"}}, \"orientation\": \"v\", \"opacity\": 0.8, \"histfunc\": \"count\", \"histnorm\": \"probability\", \"nbinsx\": 6, \"xaxis\": \"x2\", \"yaxis\": \"y2\"}, {\"type\": \"histogram\", \"x\": [3530.8759855224052, 1174.4296222003177, 2474.7209713307675, 1641.473045561579, 3886.465864672442, 9533.445438038907, 5011.615930042462, 8477.29042384727, 14288.79665771604, 11353.853326821583, 15520.092955668108, 17377.652025854448, 19060.06981228036, 15175.11769977631, 13678.455820369069, 15021.205662532244, 18401.963170271483, 20063.15171018103, 20408.126966072712, 22844.18300383154, 26596.452325607766, 27095.33961874363, 27663.22196305776], \"name\": \"Fitted Values\", \"marker\": {\"color\": \"black\", \"line\": {\"width\": 1.3, \"color\": \"#4D5663\"}}, \"orientation\": \"v\", \"opacity\": 0.8, \"histfunc\": \"count\", \"histnorm\": \"probability\", \"nbinsx\": 6, \"xaxis\": \"x3\", \"yaxis\": \"y3\"}, {\"type\": \"histogram\", \"x\": [-3209.8759855224052, 1225.5703777996823, 2425.2790286692325, 3508.526954438421, 1613.534135327558, -2641.445438038907, 1445.3840699575376, -898.2904238472693, -6503.7966577160405, -1519.8533268215833, -5490.092955668108, -5870.652025854448, -7480.069812280359, 2302.8823002236895, 1141.5441796309315, 3323.794337467756, 6098.036829728517, 2136.8482898189686, 4591.873033927288, -844.1830038315384, -446.4523256077664, 2774.66038125637, 2316.77803694224], \"name\": \"Residuals\", \"marker\": {\"color\": \"red\", \"line\": {\"width\": 1.3, \"color\": \"#4D5663\"}}, \"orientation\": \"v\", \"opacity\": 0.8, \"histfunc\": \"count\", \"histnorm\": \"probability\", \"nbinsx\": 6, \"xaxis\": \"x4\", \"yaxis\": \"y4\"}], {\"xaxis1\": {\"domain\": [0.0, 0.45], \"anchor\": \"y1\", \"tickfont\": {\"color\": \"#4D5663\"}, \"gridcolor\": \"#E1E5ED\", \"titlefont\": {\"color\": \"#4D5663\"}, \"zerolinecolor\": \"#E1E5ED\", \"showgrid\": true, \"title\": \"\"}, \"yaxis1\": {\"domain\": [0.625, 1.0], \"anchor\": \"x1\", \"tickfont\": {\"color\": \"#4D5663\"}, \"gridcolor\": \"#E1E5ED\", \"titlefont\": {\"color\": \"#4D5663\"}, \"zerolinecolor\": \"#E1E5ED\", \"showgrid\": true, \"title\": \"Frequency\"}, \"xaxis2\": {\"domain\": [0.55, 1.0], \"anchor\": \"y2\"}, \"yaxis2\": {\"domain\": [0.625, 1.0], \"anchor\": \"x2\"}, \"xaxis3\": {\"domain\": [0.0, 0.45], \"anchor\": \"y3\"}, \"yaxis3\": {\"domain\": [0.0, 0.375], \"anchor\": \"x3\"}, \"xaxis4\": {\"domain\": [0.55, 1.0], \"anchor\": \"y4\"}, \"yaxis4\": {\"domain\": [0.0, 0.375], \"anchor\": \"x4\"}, \"annotations\": [{\"y\": 1.0, \"xref\": \"paper\", \"x\": 0.225, \"yref\": \"paper\", \"text\": \"Tesla Production\", \"showarrow\": false, \"font\": {\"size\": 16}, \"xanchor\": \"center\", \"yanchor\": \"bottom\"}, {\"y\": 1.0, \"xref\": \"paper\", \"x\": 0.775, \"yref\": \"paper\", \"text\": \"Real Output per Hour\", \"showarrow\": false, \"font\": {\"size\": 16}, \"xanchor\": \"center\", \"yanchor\": \"bottom\"}, {\"y\": 0.375, \"xref\": \"paper\", \"x\": 0.225, \"yref\": \"paper\", \"text\": \"Fitted Values\", \"showarrow\": false, \"font\": {\"size\": 16}, \"xanchor\": \"center\", \"yanchor\": \"bottom\"}, {\"y\": 0.375, \"xref\": \"paper\", \"x\": 0.775, \"yref\": \"paper\", \"text\": \"Residuals\", \"showarrow\": false, \"font\": {\"size\": 16}, \"xanchor\": \"center\", \"yanchor\": \"bottom\"}], \"legend\": {\"bgcolor\": \"#F5F6F9\", \"font\": {\"color\": \"#4D5663\"}}, \"paper_bgcolor\": \"#F5F6F9\", \"plot_bgcolor\": \"#F5F6F9\", \"titlefont\": {\"color\": \"#4D5663\"}, \"title\": \"Distributions\", \"showlegend\": true, \"barmode\": \"overlay\"}, {\"showLink\": true, \"linkText\": \"Export to plot.ly\"})});</script>"
      ],
      "text/vnd.plotly.v1+html": [
       "<div id=\"f24212e0-bdfc-4f87-a94e-c8491b26782d\" style=\"height: 525px; width: 100%;\" class=\"plotly-graph-div\"></div><script type=\"text/javascript\">require([\"plotly\"], function(Plotly) { window.PLOTLYENV=window.PLOTLYENV || {};window.PLOTLYENV.BASE_URL=\"https://plot.ly\";Plotly.newPlot(\"f24212e0-bdfc-4f87-a94e-c8491b26782d\", [{\"type\": \"histogram\", \"x\": [321, 2400, 4900, 5150, 5500, 6892, 6457, 7579, 7785, 9834, 10030, 11507, 11580, 17478, 14820, 18345, 24500, 22200, 25000, 22000, 26150, 29870, 29980], \"name\": \"Tesla Production\", \"marker\": {\"color\": \"#1b073a\", \"line\": {\"width\": 1.3, \"color\": \"#4D5663\"}}, \"orientation\": \"v\", \"opacity\": 0.8, \"histfunc\": \"count\", \"histnorm\": \"probability\", \"nbinsx\": 6, \"xaxis\": \"x1\", \"yaxis\": \"y1\"}, {\"type\": \"histogram\", \"x\": [104.50299999999999, 104.059, 104.304, 104.147, 104.57, 105.634, 104.78200000000001, 105.435, 106.53, 105.977, 106.762, 107.11200000000001, 107.429, 106.697, 106.415, 106.66799999999999, 107.305, 107.618, 107.68299999999999, 108.14200000000001, 108.84899999999999, 108.943, 109.05], \"name\": \"Real Output per Hour\", \"marker\": {\"color\": \"#ff0074\", \"line\": {\"width\": 1.3, \"color\": \"#4D5663\"}}, \"orientation\": \"v\", \"opacity\": 0.8, \"histfunc\": \"count\", \"histnorm\": \"probability\", \"nbinsx\": 6, \"xaxis\": \"x2\", \"yaxis\": \"y2\"}, {\"type\": \"histogram\", \"x\": [3530.8759855224052, 1174.4296222003177, 2474.7209713307675, 1641.473045561579, 3886.465864672442, 9533.445438038907, 5011.615930042462, 8477.29042384727, 14288.79665771604, 11353.853326821583, 15520.092955668108, 17377.652025854448, 19060.06981228036, 15175.11769977631, 13678.455820369069, 15021.205662532244, 18401.963170271483, 20063.15171018103, 20408.126966072712, 22844.18300383154, 26596.452325607766, 27095.33961874363, 27663.22196305776], \"name\": \"Fitted Values\", \"marker\": {\"color\": \"black\", \"line\": {\"width\": 1.3, \"color\": \"#4D5663\"}}, \"orientation\": \"v\", \"opacity\": 0.8, \"histfunc\": \"count\", \"histnorm\": \"probability\", \"nbinsx\": 6, \"xaxis\": \"x3\", \"yaxis\": \"y3\"}, {\"type\": \"histogram\", \"x\": [-3209.8759855224052, 1225.5703777996823, 2425.2790286692325, 3508.526954438421, 1613.534135327558, -2641.445438038907, 1445.3840699575376, -898.2904238472693, -6503.7966577160405, -1519.8533268215833, -5490.092955668108, -5870.652025854448, -7480.069812280359, 2302.8823002236895, 1141.5441796309315, 3323.794337467756, 6098.036829728517, 2136.8482898189686, 4591.873033927288, -844.1830038315384, -446.4523256077664, 2774.66038125637, 2316.77803694224], \"name\": \"Residuals\", \"marker\": {\"color\": \"red\", \"line\": {\"width\": 1.3, \"color\": \"#4D5663\"}}, \"orientation\": \"v\", \"opacity\": 0.8, \"histfunc\": \"count\", \"histnorm\": \"probability\", \"nbinsx\": 6, \"xaxis\": \"x4\", \"yaxis\": \"y4\"}], {\"xaxis1\": {\"domain\": [0.0, 0.45], \"anchor\": \"y1\", \"tickfont\": {\"color\": \"#4D5663\"}, \"gridcolor\": \"#E1E5ED\", \"titlefont\": {\"color\": \"#4D5663\"}, \"zerolinecolor\": \"#E1E5ED\", \"showgrid\": true, \"title\": \"\"}, \"yaxis1\": {\"domain\": [0.625, 1.0], \"anchor\": \"x1\", \"tickfont\": {\"color\": \"#4D5663\"}, \"gridcolor\": \"#E1E5ED\", \"titlefont\": {\"color\": \"#4D5663\"}, \"zerolinecolor\": \"#E1E5ED\", \"showgrid\": true, \"title\": \"Frequency\"}, \"xaxis2\": {\"domain\": [0.55, 1.0], \"anchor\": \"y2\"}, \"yaxis2\": {\"domain\": [0.625, 1.0], \"anchor\": \"x2\"}, \"xaxis3\": {\"domain\": [0.0, 0.45], \"anchor\": \"y3\"}, \"yaxis3\": {\"domain\": [0.0, 0.375], \"anchor\": \"x3\"}, \"xaxis4\": {\"domain\": [0.55, 1.0], \"anchor\": \"y4\"}, \"yaxis4\": {\"domain\": [0.0, 0.375], \"anchor\": \"x4\"}, \"annotations\": [{\"y\": 1.0, \"xref\": \"paper\", \"x\": 0.225, \"yref\": \"paper\", \"text\": \"Tesla Production\", \"showarrow\": false, \"font\": {\"size\": 16}, \"xanchor\": \"center\", \"yanchor\": \"bottom\"}, {\"y\": 1.0, \"xref\": \"paper\", \"x\": 0.775, \"yref\": \"paper\", \"text\": \"Real Output per Hour\", \"showarrow\": false, \"font\": {\"size\": 16}, \"xanchor\": \"center\", \"yanchor\": \"bottom\"}, {\"y\": 0.375, \"xref\": \"paper\", \"x\": 0.225, \"yref\": \"paper\", \"text\": \"Fitted Values\", \"showarrow\": false, \"font\": {\"size\": 16}, \"xanchor\": \"center\", \"yanchor\": \"bottom\"}, {\"y\": 0.375, \"xref\": \"paper\", \"x\": 0.775, \"yref\": \"paper\", \"text\": \"Residuals\", \"showarrow\": false, \"font\": {\"size\": 16}, \"xanchor\": \"center\", \"yanchor\": \"bottom\"}], \"legend\": {\"bgcolor\": \"#F5F6F9\", \"font\": {\"color\": \"#4D5663\"}}, \"paper_bgcolor\": \"#F5F6F9\", \"plot_bgcolor\": \"#F5F6F9\", \"titlefont\": {\"color\": \"#4D5663\"}, \"title\": \"Distributions\", \"showlegend\": true, \"barmode\": \"overlay\"}, {\"showLink\": true, \"linkText\": \"Export to plot.ly\"})});</script>"
      ]
     },
     "metadata": {},
     "output_type": "display_data"
    }
   ],
   "source": [
    "fig0 = df.iplot(\n",
    "    columns=['Tesla Production','Real Output per Hour', 'Fitted Values', 'Residuals'], \n",
    "    asFigure=True, \n",
    "    kind='histogram', \n",
    "    showlegend=True,\n",
    "    colors = {'Real Output per Hour':'#ff0074',\n",
    "              'Tesla Production':'#1b073a',\n",
    "              'Fitted Values': 'black',\n",
    "              'Residuals': 'red',\n",
    "             },\n",
    "    title='Distributions',\n",
    "    yTitle='Frequency',\n",
    "    histnorm='probability',\n",
    "    subplots=True,\n",
    "    shape=(2,2),\n",
    "    subplot_titles = True,\n",
    "    bins=6,\n",
    "#     dimensions=(1000,1200)\n",
    "    )\n",
    "\n",
    "iplot(fig0)"
   ]
  },
  {
   "cell_type": "markdown",
   "metadata": {},
   "source": [
    "## OLS Fitted Values - Histogram\n",
    "This shows the distribution of the **Fitted Values**, which since \"fitting\" in OLS have become more normally distributed. There is still a clustering around the origin which would could be accomodated for through models such as Weighted Least Squares.\n",
    "\n",
    "The **Residuals** show a near-normal distribution on the negative side of the origin, but a bias on the positive suggesting that the model is consistently over-estimating the observed data and when it under-estimates does so by a smaller margin of error.\n",
    "***"
   ]
  },
  {
   "cell_type": "code",
   "execution_count": null,
   "metadata": {},
   "outputs": [],
   "source": [
    "Auto correlation of errors, they are related, ommitted variables etc."
   ]
  },
  {
   "cell_type": "code",
   "execution_count": 259,
   "metadata": {},
   "outputs": [
    {
     "data": {
      "text/plain": [
       "0.9456521739130436"
      ]
     },
     "execution_count": 259,
     "metadata": {},
     "output_type": "execute_result"
    }
   ],
   "source": [
    "df['Tesla Production'].corr(df['Real Output per Hour'], method='spearman')"
   ]
  },
  {
   "cell_type": "markdown",
   "metadata": {},
   "source": [
    "## Spearman Rank Correlation\n",
    "This measures the monotonic relationship between two datasets, such that as one variable gets larger so does the other. It has been established throughout this notebook that there is a correlation between these two datasets, but we are yet to test for a relationship that is non-linear in nature.\n",
    "\n",
    "Spearmans Rank allows for us to quickly and succintly measure the correlation of any non-parametric interval/ratio/ordinal data with easy interpretation. The returned value ranges from -1 to +1, where ±1 represents a perfect relationship between the data and 0 represents no relationship. Positive or negative signs on the value represents the positive/negative style to the relationship.\n",
    "\n",
    "In this case Spearman Rank = 0.946 (3 d.p.) which shows an extremely strong monotonic relationship between the data. Spearmans value is noticeably higher than the adj. R-squared = 0.708, primarily due to the latter relying on a linear relationship between the datasets. Adding weight to the arguement from earlier in this notebook that a non-parametric (non-linear) model could fit the relationship better.\n",
    "***"
   ]
  },
  {
   "cell_type": "markdown",
   "metadata": {},
   "source": [
    "## Conclusion\n",
    "Despite the statistical flaws outligned in the [Statistical Disclaimer](##statistical-disclaimer), there plausible insights that have been found. I've also tried to point out throughout the workbook what direction to go in to make these results robust; even though they are likely to always be spurious given the nature of the datasets!\n",
    "\n",
    "The inference that Tesla Production, if the figures could be known directly from Tesla, could be a leading indicator of Real Output per Hour is plausible. Since the latter is released on the first Friday of the following month by the Bureau of Labour Statistics, there will usually be a lead on the Tesla data by a couple of days. Resulting in it being a potential predictor of USD($) Forex price estimation, given its large effect on the [financial markets](https://www.poundsterlinglive.com/usd/8831-us-dollar-eyes-non-farm-payrolls-and-wages-data-as-latest-trade-tensions-rile-markets).\n",
    "\n",
    "For future work purposes, these hurdles would need to be overcome with these specific pieces of data:\n",
    "- Non-parametric model would fit better\n",
    "- Heteroskedasticity robust \n",
    "- Potentially unit-root robust\n",
    "\n",
    "\n",
    "\n"
   ]
  },
  {
   "cell_type": "code",
   "execution_count": null,
   "metadata": {},
   "outputs": [],
   "source": []
  }
 ],
 "metadata": {
  "kernelspec": {
   "display_name": "Python 3",
   "language": "python",
   "name": "python3"
  },
  "language_info": {
   "codemirror_mode": {
    "name": "ipython",
    "version": 3
   },
   "file_extension": ".py",
   "mimetype": "text/x-python",
   "name": "python",
   "nbconvert_exporter": "python",
   "pygments_lexer": "ipython3",
   "version": "3.6.5"
  }
 },
 "nbformat": 4,
 "nbformat_minor": 2
}
